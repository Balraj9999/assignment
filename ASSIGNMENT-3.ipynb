{
 "cells": [
  {
   "cell_type": "markdown",
   "id": "507ad8de",
   "metadata": {},
   "source": [
    "#Q1. What are the characteristics of the tuples? Is tuple immutable?\n",
    "the characteristics of the tuple is\n",
    "->a tuple is immutable\n",
    "->it follows insertion order\n",
    "->slicing and indexing is not possible\n",
    "->to convert any other data_type to tuple is done by tuple(other,data_type)\n",
    "->it allows duplicates"
   ]
  },
  {
   "cell_type": "code",
   "execution_count": 11,
   "id": "acee2366",
   "metadata": {},
   "outputs": [
    {
     "name": "stdout",
     "output_type": "stream",
     "text": [
      "the count of 7 is:3\n",
      "the index of 2 is 1\n"
     ]
    },
    {
     "data": {
      "text/plain": [
       "'\\nthe reason that tuple has only two methods because it is imutable so so updation or modification is not possible\\nbut list is mutable so we able to modify and update this is the reason for tuple having only two methods which are\\nnon updation methods'"
      ]
     },
     "execution_count": 11,
     "metadata": {},
     "output_type": "execute_result"
    }
   ],
   "source": [
    "#Q2. What are the two tuple methods in python? Give an example of each method. Give a reason why\n",
    "#tuples have only two in-built methods as compared to Lists.\n",
    "\n",
    "'In tuple we have two methods namely'\n",
    "'1)count'\n",
    "'2)index'\n",
    "\n",
    "'examples'\n",
    "#1\n",
    "a=(1,2,3,4,5,6,7,7,7)\n",
    "k=a.count(7)\n",
    "print(\"the count of 7 is:{}\".format(k))\n",
    "#2\n",
    "b=(1,2,3,4)\n",
    "i=b.index(2)\n",
    "print(\"the index of 2 is\",i)\n",
    "\n",
    "\"\"\"\n",
    "the reason that tuple has only two methods because it is imutable so so updation or modification is not possible\n",
    "but list is mutable so we able to modify and update this is the reason for tuple having only two methods which are\n",
    "non updation methods\"\"\""
   ]
  },
  {
   "cell_type": "code",
   "execution_count": 12,
   "id": "1144f129",
   "metadata": {},
   "outputs": [
    {
     "name": "stdout",
     "output_type": "stream",
     "text": [
      "set without duplicates {1, 2, 3, 4}\n"
     ]
    }
   ],
   "source": [
    "#Q3.  Which collection datatypes in python do not allow duplicate items? Write a code using a set to remove\n",
    "#duplicates from the given list.\n",
    "\"set datatype doesnot allow duplicate items\"\n",
    "#code to remove duplicates in set\n",
    "List = [1, 1, 1, 2, 1, 3, 1, 4, 2, 1, 2, 2, 2, 3, 2, 4, 3, 1, 3, 2, 3, 3, 3, 4, 4, 1, 4, 2, 4, 3, 4, 4]\n",
    "s_et=set(List)\n",
    "print(\"set without duplicates\",s_et)"
   ]
  },
  {
   "cell_type": "code",
   "execution_count": 19,
   "id": "43c03fd3",
   "metadata": {},
   "outputs": [
    {
     "name": "stdout",
     "output_type": "stream",
     "text": [
      "union of the sets is: {1, 2, 3, 4, 5, 6}\n",
      "the updated set is: {1, 2, 3, 4, 5, 6}\n",
      "the updated set2 is {1, 2, 5, 6, 10, 11, 12, 13}\n"
     ]
    }
   ],
   "source": [
    "#4.Explain the difference between the union() and update() methods for a set. Give an example of\n",
    "#each method.\n",
    "#difference between union() and update()\n",
    "\"\"\"\n",
    "In set union method returns the set with unique elements among two sets without any modification in any of the sets\n",
    "but update modifies the existing set by adding elements of another set or any other iterables like list tuple etc\n",
    "it also gives the set with unique elements\"\"\"\n",
    "#examples\n",
    "set1={1,2,3,4,}\n",
    "set2={1,2,5,6}\n",
    "lst=[10,11,12,13]\n",
    "u_nion=set1.union(set2)\n",
    "print('union of the sets is:',u_nion)\n",
    "set1.update(set2)\n",
    "print(\"the updated set is:\",set1)\n",
    "set2.update(lst)\n",
    "print(\"the updated set2 is\",set2)"
   ]
  },
  {
   "cell_type": "markdown",
   "id": "52691df0",
   "metadata": {},
   "source": [
    "#Q5. What is a dictionary? Give an example. Also, state whether a dictionary is ordered or unordered.\n",
    "a dictonary is a built in data structure which stores a collection of key value pairs symbolically {k:v}\n",
    "where k is key and v is value or dict() it is ordered."
   ]
  },
  {
   "cell_type": "code",
   "execution_count": 35,
   "id": "ee000338",
   "metadata": {},
   "outputs": [
    {
     "name": "stdout",
     "output_type": "stream",
     "text": [
      "{'name': 'balraj', 'maths': 87, 'sanscrit': 88, 'social': 76}\n"
     ]
    }
   ],
   "source": [
    "#example\n",
    "student_score={\n",
    "    'name':'balraj',\n",
    "    'maths':87,\n",
    "    'sanscrit':88,\n",
    "    'social':76\n",
    "}\n",
    "print(student_score)"
   ]
  },
  {
   "cell_type": "code",
   "execution_count": 26,
   "id": "1842d1f1",
   "metadata": {},
   "outputs": [
    {
     "name": "stdout",
     "output_type": "stream",
     "text": [
      "balraj\n",
      "88\n",
      "o\n"
     ]
    }
   ],
   "source": [
    "#Q6. Can we create a nested dictionary? If so, please give an example by creating a simple one-level\n",
    "#necesary conditions\n",
    "\n",
    "\"yes we can create a nested dictonary\"\n",
    "#example\n",
    "nested_dict={\n",
    "    'student1':{\n",
    "        'name':'balraj',\n",
    "        'marks': 83,\n",
    "        'grade':'A'\n",
    "    },\n",
    "    'student2':{\n",
    "        'name':'rajesh',\n",
    "        'marks':88,\n",
    "        'grade':'A+'\n",
    "    },\n",
    "    'student3':{\n",
    "        'name':'harish',\n",
    "        'marks':92,\n",
    "        'grade':'o'\n",
    "    }\n",
    "    \n",
    "}\n",
    "print(nested_dict['student1']['name'])\n",
    "print(nested_dict['student2']['marks'])\n",
    "print(nested_dict['student3']['grade'])"
   ]
  },
  {
   "cell_type": "code",
   "execution_count": 29,
   "id": "ab44faba",
   "metadata": {},
   "outputs": [
    {
     "name": "stdout",
     "output_type": "stream",
     "text": [
      "{'language': 'Python', 'course': 'Data Science Masters', 'topics': ['Python', 'Machine Learning', 'Deep Learning']}\n"
     ]
    }
   ],
   "source": [
    "#Q7. Using setdefault() method, create key named topics in the given dictionary and also add the value of\n",
    "#the key as this list ['Python', 'Machine Learning’, 'Deep Learning']\n",
    "\n",
    "dict1 = {'language': 'Python', 'course': 'Data Science Masters'}\n",
    "dict1.setdefault('topics', ['Python', 'Machine Learning', 'Deep Learning'])\n",
    "print(dict1)\n"
   ]
  },
  {
   "cell_type": "code",
   "execution_count": 32,
   "id": "d82f042a",
   "metadata": {},
   "outputs": [
    {
     "data": {
      "text/plain": [
       "'\\nin python dictonary have three view objects which provides dynamic view of the dictonarys\\nkeys,values,and key_value pairs'"
      ]
     },
     "execution_count": 32,
     "metadata": {},
     "output_type": "execute_result"
    }
   ],
   "source": [
    "#Q8. What are the three view objects in dictionaries? Use the three in-built methods in python to display\n",
    "#these three view objects for the given dictionary.\n",
    "\"\"\"\n",
    "in python dictonary have three view objects which provides dynamic view of the dictonarys\n",
    "keys,values,and key_value pairs\"\"\""
   ]
  },
  {
   "cell_type": "code",
   "execution_count": 31,
   "id": "69024a9c",
   "metadata": {},
   "outputs": [
    {
     "name": "stdout",
     "output_type": "stream",
     "text": [
      "dict_keys: dict_keys(['Sport', 'Teams'])\n",
      "dict_values: dict_values(['Cricket', ['India', 'Australia', 'England', 'South Africa', 'Sri Lanka', 'New Zealand']])\n",
      "dict_items: dict_items([('Sport', 'Cricket'), ('Teams', ['India', 'Australia', 'England', 'South Africa', 'Sri Lanka', 'New Zealand'])])\n"
     ]
    }
   ],
   "source": [
    "#8.\n",
    "dict1 = {'Sport': 'Cricket', 'Teams': ['India', 'Australia', 'England', 'South Africa', 'Sri Lanka', 'New Zealand']}\n",
    "keys_view = dict1.keys()\n",
    "print(\"dict_keys:\", keys_view)\n",
    "values_view = dict1.values()\n",
    "print(\"dict_values:\", values_view)\n",
    "items_view = dict1.items()\n",
    "print(\"dict_items:\", items_view)\n"
   ]
  }
 ],
 "metadata": {
  "kernelspec": {
   "display_name": "Python 3 (ipykernel)",
   "language": "python",
   "name": "python3"
  },
  "language_info": {
   "codemirror_mode": {
    "name": "ipython",
    "version": 3
   },
   "file_extension": ".py",
   "mimetype": "text/x-python",
   "name": "python",
   "nbconvert_exporter": "python",
   "pygments_lexer": "ipython3",
   "version": "3.9.7"
  }
 },
 "nbformat": 4,
 "nbformat_minor": 5
}
