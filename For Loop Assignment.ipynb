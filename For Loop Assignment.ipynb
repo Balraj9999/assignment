{
 "cells": [
  {
   "cell_type": "markdown",
   "id": "1114a3b8",
   "metadata": {},
   "source": [
    "# Basic Level"
   ]
  },
  {
   "cell_type": "code",
   "execution_count": 1,
   "id": "4b1408af",
   "metadata": {},
   "outputs": [
    {
     "name": "stdout",
     "output_type": "stream",
     "text": [
      "1\n",
      "2\n",
      "3\n",
      "4\n",
      "5\n",
      "6\n",
      "7\n",
      "8\n",
      "9\n",
      "10\n"
     ]
    }
   ],
   "source": [
    "#1. Write a Python program to print the numbers from 1 to 10 using a `for` loop.\n",
    "r=range(1,11)\n",
    "for i in r:\n",
    "    print(i)"
   ]
  },
  {
   "cell_type": "code",
   "execution_count": 7,
   "id": "7dbeabdd",
   "metadata": {},
   "outputs": [],
   "source": [
    "#2. Create a program that calculates the sum of all numbers in a list using a `for` loop.\n",
    "l=[1,2,3,4,5]\n",
    "def sum(l):\n",
    "    s=0\n",
    "    for i in l:\n",
    "        s=s+i\n",
    "    return s\n",
    "        "
   ]
  },
  {
   "cell_type": "code",
   "execution_count": 8,
   "id": "b80d5b3c",
   "metadata": {},
   "outputs": [
    {
     "data": {
      "text/plain": [
       "15"
      ]
     },
     "execution_count": 8,
     "metadata": {},
     "output_type": "execute_result"
    }
   ],
   "source": [
    "sum(l)"
   ]
  },
  {
   "cell_type": "code",
   "execution_count": 12,
   "id": "40f84f7c",
   "metadata": {},
   "outputs": [],
   "source": [
    "#3.Write a program to print the characters of a string in reverse order using a `for` loop.\n",
    "s='pwskills'\n",
    "def r_s(s):\n",
    "    k=''\n",
    "    for i in range(len(s)-1,-1,-1):\n",
    "        k=k+s[i]\n",
    "    return k\n",
    "    "
   ]
  },
  {
   "cell_type": "code",
   "execution_count": 13,
   "id": "78f0ca6d",
   "metadata": {},
   "outputs": [
    {
     "data": {
      "text/plain": [
       "'sllikswp'"
      ]
     },
     "execution_count": 13,
     "metadata": {},
     "output_type": "execute_result"
    }
   ],
   "source": [
    "r_s(s)"
   ]
  },
  {
   "cell_type": "code",
   "execution_count": 20,
   "id": "559abed0",
   "metadata": {},
   "outputs": [
    {
     "name": "stdout",
     "output_type": "stream",
     "text": [
      "Enter a number: 5\n",
      "Factorial of 5 is: 120\n"
     ]
    }
   ],
   "source": [
    "#4. Develop a program that finds the factorial of a given number using a `for` loop.\n",
    "def factorial(n):\n",
    "    if n < 0:\n",
    "        return \"Factorial is not defined for negative numbers\"\n",
    "    elif n == 0:\n",
    "        return 1\n",
    "    else:\n",
    "        result = 1\n",
    "        for i in range(1, n + 1):\n",
    "            result *= i\n",
    "        return result\n",
    "\n",
    "# Example usage:\n",
    "number = int(input(\"Enter a number: \"))\n",
    "factorial_result = factorial(number)\n",
    "print(\"Factorial of\", number, \"is:\", factorial_result)\n"
   ]
  },
  {
   "cell_type": "code",
   "execution_count": 21,
   "id": "42a67312",
   "metadata": {},
   "outputs": [
    {
     "name": "stdout",
     "output_type": "stream",
     "text": [
      "enter the table you want12\n",
      "12*1=12\n",
      "12*2=24\n",
      "12*3=36\n",
      "12*4=48\n",
      "12*5=60\n",
      "12*6=72\n",
      "12*7=84\n",
      "12*8=96\n",
      "12*9=108\n",
      "12*10=120\n"
     ]
    }
   ],
   "source": [
    "#5. Create a program to print the multiplication table of a given number using a `for` loop.\n",
    "n=int(input('enter the table you want'))\n",
    "for i in range(1,11):\n",
    "    print('{}*{}={}'.format(n,i,n*i))"
   ]
  },
  {
   "cell_type": "code",
   "execution_count": 31,
   "id": "385b692b",
   "metadata": {},
   "outputs": [
    {
     "name": "stdout",
     "output_type": "stream",
     "text": [
      "even_no count=2\n",
      "odd_no count=3\n"
     ]
    }
   ],
   "source": [
    "#6. Write a program that counts the number of even and odd numbers in a list using a `for` loop.\n",
    "l=[1,2,3,4,5]\n",
    "e_n=0\n",
    "o_n=0\n",
    "for i in l:\n",
    "    if i%2==0:\n",
    "        e_n=e_n+1\n",
    "    elif i%2==1:\n",
    "        o_n=o_n+1\n",
    "    else:\n",
    "        print('hello')\n",
    "print(\"even_no count={}\".format(e_n))\n",
    "print(\"odd_no count={}\".format(o_n))\n",
    "     "
   ]
  },
  {
   "cell_type": "code",
   "execution_count": 32,
   "id": "f2607206",
   "metadata": {},
   "outputs": [
    {
     "name": "stdout",
     "output_type": "stream",
     "text": [
      "1\n",
      "4\n",
      "9\n",
      "16\n",
      "25\n"
     ]
    }
   ],
   "source": [
    "#7. Develop a program that prints the squares of numbers from 1 to 5 using a `for` loop.\n",
    "a=range(1,6)\n",
    "for i in a:\n",
    "    i=i**2\n",
    "    print(i)\n",
    "    "
   ]
  },
  {
   "cell_type": "code",
   "execution_count": 36,
   "id": "46699588",
   "metadata": {},
   "outputs": [
    {
     "name": "stdout",
     "output_type": "stream",
     "text": [
      "the len of s1 is 5\n"
     ]
    }
   ],
   "source": [
    "#8.Create a program to find the length of a string without using the `len()` function.\n",
    "s1='hello'\n",
    "count=0\n",
    "for i in s1:\n",
    "    if type(i)==str:\n",
    "        count=count+1\n",
    "print(\"the len of s1 is\",count)"
   ]
  },
  {
   "cell_type": "code",
   "execution_count": 47,
   "id": "2c87cf18",
   "metadata": {},
   "outputs": [
    {
     "name": "stdout",
     "output_type": "stream",
     "text": [
      "3.0\n"
     ]
    }
   ],
   "source": [
    "#9Write a program that calculates the average of a list of numbers using a `for` loop.\n",
    "l3=[1,2,3,4,5]\n",
    "avg=0\n",
    "for i in l3:\n",
    "    if type(i)==int or type(i)==float:\n",
    "        avg=avg+i/len(l3)\n",
    "print(avg)"
   ]
  },
  {
   "cell_type": "code",
   "execution_count": 50,
   "id": "5484b4f3",
   "metadata": {},
   "outputs": [],
   "source": [
    "#10.Develop a program that prints the first `n` Fibonacci numbers using a `for` loop.\n",
    "def fib(num):\n",
    "    a=0\n",
    "    b=1\n",
    "    for i in range(num):\n",
    "        yield a\n",
    "        a,b=b,a+b"
   ]
  },
  {
   "cell_type": "code",
   "execution_count": 53,
   "id": "e3924766",
   "metadata": {},
   "outputs": [
    {
     "name": "stdout",
     "output_type": "stream",
     "text": [
      "0\n",
      "1\n",
      "1\n",
      "2\n",
      "3\n"
     ]
    }
   ],
   "source": [
    "for i in fib(5):\n",
    "    print(i)"
   ]
  },
  {
   "cell_type": "markdown",
   "id": "17924d1a",
   "metadata": {},
   "source": [
    "# Intermediate Level:"
   ]
  },
  {
   "cell_type": "code",
   "execution_count": 12,
   "id": "c723571d",
   "metadata": {},
   "outputs": [
    {
     "name": "stdout",
     "output_type": "stream",
     "text": [
      "[1, 1, 4, 4] [1, 2, 3, 4]\n"
     ]
    }
   ],
   "source": [
    "#11. Write a program to check if a given list contains any duplicates using a `for` loop.\n",
    "l5=[1,1,1,2,3,4,4,4]\n",
    "d=[]\n",
    "n_u=[]\n",
    "for i in l5:\n",
    "    if i in n_u:\n",
    "        d.append(i)\n",
    "    else:\n",
    "        n_u.append(i)\n",
    "print(d,n_u)"
   ]
  },
  {
   "cell_type": "code",
   "execution_count": 20,
   "id": "e4914e77",
   "metadata": {},
   "outputs": [
    {
     "name": "stdout",
     "output_type": "stream",
     "text": [
      "enter a number12\n",
      "enter a number32\n",
      "13\n",
      "17\n",
      "19\n",
      "23\n",
      "29\n",
      "31\n"
     ]
    }
   ],
   "source": [
    "#12. Create a program that prints the prime numbers in a given range using a `for` loop.\n",
    "def is_prime(num):\n",
    "    if num<=1:\n",
    "        return False\n",
    "    for i in range(2,int(num**0.5)+1):\n",
    "        if num%i==0:\n",
    "            return False\n",
    "    return True\n",
    " #function to print prime numbers with in a given range\n",
    "def print_prime(start,end):\n",
    "    for num in range(start,end+1):\n",
    "        if is_prime(num):\n",
    "            print(num)\n",
    "start_num=int(input(\"enter a number\"))\n",
    "end_num=int(input(\"enter a number\"))\n",
    "print_prime(start_num,end_num)"
   ]
  },
  {
   "cell_type": "code",
   "execution_count": 34,
   "id": "8c13a3be",
   "metadata": {},
   "outputs": [
    {
     "name": "stdout",
     "output_type": "stream",
     "text": [
      "e\n",
      "o\n",
      "count= 2\n"
     ]
    }
   ],
   "source": [
    "#13. Develop a program that counts the number of vowels in a string using a `for` loop.\n",
    "a='hello'\n",
    "v='aeiou'\n",
    "c=0\n",
    "for j in v:\n",
    "    for i in a:\n",
    "        if i==j:\n",
    "            c=c+1\n",
    "            print(i)\n",
    "print('count=',c)"
   ]
  },
  {
   "cell_type": "code",
   "execution_count": 35,
   "id": "77b688e0",
   "metadata": {},
   "outputs": [
    {
     "name": "stdout",
     "output_type": "stream",
     "text": [
      "the maximum element is 6\n"
     ]
    }
   ],
   "source": [
    "#14. Write a program to find the maximum element in a 2D list using a nested `for` loop.\n",
    "l6=[[1,2,3],[4,5,6]]\n",
    "m_e=0\n",
    "for i in l6:\n",
    "    for j in i:\n",
    "        if j>m_e:\n",
    "            m_e=j\n",
    "print(\"the maximum element is\",m_e)\n",
    "    "
   ]
  },
  {
   "cell_type": "code",
   "execution_count": 42,
   "id": "553e7690",
   "metadata": {},
   "outputs": [
    {
     "name": "stdout",
     "output_type": "stream",
     "text": [
      "enter the element present in list to remove1\n",
      "the new list is [2, 3, 4, 4]\n"
     ]
    }
   ],
   "source": [
    "#15. Create a program that removes all occurrences of a specific element from a list using a `for` loop.\n",
    "l7=[1,1,1,2,3,4,4]\n",
    "e_to_remove=int(input('enter the element present in list to remove'))\n",
    "n_l=[]\n",
    "for i in l7:\n",
    "    if i!=e_to_remove:\n",
    "        n_l.append(i)\n",
    "print('the new list is',n_l)"
   ]
  },
  {
   "cell_type": "code",
   "execution_count": 48,
   "id": "cacc47c9",
   "metadata": {},
   "outputs": [
    {
     "name": "stdout",
     "output_type": "stream",
     "text": [
      "1\t2\t3\t4\t5\t6\t7\t8\t9\t10\t\n",
      "2\t4\t6\t8\t10\t12\t14\t16\t18\t20\t\n",
      "3\t6\t9\t12\t15\t18\t21\t24\t27\t30\t\n",
      "4\t8\t12\t16\t20\t24\t28\t32\t36\t40\t\n",
      "5\t10\t15\t20\t25\t30\t35\t40\t45\t50\t\n"
     ]
    }
   ],
   "source": [
    "#16. Develop a program that generates a multiplication table for numbers from 1 to 5 using a nested `for` loop.\n",
    "# Initialize the list for the multiplication table\n",
    "t = [[] for _ in range(5)]\n",
    "\n",
    "# Generate the multiplication table\n",
    "for i in range(1, 6):  # Numbers from 1 to 5\n",
    "    for j in range(1, 11):  # Multiplication from 1 to 10\n",
    "        t[i - 1].append(i * j)\n",
    "\n",
    "# Print the multiplication table\n",
    "for row in t:\n",
    "    for element in row:\n",
    "        print(element, end='\\t')\n",
    "    print()  # Move to the next row\n"
   ]
  },
  {
   "cell_type": "code",
   "execution_count": 51,
   "id": "39c36472",
   "metadata": {},
   "outputs": [
    {
     "name": "stdout",
     "output_type": "stream",
     "text": [
      "69.80000000000001\n",
      "109.4\n",
      "129.2\n",
      "168.8\n"
     ]
    }
   ],
   "source": [
    "#17. Write a program that converts a list of Fahrenheit temperatures to Celsius using a `for` loop.\n",
    "t_c=[21,43,54,76]\n",
    "for i in t_c:\n",
    "    print((9/5)*i+32)\n",
    "    "
   ]
  },
  {
   "cell_type": "code",
   "execution_count": 52,
   "id": "04c39645",
   "metadata": {},
   "outputs": [
    {
     "name": "stdout",
     "output_type": "stream",
     "text": [
      "1\n",
      "2\n",
      "3\n"
     ]
    }
   ],
   "source": [
    "#18. Create a program to print the common elements from two lists using a `for` loop.\n",
    "t_l=[1,2,3,4,5]\n",
    "t_2=[1,2,3,7,8]\n",
    "for i in t_l:\n",
    "    for j in t_2:\n",
    "        if i==j:\n",
    "            print(i)"
   ]
  },
  {
   "cell_type": "code",
   "execution_count": 55,
   "id": "5f878b49",
   "metadata": {},
   "outputs": [
    {
     "name": "stdout",
     "output_type": "stream",
     "text": [
      "enter the number5\n",
      "*\n",
      "**\n",
      "***\n",
      "****\n",
      "*****\n"
     ]
    }
   ],
   "source": [
    "#19. Develop a program that prints the pattern of right-angled triangles using a `for` loop. Use ‘*’ to draw the\n",
    "#pattern\n",
    "a=int(input(\"enter the number\"))\n",
    "def triangle(r):\n",
    "    for i in range(1,r+1):\n",
    "        print('*'*i)\n",
    "triangle(a)"
   ]
  },
  {
   "cell_type": "code",
   "execution_count": 67,
   "id": "edfa7db7",
   "metadata": {},
   "outputs": [
    {
     "name": "stdout",
     "output_type": "stream",
     "text": [
      "Enter the first number: 24\n",
      "Enter the second number: 36\n",
      "12\n"
     ]
    }
   ],
   "source": [
    "#20. Write a program to find the greatest common divisor (GCD) of two numbers using a `for` loop.\n",
    "def gcd(a, b):\n",
    "    gcd_value = 1\n",
    "    min_num = min(a, b)\n",
    "    for i in range(1, min_num + 1):\n",
    "        if a % i == 0 and b % i == 0:\n",
    "            gcd_value = i\n",
    "    return gcd_value\n",
    "num1 = int(input(\"Enter the first number: \"))\n",
    "num2 = int(input(\"Enter the second number: \"))\n",
    "result = gcd(num1, num2)\n",
    "print(result)"
   ]
  },
  {
   "cell_type": "markdown",
   "id": "0cfe3173",
   "metadata": {},
   "source": [
    "# Advanced Level:"
   ]
  },
  {
   "cell_type": "code",
   "execution_count": 72,
   "id": "bf7f9c0b",
   "metadata": {},
   "outputs": [
    {
     "name": "stdout",
     "output_type": "stream",
     "text": [
      "Sum of digits for each number: [6, 15, 24]\n"
     ]
    }
   ],
   "source": [
    "#21. Create a program that calculates the sum of the digits of numbers in a list using a list comprehension.\n",
    "numbers = [123, 456, 789]\n",
    "\n",
    "[sum(map(int, str(num))) for num in numbers]\n",
    "\n",
    "print(\"Sum of digits for each number:\", sum_of_digits)\n",
    "\n"
   ]
  },
  {
   "cell_type": "code",
   "execution_count": 73,
   "id": "d3581e10",
   "metadata": {},
   "outputs": [
    {
     "name": "stdout",
     "output_type": "stream",
     "text": [
      "Enter a number to find its prime factors: 24\n",
      "Prime factors of 24 are: [2, 2, 2, 3]\n"
     ]
    }
   ],
   "source": [
    "#22 Write a program to find the prime factors of a given number using a `for` loop and list comprehension.\n",
    "def prime_factors(n):\n",
    "    factors = []\n",
    "    \n",
    "    while n % 2 == 0:\n",
    "        factors.append(2)\n",
    "        n //= 2\n",
    "    for i in range(3, int(n**0.5) + 1, 2):\n",
    "        while n % i == 0:\n",
    "            factors.append(i)\n",
    "            n //= i\n",
    "    if n > 2:\n",
    "        factors.append(n)\n",
    "    return factors\n",
    "\n",
    "num = int(input(\"Enter a number to find its prime factors: \"))\n",
    "\n",
    "result = prime_factors(num)\n",
    "\n",
    "print(\"Prime factors of\", num, \"are:\", result)"
   ]
  },
  {
   "cell_type": "code",
   "execution_count": 75,
   "id": "c6b394dc",
   "metadata": {},
   "outputs": [
    {
     "name": "stdout",
     "output_type": "stream",
     "text": [
      "Original list: [1, 2, 3, 4, 2, 3, 5, 6, 6, 7, 8, 9, 9]\n",
      "Unique elements: [1, 2, 3, 4, 5, 6, 7, 8, 9]\n"
     ]
    }
   ],
   "source": [
    "#23. Develop a program that extracts unique elements from a list and stores them in a new list using a list\n",
    "#comprehension.\n",
    "original_list = [1, 2, 3, 4, 2, 3, 5, 6, 6, 7, 8, 9, 9]\n",
    "unique_elements = [x for i, x in enumerate(original_list) if original_list.index(x) == i]\n",
    "print(\"Original list:\", original_list)\n",
    "print(\"Unique elements:\", unique_elements)\n"
   ]
  },
  {
   "cell_type": "code",
   "execution_count": 77,
   "id": "0027f99f",
   "metadata": {},
   "outputs": [
    {
     "name": "stdout",
     "output_type": "stream",
     "text": [
      "Enter the limit: 12\n",
      "Palindromic numbers up to 12 are: [1, 2, 3, 4, 5, 6, 7, 8, 9, 11]\n"
     ]
    }
   ],
   "source": [
    "#24. Create a program that generates a list of all palindromic numbers up to a specified limit using a list\n",
    "#comprehension.\n",
    "def is_palindrome(number):\n",
    "    return str(number) == str(number)[::-1]\n",
    "limit = int(input(\"Enter the limit: \"))\n",
    "palindromic_numbers = [num for num in range(1, limit + 1) if is_palindrome(num)]\n",
    "print(\"Palindromic numbers up to\", limit, \"are:\", palindromic_numbers)\n"
   ]
  },
  {
   "cell_type": "code",
   "execution_count": 86,
   "id": "0d0c71e1",
   "metadata": {},
   "outputs": [
    {
     "name": "stdout",
     "output_type": "stream",
     "text": [
      "Flattened list: [1, 2, 3, 4, 5, 6, 7, 8, 9]\n"
     ]
    }
   ],
   "source": [
    "#25. Write a program to flatten a nested list using list comprehension.\n",
    "\n",
    "nested_list = [[1, 2, 3], [ 4,5, 6], 7, [8, 9]]\n",
    "\n",
    "flattened_list = [element for sublist in nested_list for element in (sublist if isinstance(sublist, list) else [sublist])]\n",
    "\n",
    "print(\"Flattened list:\", flattened_list)\n"
   ]
  },
  {
   "cell_type": "code",
   "execution_count": 87,
   "id": "e6aa9da8",
   "metadata": {},
   "outputs": [
    {
     "name": "stdout",
     "output_type": "stream",
     "text": [
      "Sum of even numbers: 30\n",
      "Sum of odd numbers: 25\n"
     ]
    }
   ],
   "source": [
    "#26. Develop a program that computes the sum of even and odd numbers in a list separately using list\n",
    "#comprehension.\n",
    "\n",
    "numbers = [1, 2, 3, 4, 5, 6, 7, 8, 9, 10]\n",
    "sum_even = sum([num for num in numbers if num % 2 == 0])\n",
    "sum_odd = sum([num for num in numbers if num % 2 != 0])\n",
    "print(\"Sum of even numbers:\", sum_even)\n",
    "print(\"Sum of odd numbers:\", sum_odd)\n"
   ]
  },
  {
   "cell_type": "code",
   "execution_count": 90,
   "id": "7feb6145",
   "metadata": {},
   "outputs": [
    {
     "name": "stdout",
     "output_type": "stream",
     "text": [
      "[1, 9, 25, 49, 81, 121]\n"
     ]
    }
   ],
   "source": [
    "#27. Create a program that generates a list of squares of odd numbers between 1 and 10 using list\n",
    "#comprehension.\n",
    "s_o=[x**2 for x in range(1,12) if x%2 !=0]\n",
    "print(s_o)"
   ]
  },
  {
   "cell_type": "code",
   "execution_count": 91,
   "id": "226f93e3",
   "metadata": {},
   "outputs": [
    {
     "name": "stdout",
     "output_type": "stream",
     "text": [
      "Combined dictionary: {'a': 1, 'b': 2, 'c': 3}\n"
     ]
    }
   ],
   "source": [
    "#28.Write a program that combines two lists into a dictionary using list comprehension.\n",
    "keys = ['a', 'b', 'c']\n",
    "values = [1, 2, 3]\n",
    "combined_dict = {key: value for key, value in zip(keys, values)}\n",
    "print(\"Combined dictionary:\", combined_dict)"
   ]
  },
  {
   "cell_type": "code",
   "execution_count": 92,
   "id": "7b9db46c",
   "metadata": {},
   "outputs": [
    {
     "name": "stdout",
     "output_type": "stream",
     "text": [
      "vowels present in string ['e', 'o', 'o']\n"
     ]
    }
   ],
   "source": [
    "#29. Develop a program that extracts the vowels from a string and stores them in a list using list comprehension.\n",
    "input_string = \"Hello World\"\n",
    "vowels = [char for char in input_string if char.lower() in 'aeiou']\n",
    "print('vowels present in string',vowels)"
   ]
  },
  {
   "cell_type": "code",
   "execution_count": 93,
   "id": "98d0b820",
   "metadata": {},
   "outputs": [
    {
     "name": "stdout",
     "output_type": "stream",
     "text": [
      "List with non-numeric characters removed: ['123', '456', '789', '']\n"
     ]
    }
   ],
   "source": [
    "#30.Create a program that removes all non-numeric characters from a list of strings using list comprehension.\n",
    "# List of strings containing alphanumeric characters\n",
    "strings_list = [\"abc123\", \"456def\", \"789ghi\", \"jkl\"]\n",
    "\n",
    "# Remove non-numeric characters from the list using list comprehension\n",
    "numeric_strings = [''.join(char for char in string if char.isdigit()) for string in strings_list]\n",
    "\n",
    "# Print the list with non-numeric characters removed\n",
    "print(\"List with non-numeric characters removed:\", numeric_strings)\n"
   ]
  },
  {
   "cell_type": "code",
   "execution_count": 94,
   "id": "4d84b89e",
   "metadata": {},
   "outputs": [
    {
     "name": "stdout",
     "output_type": "stream",
     "text": [
      "Enter the upper limit for generating prime numbers: 23\n",
      "List of prime numbers up to 23 : [2, 3, 5, 7, 11, 13, 17, 19, 23]\n"
     ]
    }
   ],
   "source": [
    "#31. Write a program to generate a list of prime numbers using the Sieve of Eratosthenes algorithm and list\n",
    "#comprehension.\n",
    "def sieve_of_eratosthenes(n):\n",
    "    # Create a boolean list to track prime numbers\n",
    "    primes = [True] * (n + 1)\n",
    "    primes[0] = primes[1] = False\n",
    "    \n",
    "    # Apply the Sieve of Eratosthenes algorithm\n",
    "    for i in range(2, int(n**0.5) + 1):\n",
    "        if primes[i]:\n",
    "            primes[i*i:n+1:i] = [False] * len(primes[i*i:n+1:i])\n",
    "    \n",
    "    # Generate the list of prime numbers using list comprehension\n",
    "    prime_numbers = [i for i in range(2, n + 1) if primes[i]]\n",
    "    \n",
    "    return prime_numbers\n",
    "\n",
    "# Input the upper limit for generating prime numbers\n",
    "limit = int(input(\"Enter the upper limit for generating prime numbers: \"))\n",
    "\n",
    "# Generate the list of prime numbers using Sieve of Eratosthenes algorithm\n",
    "prime_numbers = sieve_of_eratosthenes(limit)\n",
    "\n",
    "# Print the list of prime numbers\n",
    "print(\"List of prime numbers up to\", limit, \":\", prime_numbers)\n"
   ]
  },
  {
   "cell_type": "code",
   "execution_count": 96,
   "id": "c307d495",
   "metadata": {},
   "outputs": [
    {
     "name": "stdout",
     "output_type": "stream",
     "text": [
      "Enter the limit for generating Pythagorean triplets: 32\n",
      "List of Pythagorean triplets up to 32 : [(3, 4, 5), (6, 8, 10), (5, 12, 13), (9, 12, 15), (8, 15, 17), (12, 16, 20), (15, 20, 25), (7, 24, 25), (10, 24, 26), (20, 21, 29), (18, 24, 30)]\n"
     ]
    }
   ],
   "source": [
    "#32. Create a program that generates a list of all Pythagorean triplets up to a specified limit using list\n",
    "#comprehension.\n",
    "# Function to generate Pythagorean triplets up to a specified limit\n",
    "def pythagorean_triplets(limit):\n",
    "    return [(a, b, c) for c in range(1, limit + 1) for b in range(1, c) for a in range(1, b) if a**2 + b**2 == c**2]\n",
    "\n",
    "# Input the limit for generating Pythagorean triplets\n",
    "limit = int(input(\"Enter the limit for generating Pythagorean triplets: \"))\n",
    "\n",
    "# Generate the list of Pythagorean triplets using list comprehension\n",
    "triplets = pythagorean_triplets(limit)\n",
    "\n",
    "# Print the list of Pythagorean triplets\n",
    "print(\"List of Pythagorean triplets up to\", limit, \":\", triplets)\n"
   ]
  },
  {
   "cell_type": "code",
   "execution_count": 98,
   "id": "f7c213a6",
   "metadata": {},
   "outputs": [
    {
     "name": "stdout",
     "output_type": "stream",
     "text": [
      "All possible combinations of two lists:\n",
      "(1, 'a')\n",
      "(1, 'b')\n",
      "(1, 'c')\n",
      "(2, 'a')\n",
      "(2, 'b')\n",
      "(2, 'c')\n",
      "(3, 'a')\n",
      "(3, 'b')\n",
      "(3, 'c')\n"
     ]
    }
   ],
   "source": [
    "#33.Develop a program that generates a list of all possible combinations of two lists using list comprehension.\n",
    "# Two lists\n",
    "list1 = [1, 2, 3]\n",
    "list2 = ['a', 'b', 'c']\n",
    "\n",
    "combinations = [(x, y) for x in list1 for y in list2]\n",
    "\n",
    "print(\"All possible combinations of two lists:\")\n",
    "for combination in combinations:\n",
    "    print(combination)\n"
   ]
  },
  {
   "cell_type": "code",
   "execution_count": 100,
   "id": "5b6251c2",
   "metadata": {},
   "outputs": [
    {
     "name": "stdout",
     "output_type": "stream",
     "text": [
      "Mean: 4.6923076923076925\n",
      "Median: 4\n",
      "Mode: 2\n"
     ]
    }
   ],
   "source": [
    "#34. Write a program that calculates the mean, median, and mode\n",
    "import numpy as np\n",
    "from statistics import median, mode\n",
    "\n",
    "numbers = [1, 2, 3, 4, 5, 6, 7, 8, 9, 10,2,2,2]\n",
    "\n",
    "mean = np.mean(numbers)\n",
    "\n",
    "median_value = median(numbers)\n",
    "try:\n",
    "    mode_value = mode(numbers)\n",
    "except StatisticsError:\n",
    "    mode_value = \"No unique mode\"\n",
    "print(\"Mean:\", mean)\n",
    "print(\"Median:\", median_value)\n",
    "print(\"Mode:\", mode_value)\n"
   ]
  },
  {
   "cell_type": "code",
   "execution_count": 103,
   "id": "af7f0cba",
   "metadata": {},
   "outputs": [
    {
     "name": "stdout",
     "output_type": "stream",
     "text": [
      "Enter the number of rows for Pascal's triangle: 4\n",
      "Pascal's triangle up to 4 rows:\n",
      "     1      \n",
      "    1 1     \n",
      "   1 2 1    \n",
      "  1 3 3 1   \n"
     ]
    }
   ],
   "source": [
    "#35. Create a program that generates Pascal's triangle up to a specified number of rows \n",
    "def generate_pascals_triangle(rows):\n",
    "    if rows == 0:\n",
    "        return []\n",
    "\n",
    "    triangle = [[1]]\n",
    "    for _ in range(1, rows):\n",
    "        previous_row = triangle[-1]\n",
    "        new_row = [1] + [previous_row[i] + previous_row[i + 1] for i in range(len(previous_row) - 1)] + [1]\n",
    "        triangle.append(new_row)\n",
    "    return triangle\n",
    "\n",
    "def print_pascals_triangle(triangle):\n",
    "    for row in triangle:\n",
    "        print(\" \".join(map(str, row)).center(len(triangle[-1]) * 3))\n",
    "\n",
    "\n",
    "num_rows = int(input(\"Enter the number of rows for Pascal's triangle: \"))\n",
    "\n",
    "\n",
    "triangle = generate_pascals_triangle(num_rows)\n",
    "\n",
    "\n",
    "print(\"Pascal's triangle up to\", num_rows, \"rows:\")\n",
    "print_pascals_triangle(triangle)\n"
   ]
  },
  {
   "cell_type": "code",
   "execution_count": 104,
   "id": "eef0831e",
   "metadata": {},
   "outputs": [
    {
     "name": "stdout",
     "output_type": "stream",
     "text": [
      "Sum of digits for factorial of 1 : 1\n",
      "Sum of digits for factorial of 2 : 2\n",
      "Sum of digits for factorial of 3 : 6\n",
      "Sum of digits for factorial of 4 : 6\n",
      "Sum of digits for factorial of 5 : 3\n"
     ]
    }
   ],
   "source": [
    "#36. Develop a program that calculates the sum of the digits of a factorial of numbers from 1 to 5 using list\n",
    "#comprehension.\n",
    "def factorial(n):\n",
    "    if n == 0:\n",
    "        return 1\n",
    "    return n * factorial(n - 1)\n",
    "\n",
    "sum_of_digits = [sum(int(digit) for digit in str(factorial(i))) for i in range(1, 6)]\n",
    "\n",
    "for i, num in enumerate(range(1, 6), start=1):\n",
    "    print(\"Sum of digits for factorial of\", num, \":\", sum_of_digits[i-1])\n"
   ]
  },
  {
   "cell_type": "code",
   "execution_count": 106,
   "id": "10b804d4",
   "metadata": {},
   "outputs": [
    {
     "name": "stdout",
     "output_type": "stream",
     "text": [
      "Enter a sentence: hello iam a student\n",
      "The longest word in the sentence is: student\n"
     ]
    }
   ],
   "source": [
    "#37. Write a program that finds the longest word in a sentence using list comprehension.\n",
    "# Input sentence\n",
    "sentence = input(\"Enter a sentence: \")\n",
    "longest_word = max((word for word in sentence.split()), key=len)\n",
    "print(\"The longest word in the sentence is:\", longest_word)\n"
   ]
  },
  {
   "cell_type": "code",
   "execution_count": 111,
   "id": "a457239d",
   "metadata": {},
   "outputs": [
    {
     "name": "stdout",
     "output_type": "stream",
     "text": [
      "Strings with more than three vowels: ['aeio']\n"
     ]
    }
   ],
   "source": [
    "#38. Create a program that filters a list of strings to include only those with more than three vowels using list\n",
    "#comprehension.\n",
    "# Function to count vowels in a string\n",
    "def count_vowels(string):\n",
    "    return sum(1 for char in string if char.lower() in 'aeiou')\n",
    "\n",
    "# List of strings\n",
    "strings_list = [\"aeio\", \"world\", \"python\", \"programming\", \"is\", \"fun\"]\n",
    "\n",
    "# Filter strings with more than three vowels using list comprehension\n",
    "filtered_strings = [string for string in strings_list if count_vowels(string) > 3]\n",
    "\n",
    "# Print the filtered list\n",
    "if filtered_strings:\n",
    "    print(\"Strings with more than three vowels:\", filtered_strings)\n",
    "else:\n",
    "    print(\"No strings with more than three vowels found.\")\n"
   ]
  },
  {
   "cell_type": "code",
   "execution_count": 112,
   "id": "2b5caf63",
   "metadata": {},
   "outputs": [
    {
     "name": "stdout",
     "output_type": "stream",
     "text": [
      "The total sum of digits for numbers from 1 to 1000 is: 13501\n"
     ]
    }
   ],
   "source": [
    "#39. Develop a program that calculates the sum of the digits of numbers from 1 to 1000 using list\n",
    "#comprehension.\n",
    "# Function to calculate the sum of digits of a number\n",
    "def sum_of_digits(n):\n",
    "    return sum(int(digit) for digit in str(n))\n",
    "\n",
    "# Calculate the sum of digits for numbers from 1 to 1000 using list comprehension\n",
    "sum_of_digits_list = [sum_of_digits(num) for num in range(1, 1001)]\n",
    "\n",
    "# Calculate the total sum of digits\n",
    "total_sum = sum(sum_of_digits_list)\n",
    "\n",
    "# Print the total sum of digits\n",
    "print(\"The total sum of digits for numbers from 1 to 1000 is:\", total_sum)\n"
   ]
  },
  {
   "cell_type": "code",
   "execution_count": 113,
   "id": "787c6ecd",
   "metadata": {},
   "outputs": [
    {
     "name": "stdout",
     "output_type": "stream",
     "text": [
      "List of prime palindromic numbers: [2, 3, 5, 7, 11, 101, 131, 151, 181, 191, 313, 353, 373, 383, 727, 757, 787, 797, 919, 929]\n"
     ]
    }
   ],
   "source": [
    "#40. Write a program that generates a list of prime palindromic numbers using list comprehension.\n",
    "# Function to check if a number is prime\n",
    "def is_prime(n):\n",
    "    if n <= 1:\n",
    "        return False\n",
    "    for i in range(2, int(n ** 0.5) + 1):\n",
    "        if n % i == 0:\n",
    "            return False\n",
    "    return True\n",
    "\n",
    "# Function to check if a number is palindrome\n",
    "def is_palindrome(n):\n",
    "    return str(n) == str(n)[::-1]\n",
    "\n",
    "# Generate list of prime palindromic numbers using list comprehension\n",
    "prime_palindromes = [num for num in range(1, 1000) if is_prime(num) and is_palindrome(num)]\n",
    "\n",
    "# Print the list of prime palindromic numbers\n",
    "print(\"List of prime palindromic numbers:\", prime_palindromes)\n"
   ]
  }
 ],
 "metadata": {
  "kernelspec": {
   "display_name": "Python 3 (ipykernel)",
   "language": "python",
   "name": "python3"
  },
  "language_info": {
   "codemirror_mode": {
    "name": "ipython",
    "version": 3
   },
   "file_extension": ".py",
   "mimetype": "text/x-python",
   "name": "python",
   "nbconvert_exporter": "python",
   "pygments_lexer": "ipython3",
   "version": "3.9.7"
  }
 },
 "nbformat": 4,
 "nbformat_minor": 5
}
