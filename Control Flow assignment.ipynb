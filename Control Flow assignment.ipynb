{
 "cells": [
  {
   "cell_type": "markdown",
   "id": "eaf7299a",
   "metadata": {},
   "source": [
    "# Basic If-Else Statements:"
   ]
  },
  {
   "cell_type": "code",
   "execution_count": 1,
   "id": "39713761",
   "metadata": {},
   "outputs": [
    {
     "name": "stdout",
     "output_type": "stream",
     "text": [
      "enter a number12\n",
      "the given number is positive\n"
     ]
    }
   ],
   "source": [
    "#1. Write a Python program to check if a given number is positive or negative.\n",
    "g_n=int(input(\"enter a number\"))\n",
    "if g_n>0:\n",
    "    print(\"the given number is positive\")\n",
    "elif g_n==0:\n",
    "    print(\"the given number is non_negetive\")\n",
    "else:\n",
    "    print(\"the given number is negetive\")"
   ]
  },
  {
   "cell_type": "code",
   "execution_count": 3,
   "id": "fd017adf",
   "metadata": {},
   "outputs": [
    {
     "name": "stdout",
     "output_type": "stream",
     "text": [
      "you are eligible to vote\n"
     ]
    }
   ],
   "source": [
    "#2. Create a program that determines if a person is eligible to vote based on their age.\n",
    "age=22\n",
    "if age>18:\n",
    "    print(\"you are eligible to vote\")\n",
    "else:\n",
    "    print(\"you are not eligible\")"
   ]
  },
  {
   "cell_type": "code",
   "execution_count": 4,
   "id": "2f35f19a",
   "metadata": {},
   "outputs": [
    {
     "name": "stdout",
     "output_type": "stream",
     "text": [
      "enter a number23\n",
      "enter a number32\n",
      "32>23\n"
     ]
    }
   ],
   "source": [
    "#3. Develop a program to find the maximum of two numbers using if-else statements.\n",
    "a=int(input(\"enter a number\"))\n",
    "b=int(input(\"enter a number\"))\n",
    "if a>b:\n",
    "    print('{}>{}'.format(a,b))\n",
    "elif a==b:\n",
    "    print('{}={}'.format(a,b))\n",
    "else:\n",
    "    print('{}>{}'.format(b,a))"
   ]
  },
  {
   "cell_type": "code",
   "execution_count": 5,
   "id": "3016b78f",
   "metadata": {},
   "outputs": [
    {
     "name": "stdout",
     "output_type": "stream",
     "text": [
      "enter the year2024\n",
      "the entered year is leap year\n"
     ]
    }
   ],
   "source": [
    "#4.Write a Python script to classify a given year as a leap year or not.\n",
    "y=int(input(\"enter the year\"))\n",
    "if y%4==0:\n",
    "    print(\"the entered year is leap year\")\n",
    "else:\n",
    "    print('not a leap year')"
   ]
  },
  {
   "cell_type": "code",
   "execution_count": 6,
   "id": "d678ea41",
   "metadata": {},
   "outputs": [
    {
     "name": "stdout",
     "output_type": "stream",
     "text": [
      "enter the characters\n",
      "s is not a vowel\n"
     ]
    }
   ],
   "source": [
    "#5.Create a program that checks whether a character is a vowel or a consonant.\n",
    "v_c=input(\"enter the character\")\n",
    "v='aeiou'\n",
    "if v_c in v:\n",
    "    print(\"{} is a vowel\".format(v_c))\n",
    "else:\n",
    "    print('{} is not a vowel'.format(v_c))"
   ]
  },
  {
   "cell_type": "code",
   "execution_count": 1,
   "id": "473a410e",
   "metadata": {},
   "outputs": [
    {
     "name": "stdout",
     "output_type": "stream",
     "text": [
      "enter the number12\n",
      "the entered number is even\n"
     ]
    }
   ],
   "source": [
    "#6.Implement a program to determine whether a given number is even or odd.\n",
    "e_o=int(input(\"enter the number\"))\n",
    "if e_o%2==0:\n",
    "    print(\"the entered number is even\")\n",
    "else:\n",
    "    print(\"the entered number is odd\")"
   ]
  },
  {
   "cell_type": "code",
   "execution_count": null,
   "id": "03640031",
   "metadata": {},
   "outputs": [],
   "source": [
    "#Write a Python function to calculate the absolute value of a number without using the `abs()` function."
   ]
  },
  {
   "cell_type": "code",
   "execution_count": 1,
   "id": "fcd0fa97",
   "metadata": {},
   "outputs": [
    {
     "name": "stdout",
     "output_type": "stream",
     "text": [
      "enter 1st value12\n",
      "enter 2nd value32\n",
      "enter 3rd value24\n",
      "32>12 and 24\n"
     ]
    }
   ],
   "source": [
    "#8.Develop a program that determines the largest of three given numbers using if-else statements.\n",
    "a=int(input(\"enter 1st value\"))\n",
    "b=int(input(\"enter 2nd value\"))\n",
    "c=int(input(\"enter 3rd value\"))\n",
    "if a>b and a>c:\n",
    "    print(\"{}>{} and {}\".format(a,b,c))\n",
    "elif b>a and b>c:\n",
    "    print(\"{}>{} and {}\".format(b,a,c))\n",
    "else:\n",
    "    print('{}>{} and {}'.format(c,a,b))"
   ]
  },
  {
   "cell_type": "code",
   "execution_count": 3,
   "id": "15dcc651",
   "metadata": {},
   "outputs": [
    {
     "name": "stdout",
     "output_type": "stream",
     "text": [
      "enter a string hello\n",
      "the enterd string is not a pallindrome\n"
     ]
    }
   ],
   "source": [
    "#9.Create a program that checks if a given string is a palindrome.\n",
    "s=input(\"enter a string \")\n",
    "if s==s[::-1]:\n",
    "    print(\"the entered string is pallindrome\")\n",
    "else:\n",
    "    print(\"the enterd string is not a pallindrome\")"
   ]
  },
  {
   "cell_type": "code",
   "execution_count": 7,
   "id": "4dc8d804",
   "metadata": {},
   "outputs": [
    {
     "name": "stdout",
     "output_type": "stream",
     "text": [
      "enter the score35\n",
      "if your score is less than 50 u got F\n"
     ]
    }
   ],
   "source": [
    "#10.Write a Python program to calculate the grade based on a student's score.\n",
    "score=int(input(\"enter the score\"))\n",
    "if score>=90:\n",
    "    print(\"u secure A+ grade\")\n",
    "elif score>=70 and score<80:\n",
    "    print(\"u got A grade\")\n",
    "else:\n",
    "    print(\"if your score is less than 50 u got F\")"
   ]
  },
  {
   "cell_type": "markdown",
   "id": "f71b7af7",
   "metadata": {},
   "source": [
    "# Nested If-Else Statements:"
   ]
  },
  {
   "cell_type": "code",
   "execution_count": 8,
   "id": "a990697f",
   "metadata": {},
   "outputs": [
    {
     "name": "stdout",
     "output_type": "stream",
     "text": [
      "enter 1st value32\n",
      "enter 2nd value54\n",
      "enter 3rd value45\n",
      "larger(32,54,45)=54)\n"
     ]
    }
   ],
   "source": [
    "#11. Write a program to find the largest among three numbers using nested if-else statements.\n",
    "a=int(input(\"enter 1st value\"))\n",
    "b=int(input(\"enter 2nd value\"))\n",
    "c=int(input(\"enter 3rd value\"))\n",
    "if(a==b) and (b==c):\n",
    "    print(\"all values are equal\")\n",
    "else:\n",
    "    if(a>b) and (a>c):\n",
    "        print(\"larger({},{},{})={})\".format(a,b,c,a))\n",
    "    else:\n",
    "        if(b>a) and (b>c):\n",
    "            print(\"larger({},{},{})={})\".format(a,b,c,b))\n",
    "        else:\n",
    "            print(\"larger({},{},{}={})\".format(a,b,c,c))"
   ]
  },
  {
   "cell_type": "code",
   "execution_count": 12,
   "id": "27204a29",
   "metadata": {},
   "outputs": [
    {
     "name": "stdout",
     "output_type": "stream",
     "text": [
      "enter the s1 54\n",
      "enter the s2 34\n",
      "enter the s3 21\n",
      "the triangle is scalene \n"
     ]
    }
   ],
   "source": [
    "#12. Implement a program to determine if a triangle is equilateral, isosceles, or scalene.\n",
    "s1=int(input(\"enter the s1 \"))\n",
    "s2=int(input(\"enter the s2 \"))\n",
    "s3=int(input(\"enter the s3 \"))\n",
    "if s1==s2 and s2==s3:\n",
    "    print(\"the triangle is equilateral \")\n",
    "else:\n",
    "    if s1==s2 and s1!=s3:\n",
    "        print(\"the triangle is isosceles \")\n",
    "    else:\n",
    "        print(\"the triangle is scalene \")"
   ]
  },
  {
   "cell_type": "code",
   "execution_count": 14,
   "id": "70ac38c7",
   "metadata": {},
   "outputs": [
    {
     "name": "stdout",
     "output_type": "stream",
     "text": [
      "enter the year2024\n",
      "the year is only leap year\n"
     ]
    }
   ],
   "source": [
    "#13. Develop a program that checks if a year is a leap year and also if it is a century year.\n",
    "y=int(input(\"enter the year\"))\n",
    "if y%4==0 and y%100==0:\n",
    "    print(\"the year is leap and also centuary year\")\n",
    "else:\n",
    "    if y%4==0:\n",
    "        print(\"the year is only leap year\")\n",
    "    else:\n",
    "        print(\"the year is not leap year\")"
   ]
  },
  {
   "cell_type": "code",
   "execution_count": 15,
   "id": "7fbfba3a",
   "metadata": {},
   "outputs": [
    {
     "name": "stdout",
     "output_type": "stream",
     "text": [
      "enter the number-4\n",
      "the number is negetive\n"
     ]
    }
   ],
   "source": [
    "#14.Write a Python script to determine if a number is positive, negative, or zero.\n",
    "n=int(input(\"enter the number\"))\n",
    "if n==0:\n",
    "    print(\"the number is zero\")\n",
    "else:\n",
    "    if n>0:\n",
    "        print(\"the number is positive\")\n",
    "    else:\n",
    "        print(\"the number is negetive\")"
   ]
  },
  {
   "cell_type": "code",
   "execution_count": 17,
   "id": "6fd9ed2e",
   "metadata": {},
   "outputs": [
    {
     "name": "stdout",
     "output_type": "stream",
     "text": [
      "enter the age15\n",
      "you are a teenager\n"
     ]
    }
   ],
   "source": [
    "#15.Create a program to check if a person is a teenager (between 13 and 19 years old).\n",
    "age=int(input('enter the age'))\n",
    "if age<13 or age>19:\n",
    "    print(\"you are not a teenager\")\n",
    "else:\n",
    "    print('you are a teenager')"
   ]
  },
  {
   "cell_type": "code",
   "execution_count": 1,
   "id": "e73cbac9",
   "metadata": {},
   "outputs": [
    {
     "name": "stdout",
     "output_type": "stream",
     "text": [
      "enter the angle 54\n",
      "acute\n"
     ]
    }
   ],
   "source": [
    "#16. Develop a program that determines the type of angle based on its measure (acute, obtuse, or right).\n",
    "angel=int(input(\"enter the angle \"))\n",
    "if angel==90:\n",
    "    print('right angle')\n",
    "else:\n",
    "    if angel>90:\n",
    "        print('obtuse')\n",
    "    else:\n",
    "        print('acute')"
   ]
  },
  {
   "cell_type": "code",
   "execution_count": 2,
   "id": "2d591e68",
   "metadata": {},
   "outputs": [
    {
     "name": "stdout",
     "output_type": "stream",
     "text": [
      "enter 1st value12\n",
      "enter 2nd value32\n",
      "enter 3rd value16\n",
      "-0.6666666666666666 -2.0\n"
     ]
    }
   ],
   "source": [
    "#17.Write a Python program to calculate the roots of a quadratic equation.\n",
    "import math\n",
    "a=int(input(\"enter 1st value\"))\n",
    "b=int(input(\"enter 2nd value\"))\n",
    "c=int(input(\"enter 3rd value\"))\n",
    "discriminant=b**2-4*a*c\n",
    "if discriminant > 0:\n",
    "        root1 = (-b + math.sqrt(discriminant)) / (2*a)\n",
    "        root2 = (-b - math.sqrt(discriminant)) / (2*a)\n",
    "        print( root1, root2)\n",
    "elif discriminant == 0:\n",
    "    root = -b / (2*a)\n",
    "    print(root,root)\n",
    "else:\n",
    "    real_part = -b / (2*a)\n",
    "    imaginary_part = math.sqrt(abs(discriminant)) / (2*a)\n",
    "    root1 = complex(real_part, imaginary_part)\n",
    "    root2 = complex(real_part, -imaginary_part)\n",
    "    print( root1, root2)"
   ]
  },
  {
   "cell_type": "code",
   "execution_count": 14,
   "id": "49b57d06",
   "metadata": {},
   "outputs": [
    {
     "name": "stdout",
     "output_type": "stream",
     "text": [
      "enter the week name i lower_casesaturday\n",
      "7,saturday\n"
     ]
    }
   ],
   "source": [
    "#18. Implement a program to determine the day of the week based on a user-provided number (1 for Monday, 2\n",
    "#for Tuesday, etc.).\n",
    "n=input(\"enter the week name in lower_case\")\n",
    "a=['sunday','monday','tuesday','wednesday','thursday','friday','saturday']\n",
    "#b=[1,2,3,4,5,6,7]\n",
    "for i in a:\n",
    "        if n==i:\n",
    "            print('{},{}'.format(a.index(i)+1,i))\n",
    "\n",
    "        else:\n",
    "               pass"
   ]
  },
  {
   "cell_type": "code",
   "execution_count": 21,
   "id": "b42f7952",
   "metadata": {},
   "outputs": [
    {
     "name": "stdout",
     "output_type": "stream",
     "text": [
      "enter the year2026\n",
      "any one of our condition may not true or both false\n"
     ]
    }
   ],
   "source": [
    "#19. Create a program that determines if a year is a leap year and also if it is evenly divisible by 400.\n",
    "n=int(input(\"enter the year\"))\n",
    "if n%4==0 and n%400==0:\n",
    "    print('the year is leap year and also divisible by 400')\n",
    "else:\n",
    "    print('any one of our condition may not true or both false')\n",
    "    "
   ]
  },
  {
   "cell_type": "code",
   "execution_count": 37,
   "id": "54acdf76",
   "metadata": {},
   "outputs": [
    {
     "name": "stdout",
     "output_type": "stream",
     "text": [
      "enter the number to check prime or not12\n",
      "12 is not a prime_number\n"
     ]
    }
   ],
   "source": [
    "#20. Develop a program that checks if a given number is prime or not using nested if-else statements.\n",
    "num=int(input(\"enter the number to check prime or not\"))\n",
    "if num>1:\n",
    "    if num==2:\n",
    "        print(num,\"is a prime number\")\n",
    "    elif num%2==0:\n",
    "        print(num,'is not a prime_number')\n",
    "    else:\n",
    "        is_prime=True\n",
    "        for i in range(3,int(num**0.5)+1,2):\n",
    "            if num%i==0:\n",
    "                is_prime=False\n",
    "                break\n",
    "        if is_prime:\n",
    "            print(num,'is a prime number')\n",
    "        else:\n",
    "            print(num,'is not a prime number')\n",
    "else:\n",
    "    print(\"is not a prime number\")"
   ]
  },
  {
   "cell_type": "markdown",
   "id": "903a25d2",
   "metadata": {},
   "source": [
    "# Elif Statements:"
   ]
  },
  {
   "cell_type": "code",
   "execution_count": 46,
   "id": "3758acf8",
   "metadata": {},
   "outputs": [
    {
     "name": "stdout",
     "output_type": "stream",
     "text": [
      "enter a number95\n",
      "your grade is o\n"
     ]
    }
   ],
   "source": [
    "#21. Write a Python program to assign grades based on different ranges of scores using elif statements.\n",
    "n=int(input(\"enter a number\"))\n",
    "if n<36:\n",
    "    print(\"your grade is F\")\n",
    "elif n==36 or n<=65:\n",
    "    print(\"your grade is D\")\n",
    "elif n==66 or n<=75:\n",
    "    print(\"your grade is c\")\n",
    "elif n==76 or n<=90:\n",
    "    print(\"your grade is A\")\n",
    "else:\n",
    "    print(\"your grade is o\")\n",
    "            "
   ]
  },
  {
   "cell_type": "code",
   "execution_count": 52,
   "id": "7b056661",
   "metadata": {},
   "outputs": [
    {
     "name": "stdout",
     "output_type": "stream",
     "text": [
      "enter the first angle45\n",
      "enter the second angle45\n",
      "enter the third angle90\n",
      "Isosceles triangle\n"
     ]
    }
   ],
   "source": [
    "#22. Implement a program to determine the type of a triangle based on its angles.\n",
    "a_1=int(input(\"enter the first angle\"))\n",
    "a_2=int(input(\"enter the second angle\"))\n",
    "a_3=int(input(\"enter the third angle\"))\n",
    "if a_1+a_2+a_3!=180 or a_1==a_2==a_3==0:\n",
    "    print(\"invalid mesurements the sum should equal to: 180\")\n",
    "elif a_1==a_2==a_3:\n",
    "    print(\"Eqilateral triangle\")\n",
    "elif a_1==a_2 or a_1==a_3 or a_2==a_3:\n",
    "    print(\"Isosceles triangle\")\n",
    "else:\n",
    "    print(\"scalene triangle\")"
   ]
  },
  {
   "cell_type": "code",
   "execution_count": 53,
   "id": "5948b923",
   "metadata": {},
   "outputs": [
    {
     "name": "stdout",
     "output_type": "stream",
     "text": [
      "Enter your weight in kilograms: 75\n",
      "Enter your height in meters: 6.2\n",
      "enter your bmi value22.5\n",
      "normal\n"
     ]
    }
   ],
   "source": [
    "#23. Develop a program to categorize a given person's BMI into underweight, normal, overweight, or obese using\n",
    "#elif statements.\n",
    "weight = float(input(\"Enter your weight in kilograms: \"))\n",
    "height = float(input(\"Enter your height in meters: \"))\n",
    "bmi=float(input(\"enter your bmi value\"))\n",
    "if bmi<18.5:\n",
    "    print(\"underweighted\")\n",
    "elif 18.5<=bmi<25:\n",
    "    print(\"normal\")\n",
    "elif 25<=bmi<30:\n",
    "    print(\"overweight\")\n",
    "else:\n",
    "    print(\"obese\")"
   ]
  },
  {
   "cell_type": "code",
   "execution_count": 55,
   "id": "85a74549",
   "metadata": {},
   "outputs": [
    {
     "name": "stdout",
     "output_type": "stream",
     "text": [
      "enter the number34\n",
      "the number is positive\n"
     ]
    }
   ],
   "source": [
    "#24. Create a program that determines whether a given number is positive, negative, or zero using elif\n",
    "#statements.\n",
    "n=int(input('enter the number'))\n",
    "if n<0:\n",
    "    print('the number is negetive')\n",
    "elif n==0:\n",
    "    print(\"the umber is non negetive or zero\")\n",
    "else:\n",
    "    print(\"the number is positive\")"
   ]
  },
  {
   "cell_type": "code",
   "execution_count": 64,
   "id": "d02bbc5d",
   "metadata": {},
   "outputs": [
    {
     "name": "stdout",
     "output_type": "stream",
     "text": [
      "enter the characterB\n",
      "uppercase\n"
     ]
    }
   ],
   "source": [
    "#25. Write a Python script to determine the type of a character (uppercase, lowercase, or special) using elif\n",
    "#statements.\n",
    "c=input(\"enter the character\")\n",
    "if c.isupper()==True:\n",
    "    print(\"uppercase\")\n",
    "elif c.islower()==True:\n",
    "    print(\"lowecase\")\n",
    "else:\n",
    "    print('special character')"
   ]
  },
  {
   "cell_type": "code",
   "execution_count": 77,
   "id": "0938eae3",
   "metadata": {},
   "outputs": [
    {
     "name": "stdout",
     "output_type": "stream",
     "text": [
      "enter the total amount greater than 1000  2500\n",
      "the discout is 175.00000000000003\n"
     ]
    }
   ],
   "source": [
    "#26. Implement a program to calculate the discounted price based on different purchase amounts using elif\n",
    "#statements.\n",
    "a=int(input(\"enter the total amount greater than 1000  \"))\n",
    "if a<1000:\n",
    "    print(\"no discount \")\n",
    "elif a==1001 or a<=2500:\n",
    "    print('the discout is {}'.format(a*0.07))\n",
    "else:\n",
    "    print(\"the discount is {}\".format(a*0.2))\n"
   ]
  },
  {
   "cell_type": "code",
   "execution_count": 5,
   "id": "14f36a96",
   "metadata": {},
   "outputs": [
    {
     "name": "stdout",
     "output_type": "stream",
     "text": [
      "enter the uits23\n",
      "34.5\n"
     ]
    }
   ],
   "source": [
    "#27. Develop a program to calculate the electricity bill based on different consumption slabs using elif\n",
    "#statements.\n",
    "units=int(input(\"enter the units\"))\n",
    "total_units=0\n",
    "if units<=100:\n",
    "    total_bill=units*1.50\n",
    "    print(total_bill)\n",
    "elif units<=200:\n",
    "    total_bill=100*1.50+(units-100)*2\n",
    "    print(total_bill)\n",
    "elif units <=300:\n",
    "    total_bill=100*1.50+100*2+(units-100)*3\n",
    "    print(total_bill)\n",
    "else:\n",
    "    total_bill=100*1.50+100*2+100*3+(units-300)*4\n",
    "    print(total_bill)"
   ]
  },
  {
   "cell_type": "code",
   "execution_count": 12,
   "id": "5e717b2c",
   "metadata": {},
   "outputs": [
    {
     "name": "stdout",
     "output_type": "stream",
     "text": [
      "quadrilateral is a square\n"
     ]
    }
   ],
   "source": [
    "#28. Create a program to determine the type of quadrilateral based on its angles and sides using elif\n",
    "#statements.\n",
    "sides=[5,5,5,5]\n",
    "angles=[90,90,90,90]\n",
    "if len(sides)!=4 or len(angles)!=4:\n",
    "    print(\"invalid measurements\")\n",
    "elif sum(angles)!=360:\n",
    "    print('invalid measurements')\n",
    "elif len(set(sides))==1 and len(set(angles))==1:\n",
    "    print('quadrilateral is a square')\n",
    "elif len(set(sides))==2 and len(set(angles))==1:\n",
    "    print(\"quadrilateral is a rectangle\")\n",
    "elif len(set(sides))==3 and len(set(angles))==2:\n",
    "    print(\"quadrilateral is scalen trapezoid\")\n",
    "elif len(set(sides))==4 and len(set(angles))==4:\n",
    "    print('quadrilateral is a parallelogram')\n",
    "else:\n",
    "    print(\"some other quadrilateral explore it\")"
   ]
  },
  {
   "cell_type": "code",
   "execution_count": 13,
   "id": "35a32b1f",
   "metadata": {},
   "outputs": [
    {
     "name": "stdout",
     "output_type": "stream",
     "text": [
      "enter the monthjanuary\n",
      "the season forJanuary in India is winter.\n"
     ]
    }
   ],
   "source": [
    "#29. Write a Python script to determine the season based on a user-provided month using elif statements.\n",
    "month=input(\"enter the month\").lower()\n",
    "if month in {'december','january','february'}:\n",
    "    season='winter'\n",
    "elif month in {'march','aprail','may'}:\n",
    "    season='summer'\n",
    "elif month in {'june','july','august','september'}:\n",
    "    season='monsoon/rainy_season'\n",
    "else:\n",
    "    season='invalid season'\n",
    "print(f'the season for{month.capitalize()} in India is {season}.')\n"
   ]
  },
  {
   "cell_type": "code",
   "execution_count": 20,
   "id": "ea9954c3",
   "metadata": {},
   "outputs": [
    {
     "name": "stdout",
     "output_type": "stream",
     "text": [
      "enter the year2024\n",
      "enter the monthmarch\n",
      "leap_year,March has 31 days.\n"
     ]
    }
   ],
   "source": [
    "#30. Implement a program to determine the type of a year (leap or common) and month (30 or 31 days) using\n",
    "#elif statements.\n",
    "year=int(input(\"enter the year\"))\n",
    "month=input(\"enter the month\").lower()\n",
    "if year%4==0 and (year%100!=0 or year%400==0):\n",
    "    year_type='leap_year'\n",
    "else:\n",
    "    year_type='common_year'\n",
    "if month in {'january','march','may','july','august','october','december'}:\n",
    "    days=31\n",
    "elif month in {'aprail','june','september','november'}:\n",
    "    days=30\n",
    "elif month=='february':\n",
    "    if year_type=='leap_year':\n",
    "        days=29\n",
    "    else:\n",
    "        days=28\n",
    "else:\n",
    "    days='invalid month'\n",
    "if days!='invalid month':\n",
    "    print(f\"{year_type},{month.capitalize()} has {days} days.\")\n",
    "else:\n",
    "    print(\"invalid month\")"
   ]
  },
  {
   "cell_type": "markdown",
   "id": "99234982",
   "metadata": {},
   "source": [
    "# Basic Level:"
   ]
  },
  {
   "cell_type": "code",
   "execution_count": 21,
   "id": "91901922",
   "metadata": {},
   "outputs": [
    {
     "name": "stdout",
     "output_type": "stream",
     "text": [
      "enter a number12\n",
      "the given number is positive\n"
     ]
    }
   ],
   "source": [
    "#1. Write a Python program that checks if a given number is positive, negative, or zero.\n",
    "g_n=int(input(\"enter a number\"))\n",
    "if g_n>0:\n",
    "    print(\"the given number is positive\")\n",
    "elif g_n==0:\n",
    "    print(\"the given number is non_negetive\")\n",
    "else:\n",
    "    print(\"the given number is negetive\")"
   ]
  },
  {
   "cell_type": "code",
   "execution_count": 22,
   "id": "8c3de0e3",
   "metadata": {},
   "outputs": [
    {
     "name": "stdout",
     "output_type": "stream",
     "text": [
      "you are eligible to vote\n"
     ]
    }
   ],
   "source": [
    "#2. Create a program to determine if a person is eligible to vote based on their age.\n",
    "age=22\n",
    "if age>18:\n",
    "    print(\"you are eligible to vote\")\n",
    "else:\n",
    "    print(\"you are not eligible\")"
   ]
  },
  {
   "cell_type": "code",
   "execution_count": 23,
   "id": "2a424f75",
   "metadata": {},
   "outputs": [
    {
     "name": "stdout",
     "output_type": "stream",
     "text": [
      "enter a number12\n",
      "enter a number13\n",
      "13>12\n"
     ]
    }
   ],
   "source": [
    "#3. Write a program to find the maximum of two given numbers using conditional statements.\n",
    "a=int(input(\"enter a number\"))\n",
    "b=int(input(\"enter a number\"))\n",
    "if a>b:\n",
    "    print('{}>{}'.format(a,b))\n",
    "elif a==b:\n",
    "    print('{}={}'.format(a,b))\n",
    "else:\n",
    "    print('{}>{}'.format(b,a))"
   ]
  },
  {
   "cell_type": "code",
   "execution_count": 25,
   "id": "5e3a5cfe",
   "metadata": {},
   "outputs": [
    {
     "name": "stdout",
     "output_type": "stream",
     "text": [
      "enter a number54\n",
      "your grade is D\n"
     ]
    }
   ],
   "source": [
    "#4. Develop a program that calculates the grade of a student based on their exam score.\n",
    "n=int(input(\"enter a number\"))\n",
    "if n<36:\n",
    "    print(\"your grade is F\")\n",
    "elif n==36 or n<=65:\n",
    "    print(\"your grade is D\")\n",
    "elif n==66 or n<=75:\n",
    "    print(\"your grade is c\")\n",
    "elif n==76 or n<=90:\n",
    "    print(\"your grade is A\")\n",
    "else:\n",
    "    print(\"your grade is o\")"
   ]
  },
  {
   "cell_type": "code",
   "execution_count": 29,
   "id": "fe55ab02",
   "metadata": {},
   "outputs": [
    {
     "name": "stdout",
     "output_type": "stream",
     "text": [
      "enter the number2021\n",
      "2021 not leap year\n"
     ]
    }
   ],
   "source": [
    "#5. Create a program that checks if a year is a leap year or not.\n",
    "year1=int(input('enter the number'))\n",
    "if year1%4==0 and (year1%100!=0 or year1%400==0):\n",
    "    year_type='leap_year'\n",
    "    print(year_type)\n",
    "else:\n",
    "    print(year1,\"not leap year\")"
   ]
  },
  {
   "cell_type": "code",
   "execution_count": 30,
   "id": "53bf75c7",
   "metadata": {},
   "outputs": [
    {
     "name": "stdout",
     "output_type": "stream",
     "text": [
      "enter the s1 12\n",
      "enter the s2 13\n",
      "enter the s3 14\n",
      "the triangle is scalene \n"
     ]
    }
   ],
   "source": [
    "#6. Write a program to classify a triangle based on its sides' lengths.\n",
    "s1=int(input(\"enter the s1 \"))\n",
    "s2=int(input(\"enter the s2 \"))\n",
    "s3=int(input(\"enter the s3 \"))\n",
    "if s1==s2 and s2==s3:\n",
    "    print(\"the triangle is equilateral \")\n",
    "else:\n",
    "    if s1==s2 and s1!=s3:\n",
    "        print(\"the triangle is isosceles \")\n",
    "    else:\n",
    "        print(\"the triangle is scalene \")"
   ]
  },
  {
   "cell_type": "code",
   "execution_count": 31,
   "id": "36afb02f",
   "metadata": {},
   "outputs": [
    {
     "name": "stdout",
     "output_type": "stream",
     "text": [
      "enter 1st value32\n",
      "enter 2nd value43\n",
      "enter 3rd value43\n",
      "43>32 and 43\n"
     ]
    }
   ],
   "source": [
    "#7.Develop a program that determines the largest of three given numbers using if-else statements.\n",
    "a=int(input(\"enter 1st value\"))\n",
    "b=int(input(\"enter 2nd value\"))\n",
    "c=int(input(\"enter 3rd value\"))\n",
    "if a>b and a>c:\n",
    "    print(\"{}>{} and {}\".format(a,b,c))\n",
    "elif b>a and b>c:\n",
    "    print(\"{}>{} and {}\".format(b,a,c))\n",
    "else:\n",
    "    print('{}>{} and {}'.format(c,a,b))"
   ]
  },
  {
   "cell_type": "code",
   "execution_count": 36,
   "id": "fee79c90",
   "metadata": {},
   "outputs": [
    {
     "name": "stdout",
     "output_type": "stream",
     "text": [
      "enter the vowel:s\n",
      "s consonant\n"
     ]
    }
   ],
   "source": [
    "#8. Develop a program that checks whether a character is a vowel or a consonant.\n",
    "o_v={'a','e','i','o','u'}\n",
    "v_o=input(\"enter the vowel:\")\n",
    "if v_o in o_v:\n",
    "    print(v_o,\"vowel\")\n",
    "else:\n",
    "    print(v_o,'consonant')\n",
    "    "
   ]
  },
  {
   "cell_type": "code",
   "execution_count": 3,
   "id": "69d3d98f",
   "metadata": {},
   "outputs": [
    {
     "name": "stdout",
     "output_type": "stream",
     "text": [
      "enter the total amount greater than 1000:2300\n",
      "the total amount to pay with offer 2139.0\n"
     ]
    }
   ],
   "source": [
    "#9. Create a program to calculate the total cost of a shopping cart based on discounts.\n",
    "a=int(input(\"enter the total amount greater than 1000:\"))\n",
    "d=0\n",
    "if a<1000:\n",
    "    print(\"no discount \")\n",
    "elif a==1001 or a<=2500:\n",
    "    discount=a-a*0.07\n",
    "    print('the total amount to pay with offer',discount)\n",
    "    \n",
    "else:\n",
    "    discount=a-a*0.2\n",
    "    print('the total amount to pay with offer',discount)\n",
    "    "
   ]
  },
  {
   "cell_type": "code",
   "execution_count": 4,
   "id": "615c93ab",
   "metadata": {},
   "outputs": [
    {
     "name": "stdout",
     "output_type": "stream",
     "text": [
      "enter a number23\n",
      "odd number\n"
     ]
    }
   ],
   "source": [
    "#10. Write a program that checks if a given number is even or odd.\n",
    "a=int(input(\"enter a number\"))\n",
    "if a%2==0:\n",
    "    print(\"even number\")\n",
    "else:\n",
    "    print(\"odd number\")"
   ]
  },
  {
   "cell_type": "markdown",
   "id": "0ea366ef",
   "metadata": {},
   "source": [
    "# Intermediate Level:"
   ]
  },
  {
   "cell_type": "code",
   "execution_count": 1,
   "id": "5619f7eb",
   "metadata": {},
   "outputs": [
    {
     "name": "stdout",
     "output_type": "stream",
     "text": [
      "enter the coefficient of x^2:10\n",
      "enter the coefficient of x3\n",
      "enter the coefficient of constant2\n",
      "the roots are complex roots\n",
      "root 1: (-0.75+1.1989578808281798j)\n",
      "root 2: (-0.75+1.1989578808281798j)\n"
     ]
    }
   ],
   "source": [
    "#11. Write a program that calculates the roots of a quadratic equation .\n",
    "import math\n",
    "a=float(input(\"enter the coefficient of x^2:\"))\n",
    "b=float(input(\"enter the coefficient of x\"))\n",
    "c=a=float(input(\"enter the coefficient of constant\"))\n",
    "discriminant=b**2-4*a*a*c\n",
    "if discriminant>0:\n",
    "    root1=(-b+math.sqrt(discriminant))/(2*a)\n",
    "    root2=(-b-math.sqrt(discriminant))/(2*a)\n",
    "    print(\"the roots are real numbers:\")\n",
    "    print(\"root 1:\",root1)\n",
    "    print(\"root 2:\",root2)\n",
    "elif discriminant==0:\n",
    "    root=-b/(2*a)\n",
    "    print('the roots are real numbers')\n",
    "    print(\"root 1:\",root)\n",
    "    print(\"root 2:\",root)\n",
    "else:\n",
    "    real_part=-b/(2*a)\n",
    "    imaginary_part=math.sqrt(abs(discriminant))/(2*a)\n",
    "    root1=complex(real_part,imaginary_part)\n",
    "    root2=complex(real_part,imaginary_part)\n",
    "    print(\"the roots are complex roots\")\n",
    "    print(\"root 1:\",root1)\n",
    "    print('root 2:',root2)\n",
    "    \n",
    "\n"
   ]
  },
  {
   "cell_type": "code",
   "execution_count": 2,
   "id": "67f63459",
   "metadata": {},
   "outputs": [
    {
     "name": "stdout",
     "output_type": "stream",
     "text": [
      "enter the week name in lower_casemonday\n",
      "2,monday\n"
     ]
    }
   ],
   "source": [
    "#12. Create a program that determines the day of the week based on the day number (1-7).\n",
    "n=input(\"enter the week name in lower_case\")\n",
    "a=['sunday','monday','tuesday','wednesday','thursday','friday','saturday']\n",
    "#b=[1,2,3,4,5,6,7]\n",
    "for i in a:\n",
    "        if n==i:\n",
    "            print('{},{}'.format(a.index(i)+1,i))\n",
    "\n",
    "        else:\n",
    "               pass"
   ]
  },
  {
   "cell_type": "code",
   "execution_count": 4,
   "id": "c97a1abe",
   "metadata": {},
   "outputs": [
    {
     "name": "stdout",
     "output_type": "stream",
     "text": [
      "enter the non_negetive integer4\n",
      "the factorial of 4 is 24\n"
     ]
    }
   ],
   "source": [
    "#13. Develop a program that calculates the factorial of a given number using recursion.\n",
    "num=int(input(\"enter the non_negetive integer\"))\n",
    "if num<0:\n",
    "    print(\"invalid number\")\n",
    "else:\n",
    "    factorial=1\n",
    "    for i in range(1,num+1):\n",
    "        factorial*=i\n",
    "    print(f'the factorial of {num} is {factorial}')\n"
   ]
  },
  {
   "cell_type": "code",
   "execution_count": 5,
   "id": "5f191a6c",
   "metadata": {},
   "outputs": [
    {
     "name": "stdout",
     "output_type": "stream",
     "text": [
      "Enter the first number:32\n",
      "Enter the second number:23\n",
      "Enter the third number:11\n",
      "the largest number among 32.0,23.0,11.0 is: 32.0\n"
     ]
    }
   ],
   "source": [
    "#14. Write a program to find the largest among three numbers without using the `max()` function.\n",
    "num1 = float(input(\"Enter the first number:\"))\n",
    "num2 = float(input(\"Enter the second number:\"))\n",
    "num3 = float(input(\"Enter the third number:\"))\n",
    "\n",
    "if num1>=num2 and num1>=num3:\n",
    "    largest=num1\n",
    "elif num2 >= num1 and num2>=num3:\n",
    "    largest=num2\n",
    "else:\n",
    "    largest=num3\n",
    "print(f'the largest number among {num1},{num2},{num3} is: {largest}')"
   ]
  },
  {
   "cell_type": "code",
   "execution_count": 1,
   "id": "1cbc809d",
   "metadata": {
    "collapsed": true
   },
   "outputs": [
    {
     "name": "stdout",
     "output_type": "stream",
     "text": [
      "welcome to the ATM\n",
      "1.check_balance\n",
      "2.Deposit\n",
      "3.Withdraw\n",
      "4.Quit\n",
      "enter your mode of use(1-4)1\n",
      "your current balance is: 1000\n",
      "welcome to the ATM\n",
      "1.check_balance\n",
      "2.Deposit\n",
      "3.Withdraw\n",
      "4.Quit\n",
      "enter your mode of use(1-4)2\n",
      "enter the amount to deposit:12000\n",
      "12000.0 has been deposited successfully\n",
      "welcome to the ATM\n",
      "1.check_balance\n",
      "2.Deposit\n",
      "3.Withdraw\n",
      "4.Quit\n",
      "enter your mode of use(1-4)3\n",
      "enter the amount to withdraw4000\n",
      "4000.0 has been withdrawn successfully\n",
      "welcome to the ATM\n",
      "1.check_balance\n",
      "2.Deposit\n",
      "3.Withdraw\n",
      "4.Quit\n",
      "enter your mode of use(1-4)4\n",
      "thank you for using the ATM\n"
     ]
    }
   ],
   "source": [
    "#15. Create a program that simulates a basic ATM transaction menu.\n",
    "min_balance=1000\n",
    "while True:\n",
    "    print(\"welcome to the ATM\")\n",
    "    print(\"1.check_balance\")\n",
    "    print(\"2.Deposit\")\n",
    "    print(\"3.Withdraw\")\n",
    "    print(\"4.Quit\")\n",
    "    choice=input(\"enter your mode of use(1-4)\")\n",
    "    if choice=='1':\n",
    "        print(f'your current balance is: {min_balance}')\n",
    "    elif choice=='2':\n",
    "        amount=float(input(\"enter the amount to deposit:\"))\n",
    "        if amount>0:\n",
    "            min_balance+=amount\n",
    "            print(f'{amount} has been deposited successfully')\n",
    "        else:\n",
    "            print(\"invalid amount\")\n",
    "    elif choice=='3':\n",
    "        amount=float(input(\"enter the amount to withdraw\"))\n",
    "        if 0<amount<=min_balance:\n",
    "            min_balance-=amount\n",
    "            print(f'{amount} has been withdrawn successfully')\n",
    "        else:\n",
    "            print(\"insufficient balance\")\n",
    "    elif choice=='4':\n",
    "        print(\"thank you for using the ATM\")\n",
    "        break\n",
    "    else:\n",
    "        print(\"invalid choice\")\n",
    "        "
   ]
  },
  {
   "cell_type": "code",
   "execution_count": 8,
   "id": "9d749fc6",
   "metadata": {},
   "outputs": [
    {
     "name": "stdout",
     "output_type": "stream",
     "text": [
      "enter the wordhello\n",
      "not a palidrome\n"
     ]
    }
   ],
   "source": [
    "#16. Build a program that checks if a given string is a palindrome or not.\n",
    "s_tr=input(\"enter the word\")\n",
    "if s_tr==s_tr[::-1]:\n",
    "    print(\"palidrome\")\n",
    "else:\n",
    "    print(\"not a palidrome\")"
   ]
  },
  {
   "cell_type": "code",
   "execution_count": 21,
   "id": "c123f702",
   "metadata": {},
   "outputs": [
    {
     "name": "stdout",
     "output_type": "stream",
     "text": [
      "trimmed list [2, 4, 2, 45]\n",
      "the average of a trimmed list is 13.25\n"
     ]
    }
   ],
   "source": [
    "#17. Write a program that calculates the average of a list of numbers, excluding the smallest and largest values.\n",
    "l=[23,2,4,2,45,54]\n",
    "l1=l[1:-1]\n",
    "print(\"trimmed list\",l1)\n",
    "avg=sum(l1)/len(l1)\n",
    "print(\"the average of a trimmed list is\",avg)"
   ]
  },
  {
   "cell_type": "code",
   "execution_count": 22,
   "id": "abd785bd",
   "metadata": {},
   "outputs": [
    {
     "name": "stdout",
     "output_type": "stream",
     "text": [
      "enter the temperature i celsius32\n",
      "the temperature 32.0°C is equivalent to 89.6°F.\n"
     ]
    }
   ],
   "source": [
    "#18. Develop a program that converts a given temperature from Celsius to Fahrenheit.\n",
    "celsius=float(input(\"enter the temperature i celsius\"))\n",
    "fahreheit=(celsius*9/5)+32\n",
    "print(f'the temperature {celsius}°C is equivalent to {fahreheit}°F.')"
   ]
  },
  {
   "cell_type": "code",
   "execution_count": 26,
   "id": "f0627b9f",
   "metadata": {},
   "outputs": [
    {
     "name": "stdout",
     "output_type": "stream",
     "text": [
      "enter the number132\n",
      "enter the umber2 43\n",
      "enter the choice:'a'or's'or'm' or 'd'm\n",
      "1376.0\n"
     ]
    }
   ],
   "source": [
    "#19. Create a program that simulates a basic calculator for addition, subtraction, multiplication, and division.\n",
    "n1=float(input('enter the number1'))\n",
    "n2=float(input(\"enter the umber2 \"))\n",
    "choice=(input(\"enter the choice:'a'or's'or'm' or 'd'\"))\n",
    "if choice=='a':\n",
    "    result=n1+n2\n",
    "    print(result)\n",
    "elif choice=='s':\n",
    "    result=n1-n2\n",
    "    print(result)\n",
    "elif choice=='m':\n",
    "    result=n1*n2\n",
    "    print(result)\n",
    "elif choice=='d':\n",
    "    result=n1/n2\n",
    "    print(result)\n",
    "else:\n",
    "    print(\"your operation not avilable\")\n"
   ]
  },
  {
   "cell_type": "code",
   "execution_count": 29,
   "id": "80815d84",
   "metadata": {},
   "outputs": [
    {
     "name": "stdout",
     "output_type": "stream",
     "text": [
      "Enter coefficient of x^3 (a): 32\n",
      "Enter coefficient of x^2 (b): 43\n",
      "Enter coefficient of x (c): 54\n",
      "Enter constant term (d): 1\n",
      "The roots of the cubic equation are:\n",
      "Root 1: (0.617377270410568+0.3672947534063196j)\n",
      "Root 2: (-0.6624770480786702+0.3716294818969471j)\n",
      "Root 3: (-1.2986502223318976-0.7389242353032667j)\n"
     ]
    }
   ],
   "source": [
    "## 20. Write a program that determines the roots of a cubic equation using the Cardano formula.\n",
    "import math\n",
    "a = float(input(\"Enter coefficient of x^3 (a): \"))\n",
    "b = float(input(\"Enter coefficient of x^2 (b): \"))\n",
    "c = float(input(\"Enter coefficient of x (c): \"))\n",
    "d = float(input(\"Enter constant term (d): \"))\n",
    "p = (3*a*c-b**2)/(3*a**2)\n",
    "q = (2*b**3-9*a*b*c+27*a**2*d) / (27*a**3)\n",
    "delta = q**2/4 + p**3/27\n",
    "if delta > 0:\n",
    "    # Case 1: One real root and two complex roots\n",
    "    A = (-q/2 + math.sqrt(delta))**(1/3)\n",
    "    B = (-q/2 - math.sqrt(delta))**(1/3)\n",
    "    real_root = A + B - b / (3*a)\n",
    "    complex_part = (A - B) * math.sqrt(3) / 2\n",
    "    complex_root1 = - (A + B) / 2 - b / (3*a) + complex_part * 1j\n",
    "    complex_root2 = - (A + B) / 2 - b / (3*a) - complex_part * 1j\n",
    "    roots = (real_root, complex_root1, complex_root2)\n",
    "elif delta == 0:\n",
    "    # Case 2: Three real roots, at least two are equal\n",
    "    if q == 0:\n",
    "        real_root = -b / (3*a)\n",
    "        roots = (real_root, real_root, real_root)\n",
    "    else:\n",
    "        A = (-q/2)**(1/3)\n",
    "        real_root1 = 2 * A - b / (3*a)\n",
    "        real_root2 = -A - b / (3*a)\n",
    "        roots = (real_root1, real_root2, real_root2)\n",
    "else:\n",
    "    # Case 3: Three real roots, all distinct\n",
    "    phi = math.acos(-q / 2 * math.sqrt(-27 / p**3))\n",
    "    real_root1 = 2 * math.sqrt(-p / 3) * math.cos(phi / 3) - b / (3*a)\n",
    "    real_root2 = 2 * math.sqrt(-p / 3) * math.cos((phi + 2 * math.pi) / 3) - b / (3*a)\n",
    "    real_root3 = 2 * math.sqrt(-p / 3) * math.cos((phi + 4 * math.pi) / 3) - b / (3*a)\n",
    "    roots = (real_root1, real_root2, real_root3)\n",
    "\n",
    "# Print the roots\n",
    "print(\"The roots of the cubic equation are:\")\n",
    "for i, root in enumerate(roots, start=1):\n",
    "    print(f\"Root {i}: {root}\")\n"
   ]
  },
  {
   "cell_type": "markdown",
   "id": "577c38aa",
   "metadata": {},
   "source": [
    "# Advanced Level:"
   ]
  },
  {
   "cell_type": "code",
   "execution_count": 45,
   "id": "1b50f906",
   "metadata": {},
   "outputs": [
    {
     "name": "stdout",
     "output_type": "stream",
     "text": [
      "enter the annual income320000\n",
      "your icome tax for the year is:115000.00\n"
     ]
    }
   ],
   "source": [
    "#21. Create a program that calculates the income tax based on the user's income and tax brackets.\n",
    "tax_brackets=[(0,10000),(10000,40000),(40000,80000),(80000,float('inf'))]#float('inf') goes till infinity\n",
    "tax_rates=[0.1,0.2,0.3,0.4]\n",
    "income=float(input(\"enter the annual income\"))\n",
    "total_tax=0\n",
    "for bracket,rate in zip(tax_brackets,tax_rates):\n",
    "    lower_bound,upper_bound=bracket\n",
    "    if income>upper_bound:\n",
    "        total_tax+=(upper_bound-lower_bound)*rate\n",
    "    else:\n",
    "        total_tax+=(income-lower_bound)*rate\n",
    "        break\n",
    "print(f'your icome tax for the year is:{total_tax:.2f}')\n"
   ]
  },
  {
   "cell_type": "code",
   "execution_count": 1,
   "id": "a9b6e3eb",
   "metadata": {},
   "outputs": [
    {
     "name": "stdout",
     "output_type": "stream",
     "text": [
      "enter your choice(rock,paper,scissors):rock\n",
      "you chose:rock\n",
      "computer chose:paper\n",
      "computer win\n",
      "do you want to play again?(yes/no):yes\n",
      "enter your choice(rock,paper,scissors):paper\n",
      "you chose:paper\n",
      "computer chose:scissors\n",
      "computer win\n",
      "do you want to play again?(yes/no):no\n",
      "thanks for playing\n"
     ]
    }
   ],
   "source": [
    "#22. Write a program that simulates a rock-paper-scissors game against the computer.\n",
    "import random\n",
    "while True:\n",
    "    user_choice=input(\"enter your choice(rock,paper,scissors):\").lower()\n",
    "    computer_choice=random.choice(['rock','paper','scissors'])\n",
    "    print(f'you chose:{user_choice}')\n",
    "    print(f'computer chose:{computer_choice}')\n",
    "    if user_choice==computer_choice:\n",
    "        print('it is tie')\n",
    "    elif(user_choice=='rock' and computer_choice=='scissors') or \\\n",
    "        (user_choice=='paper' and computer_choice=='rock') or \\\n",
    "        (user_choice=='sciessors' and computer_choice=='paper'):\n",
    "        print(\"you win\")\n",
    "    else:\n",
    "        print('computer win')\n",
    "    play_again=input(\"do you want to play again?(yes/no):\")\n",
    "    if play_again.lower()!='yes':\n",
    "        print(\"thanks for playing\")\n",
    "        break\n",
    "        \n",
    "        "
   ]
  },
  {
   "cell_type": "code",
   "execution_count": 4,
   "id": "36551f42",
   "metadata": {},
   "outputs": [
    {
     "name": "stdout",
     "output_type": "stream",
     "text": [
      "enter the length of the password5\n",
      "enter the complexity level (low,medium,high):medium\n",
      "generated password is /a5h6\n"
     ]
    }
   ],
   "source": [
    "#23. Develop a program that generates a random password based on user preferences (length, complexity).\n",
    "import random\n",
    "import string\n",
    "length=int(input(\"enter the length of the password\"))\n",
    "complexity=input(\"enter the complexity level (low,medium,high):\").lower()\n",
    "if complexity=='low':\n",
    "    chars=string.ascii_letters+string.digits\n",
    "elif complexity=='medium':\n",
    "    chars=string.ascii_letters+string.digits+string.punctuation\n",
    "else:\n",
    "    chars=string.ascii_letters+string.digits+string.punctuation+string.ascii_uppercase\n",
    "password=''.join(random.choice(chars) for _ in range(length))\n",
    "print(\"generated password is\",password)"
   ]
  },
  {
   "cell_type": "code",
   "execution_count": 7,
   "id": "092e507b",
   "metadata": {},
   "outputs": [
    {
     "name": "stdout",
     "output_type": "stream",
     "text": [
      "Welcome to the Adventure Game!\n",
      "You find yourself in a mysterious forest.\n",
      "\n",
      "What do you do?\n",
      "1. Go deeper into the forest\n",
      "2. Climb a tree to get a better view\n",
      "3. Stay where you are and make a campfire\n",
      "Enter your choice (1, 2, or 3): 2\n",
      "\n",
      "You climb a tree to get a better view.\n",
      "You spot a hidden path leading deeper into the forest.\n",
      "You decide to follow the path.\n",
      "Congratulations! You made it through the forest!\n"
     ]
    }
   ],
   "source": [
    "#24. Create a program that implements a simple text-based adventure game with branching scenarios.\n",
    "import time\n",
    "import random\n",
    "\n",
    "print(\"Welcome to the Adventure Game!\")\n",
    "time.sleep(1)\n",
    "print(\"You find yourself in a mysterious forest.\")\n",
    "time.sleep(1)\n",
    "\n",
    "# Start the adventure loop\n",
    "while True:\n",
    "    print(\"\\nWhat do you do?\")\n",
    "    print(\"1. Go deeper into the forest\")\n",
    "    print(\"2. Climb a tree to get a better view\")\n",
    "    print(\"3. Stay where you are and make a campfire\")\n",
    "\n",
    "    choice = input(\"Enter your choice (1, 2, or 3): \")\n",
    "\n",
    "    if choice == '1':\n",
    "        print(\"\\nYou venture deeper into the forest.\")\n",
    "        print(\"You encounter a river blocking your path.\")\n",
    "        time.sleep(1)\n",
    "        print(\"\\nWhat do you do?\")\n",
    "        print(\"1. Swim across\")\n",
    "        print(\"2. Try to find a bridge\")\n",
    "\n",
    "        river_choice = input(\"Enter your choice (1 or 2): \")\n",
    "\n",
    "        if river_choice == '1':\n",
    "            print(\"\\nYou attempt to swim across the river.\")\n",
    "            time.sleep(1)\n",
    "            print(\"Unfortunately, the current is too strong and you get swept away.\")\n",
    "            print(\"Game Over!\")\n",
    "            break\n",
    "        elif river_choice == '2':\n",
    "            print(\"\\nYou search for a bridge and find one.\")\n",
    "            time.sleep(1)\n",
    "            print(\"You safely cross the river and continue your journey.\")\n",
    "            time.sleep(1)\n",
    "            print(\"Congratulations! You made it through the forest!\")\n",
    "            break\n",
    "        else:\n",
    "            print(\"Invalid choice. Please try again.\")\n",
    "    elif choice == '2':\n",
    "        print(\"\\nYou climb a tree to get a better view.\")\n",
    "        time.sleep(1)\n",
    "        print(\"You spot a hidden path leading deeper into the forest.\")\n",
    "        time.sleep(1)\n",
    "        print(\"You decide to follow the path.\")\n",
    "        time.sleep(1)\n",
    "        print(\"Congratulations! You made it through the forest!\")\n",
    "        break\n",
    "    elif choice == '3':\n",
    "        print(\"\\nYou stay where you are and make a campfire.\")\n",
    "        time.sleep(1)\n",
    "        print(\"As night falls, you hear strange noises coming from the forest.\")\n",
    "        time.sleep(1)\n",
    "        print(\"You decide to investigate but get lost.\")\n",
    "        print(\"Game Over!\")\n",
    "        break\n",
    "    else:\n",
    "        print(\"Invalid choice. Please try again.\")\n"
   ]
  },
  {
   "cell_type": "code",
   "execution_count": 3,
   "id": "c9076f49",
   "metadata": {},
   "outputs": [
    {
     "name": "stdout",
     "output_type": "stream",
     "text": [
      "enter the coefficient of x12\n",
      "enter the coefficient of costant3\n",
      "the solutio to the equation 12.0x+3.0=0 is x=-0.25\n"
     ]
    }
   ],
   "source": [
    "#25. Build a program that solves a linear equation for x, considering different cases.\n",
    "c_x=float(input(\"enter the coefficient of x\"))\n",
    "c_o=float(input(\"enter the coefficient of costant\"))\n",
    "if c_x==0:\n",
    "    if c_o==0:\n",
    "        print(\"the equation is identity it has infiite solutions\")\n",
    "    else:\n",
    "        print(\"the equation is inconsistant it has no solutions\")\n",
    "else:\n",
    "    x=-c_o/c_x\n",
    "    print(f\"the solutio to the equation {c_x}x+{c_o}=0 is x={x}\")\n",
    "    "
   ]
  },
  {
   "cell_type": "code",
   "execution_count": 12,
   "id": "bf6f45b8",
   "metadata": {},
   "outputs": [
    {
     "name": "stdout",
     "output_type": "stream",
     "text": [
      "\n",
      "Question 1: What is the capital of France?\n",
      "A. Paris\n",
      "B. London\n",
      "C. Rome\n",
      "D. Berlin\n",
      "Enter your answer (A, B, C, or D): A\n",
      "Correct!\n",
      "\n",
      "Question 2: Which planet is known as the Red Planet?\n",
      "A. Venus\n",
      "B. Mars\n",
      "C. Jupiter\n",
      "D. Saturn\n",
      "Enter your answer (A, B, C, or D): b\n",
      "Correct!\n",
      "\n",
      "Quiz completed! Your score is: 2/2\n"
     ]
    }
   ],
   "source": [
    "import time\n",
    "\n",
    "questions = [\n",
    "    {\n",
    "        \"question\": \"What is the capital of France?\",\n",
    "        \"options\": [\"A. Paris\", \"B. London\", \"C. Rome\", \"D. Berlin\"],\n",
    "        \"answer\": \"A\"\n",
    "    },\n",
    "    {\n",
    "        \"question\": \"Which planet is known as the Red Planet?\",\n",
    "        \"options\": [\"A. Venus\", \"B. Mars\", \"C. Jupiter\", \"D. Saturn\"],\n",
    "        \"answer\": \"B\"\n",
    "    }\n",
    "]\n",
    "\n",
    "score = 0\n",
    "question_number = 1\n",
    "\n",
    "for question in questions:\n",
    "    print(f\"\\nQuestion {question_number}: {question['question']}\")\n",
    "    for option in question['options']:\n",
    "        print(option)\n",
    "    user_answer = input(\"Enter your answer (A, B, C, or D): \").upper()\n",
    "    if user_answer == question['answer']:\n",
    "        print(\"Correct!\")\n",
    "        score += 1\n",
    "    else:\n",
    "        print(\"Wrong!\")\n",
    "    question_number += 1\n",
    "\n",
    "print(f\"\\nQuiz completed! Your score is: {score}/{len(questions)}\")\n"
   ]
  },
  {
   "cell_type": "code",
   "execution_count": 13,
   "id": "a601de79",
   "metadata": {},
   "outputs": [
    {
     "name": "stdout",
     "output_type": "stream",
     "text": [
      "enter the number to check prime or not65\n",
      "65 is not a prime number\n"
     ]
    }
   ],
   "source": [
    "#27. Develop a program that determines whether a given year is a prime number or not.\n",
    "#20. Develop a program that checks if a given number is prime or not using nested if-else statements.\n",
    "num=int(input(\"enter the number to check prime or not\"))\n",
    "if num>1:\n",
    "    if num==2:\n",
    "        print(num,\"is a prime number\")\n",
    "    elif num%2==0:\n",
    "        print(num,'is not a prime_number')\n",
    "    else:\n",
    "        is_prime=True\n",
    "        for i in range(3,int(num**0.5)+1,2):\n",
    "            if num%i==0:\n",
    "                is_prime=False\n",
    "                break\n",
    "        if is_prime:\n",
    "            print(num,'is a prime number')\n",
    "        else:\n",
    "            print(num,'is not a prime number')\n",
    "else:\n",
    "    print(\"is not a prime number\")"
   ]
  },
  {
   "cell_type": "code",
   "execution_count": 14,
   "id": "b8dd2db4",
   "metadata": {},
   "outputs": [
    {
     "name": "stdout",
     "output_type": "stream",
     "text": [
      "Enter the first number: 21\n",
      "Enter the second number: 23\n",
      "Enter the third number: 43\n",
      "Numbers in ascending order: [21.0, 23.0, 43.0]\n"
     ]
    }
   ],
   "source": [
    "#28. Create a program that sorts three numbers in ascending order using conditional statements.\n",
    "# Input three numbers from the user\n",
    "num1 = float(input(\"Enter the first number: \"))\n",
    "num2 = float(input(\"Enter the second number: \"))\n",
    "num3 = float(input(\"Enter the third number: \"))\n",
    "\n",
    "# Sort the numbers using conditional statements\n",
    "if num1 <= num2 <= num3:\n",
    "    sorted_nums = [num1, num2, num3]\n",
    "elif num1 <= num3 <= num2:\n",
    "    sorted_nums = [num1, num3, num2]\n",
    "elif num2 <= num1 <= num3:\n",
    "    sorted_nums = [num2, num1, num3]\n",
    "elif num2 <= num3 <= num1:\n",
    "    sorted_nums = [num2, num3, num1]\n",
    "elif num3 <= num1 <= num2:\n",
    "    sorted_nums = [num3, num1, num2]\n",
    "else:\n",
    "    sorted_nums = [num3, num2, num1]\n",
    "\n",
    "# Print the sorted numbers\n",
    "print(\"Numbers in ascending order:\", sorted_nums)\n"
   ]
  },
  {
   "cell_type": "code",
   "execution_count": 15,
   "id": "c1caaf6a",
   "metadata": {},
   "outputs": [
    {
     "name": "stdout",
     "output_type": "stream",
     "text": [
      "Approximated roots: [(2.0000000000000053-3.591859053340591e-17j), (0.9999999999999991+3.586169705087451e-17j), (3.0000000000000386+5.699968799840508e-20j), (4.000000000000011-5.192855506726252e-23j)]\n"
     ]
    }
   ],
   "source": [
    "#29. Build a program that determines the roots of a quartic equation using numerical methods.\n",
    "import numpy as np\n",
    "\n",
    "# Coefficients of the quartic equation: ax^4 + bx^3 + cx^2 + dx + e\n",
    "coefficients = [1, -10, 35, -50, 24]\n",
    "\n",
    "# Initial guesses for the roots (can be any complex numbers)\n",
    "initial_guesses = [complex(1, 1), complex(1, -1), complex(-1, 1), complex(-1, -1)]\n",
    "\n",
    "# Define the quartic equation\n",
    "def quartic_equation(x, coefficients):\n",
    "    \"\"\"Evaluate the quartic equation at x\"\"\"\n",
    "    a, b, c, d, e = coefficients\n",
    "    return a * x**4 + b * x**3 + c * x**2 + d * x + e\n",
    "\n",
    "# Approximate the roots using the Durand-Kerner method\n",
    "roots = initial_guesses[:]\n",
    "\n",
    "max_iterations = 100\n",
    "tolerance = 1e-6\n",
    "\n",
    "for _ in range(max_iterations):\n",
    "    new_roots = []\n",
    "    for i in range(len(roots)):\n",
    "        numerator = quartic_equation(roots[i], coefficients)\n",
    "        denominator = 1\n",
    "        for j in range(len(roots)):\n",
    "            if j != i:\n",
    "                denominator *= roots[i] - roots[j]\n",
    "        new_roots.append(roots[i] - numerator / denominator)\n",
    "    \n",
    "    # Check convergence\n",
    "    if all(abs(new_root - root) < tolerance for new_root, root in zip(new_roots, roots)):\n",
    "        roots = new_roots\n",
    "        break\n",
    "    \n",
    "    roots = new_roots\n",
    "else:\n",
    "    raise ValueError(\"Durand-Kerner method did not converge within the maximum number of iterations.\")\n",
    "\n",
    "print(\"Approximated roots:\", roots)\n"
   ]
  },
  {
   "cell_type": "code",
   "execution_count": 16,
   "id": "c84e36a1",
   "metadata": {},
   "outputs": [
    {
     "name": "stdout",
     "output_type": "stream",
     "text": [
      "Enter your weight in kilograms: 32\n",
      "Enter your height in meters: 5.2\n",
      "enter your bmi value21\n",
      "normal\n"
     ]
    }
   ],
   "source": [
    "#30. Write a program that calculates the BMI (Body Mass Index) and provides health recommendations based\n",
    "#on the user's input.\n",
    "weight = float(input(\"Enter your weight in kilograms: \"))\n",
    "height = float(input(\"Enter your height in meters: \"))\n",
    "bmi=float(input(\"enter your bmi value\"))\n",
    "if bmi<18.5:\n",
    "    print(\"underweighted\")\n",
    "elif 18.5<=bmi<25:\n",
    "    print(\"normal\")\n",
    "elif 25<=bmi<30:\n",
    "    print(\"overweight\")\n",
    "else:\n",
    "    print(\"obese\")"
   ]
  },
  {
   "cell_type": "code",
   "execution_count": null,
   "id": "fc15051a",
   "metadata": {},
   "outputs": [],
   "source": []
  }
 ],
 "metadata": {
  "kernelspec": {
   "display_name": "Python 3 (ipykernel)",
   "language": "python",
   "name": "python3"
  },
  "language_info": {
   "codemirror_mode": {
    "name": "ipython",
    "version": 3
   },
   "file_extension": ".py",
   "mimetype": "text/x-python",
   "name": "python",
   "nbconvert_exporter": "python",
   "pygments_lexer": "ipython3",
   "version": "3.9.7"
  }
 },
 "nbformat": 4,
 "nbformat_minor": 5
}
