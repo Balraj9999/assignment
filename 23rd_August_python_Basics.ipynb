{
 "cells": [
  {
   "cell_type": "markdown",
   "id": "805c69b8",
   "metadata": {},
   "source": [
    "# TOPIC:PYTHON BASIC VARIABLES"
   ]
  },
  {
   "cell_type": "code",
   "execution_count": 1,
   "id": "6288f710",
   "metadata": {},
   "outputs": [
    {
     "name": "stdout",
     "output_type": "stream",
     "text": [
      "Swapped Value of x=6\n",
      "Swapped Value of y=5\n"
     ]
    }
   ],
   "source": [
    "#1\n",
    "#declare the variables x&y\n",
    "x=5\n",
    "y=6\n",
    "#swapping\n",
    "x,y=y,x\n",
    "print(\"Swapped Value of x={}\".format(x))\n",
    "print(\"Swapped Value of y={}\".format(y))\n"
   ]
  },
  {
   "cell_type": "code",
   "execution_count": 2,
   "id": "469c272a",
   "metadata": {},
   "outputs": [
    {
     "name": "stdout",
     "output_type": "stream",
     "text": [
      "enter length value:23\n",
      "enter breadth value:32\n",
      "the area of rectangle is 736\n"
     ]
    }
   ],
   "source": [
    "#2\n",
    "#calculate area of a triangle\n",
    "#w.k.t area of triangle l*w\n",
    "length=int(input('enter length value:'))\n",
    "\n",
    "width=int(input(\"enter breadth value:\"))\n",
    "area=length*width\n",
    "print(\"the area of rectangle is\",area)"
   ]
  },
  {
   "cell_type": "code",
   "execution_count": 3,
   "id": "4b58a503",
   "metadata": {},
   "outputs": [
    {
     "name": "stdout",
     "output_type": "stream",
     "text": [
      "enter degree of celsius:21\n",
      "for 21.0 degrees of celsius the fahrenheit value is 69.8\n"
     ]
    }
   ],
   "source": [
    "#3\n",
    "#(1°C × 9/5) + 32 = 33.8°F\n",
    "#convert temperature from celsius to fahrenheit\n",
    "celsius=float(input('enter degree of celsius:'))\n",
    "f_h=(celsius*9/5)+32#formula to convert celsius to fahrenheit\n",
    "result=print(\"for {} degrees of celsius the fahrenheit value is {}\".format(celsius,f_h))"
   ]
  },
  {
   "cell_type": "markdown",
   "id": "d31ced20",
   "metadata": {},
   "source": [
    "# TOPIC:STRING BASED QUESTIONS"
   ]
  },
  {
   "cell_type": "code",
   "execution_count": 4,
   "id": "aec2a3a6",
   "metadata": {},
   "outputs": [
    {
     "name": "stdout",
     "output_type": "stream",
     "text": [
      "enter the string:hello\n",
      "5\n"
     ]
    }
   ],
   "source": [
    "#1\n",
    "a=input(\"enter the string:\")#reading user input as string\n",
    "print(len(a))"
   ]
  },
  {
   "cell_type": "code",
   "execution_count": 5,
   "id": "11fa50f9",
   "metadata": {},
   "outputs": [
    {
     "name": "stdout",
     "output_type": "stream",
     "text": [
      "enter a string:iam your advisor\n",
      "the count of a is:2\n",
      "the count of e is:0\n",
      "the count of i is:2\n",
      "the count of o is:2\n",
      "the count of u is:1\n"
     ]
    }
   ],
   "source": [
    "#2\n",
    "#to check count of individual charecters we use obj.count(parameter)\n",
    "a=input('enter a string:')\n",
    "print('the count of a is:{}'.format(a.count('a')))\n",
    "print('the count of e is:{}'.format(a.count('e')))\n",
    "print('the count of i is:{}'.format(a.count('i')))\n",
    "print('the count of o is:{}'.format(a.count('o')))\n",
    "print('the count of u is:{}'.format(a.count('u')))"
   ]
  },
  {
   "cell_type": "code",
   "execution_count": 1,
   "id": "5b7e06c6",
   "metadata": {},
   "outputs": [
    {
     "name": "stdout",
     "output_type": "stream",
     "text": [
      "enter the string:code\n",
      "edoc\n"
     ]
    }
   ],
   "source": [
    "#3\n",
    "#to reverse the given string we use slicing\n",
    "str=input(\"enter the string:\")\n",
    "b=str[::-1]#TO REVERSE GIVEN STRING\n",
    "print(b)"
   ]
  },
  {
   "cell_type": "code",
   "execution_count": 2,
   "id": "6e93e1b6",
   "metadata": {},
   "outputs": [
    {
     "name": "stdout",
     "output_type": "stream",
     "text": [
      "enter the stringmadam\n",
      "yes madam is a pallendrome\n"
     ]
    }
   ],
   "source": [
    "#4\n",
    "#to check wether the given string is pallendrome(reads the same forwards and backwards)or not\n",
    "str=input(\"enter the string\")\n",
    "rev=str[::-1] #reversing the string\n",
    "if(str==rev):#checking wether str==rev \n",
    "    print(\"yes {} is a pallendrome\".format(str))\n",
    "else:\n",
    "    print(\"no {} is not a pallendrome\".format(str))"
   ]
  },
  {
   "cell_type": "code",
   "execution_count": 3,
   "id": "42766df7",
   "metadata": {},
   "outputs": [
    {
     "name": "stdout",
     "output_type": "stream",
     "text": [
      "enter the string with spaces:     balraj    \n",
      "modified string without spaces is:balraj\n"
     ]
    }
   ],
   "source": [
    "#5\n",
    "#to remove all the spaces which contains left or right side of string we use obj.strip()\n",
    "str=input('enter the string with spaces:')\n",
    "n_s=str.strip()\n",
    "print('modified string without spaces is:{}'.format(n_s))"
   ]
  }
 ],
 "metadata": {
  "kernelspec": {
   "display_name": "Python 3 (ipykernel)",
   "language": "python",
   "name": "python3"
  },
  "language_info": {
   "codemirror_mode": {
    "name": "ipython",
    "version": 3
   },
   "file_extension": ".py",
   "mimetype": "text/x-python",
   "name": "python",
   "nbconvert_exporter": "python",
   "pygments_lexer": "ipython3",
   "version": "3.9.7"
  }
 },
 "nbformat": 4,
 "nbformat_minor": 5
}
