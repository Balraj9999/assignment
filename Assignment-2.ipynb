{
 "cells": [
  {
   "cell_type": "markdown",
   "id": "a5bc0fa0",
   "metadata": {},
   "source": [
    "# TOPIC: STRING BASED ASSIGNMENT PROBLEM"
   ]
  },
  {
   "cell_type": "code",
   "execution_count": 4,
   "id": "2b4d6d72",
   "metadata": {
    "scrolled": false
   },
   "outputs": [
    {
     "name": "stdout",
     "output_type": "stream",
     "text": [
      "enter a string:hello\n",
      "olleh\n"
     ]
    }
   ],
   "source": [
    "#1 Program to reverse a string\n",
    "_str_=input('enter a string:')\n",
    "print(_str_[::-1])"
   ]
  },
  {
   "cell_type": "code",
   "execution_count": 5,
   "id": "aa005d8f",
   "metadata": {},
   "outputs": [
    {
     "name": "stdout",
     "output_type": "stream",
     "text": [
      "enter the string:madam\n",
      "yes madam is a pallendrome\n"
     ]
    }
   ],
   "source": [
    "#2 to check wether the given string is pallendrome\n",
    "str_1=input(\"enter the string:\")\n",
    "rev=str_1[::-1] #reversing the string\n",
    "if(str_1==rev):#checking wether str==rev \n",
    "    print(\"yes {} is a pallendrome\".format(str_1))\n",
    "else:\n",
    "    print(\"no {} is not a pallendrome\".format(str_1))"
   ]
  },
  {
   "cell_type": "code",
   "execution_count": 6,
   "id": "ad0ed9b1",
   "metadata": {},
   "outputs": [
    {
     "name": "stdout",
     "output_type": "stream",
     "text": [
      "enter a string:welcome\n",
      "WELCOME\n"
     ]
    }
   ],
   "source": [
    "#3 convert string to upppercase\n",
    "_s=input('enter a string:')\n",
    "b=_s.upper()#using upper method to convert uppercase\n",
    "print(b)"
   ]
  },
  {
   "cell_type": "code",
   "execution_count": 37,
   "id": "2ea91d81",
   "metadata": {},
   "outputs": [
    {
     "name": "stdout",
     "output_type": "stream",
     "text": [
      "enter a string with uppercase letters:pwskills\n",
      "pwskills\n"
     ]
    }
   ],
   "source": [
    "#4 convert string to lowercase\n",
    "str_4=input(\"enter a string with uppercase letters:\")\n",
    "str_l=str_4.lower() # using method lower to conver to lower case\n",
    "print(str_l)"
   ]
  },
  {
   "cell_type": "code",
   "execution_count": 39,
   "id": "1c89975e",
   "metadata": {},
   "outputs": [
    {
     "name": "stdout",
     "output_type": "stream",
     "text": [
      "enter a string:hello\n",
      "no of vowels: 2\n"
     ]
    }
   ],
   "source": [
    "#5 count the no of vowels\n",
    "def v_s(stri_ng):\n",
    "    v_c=0\n",
    "    stri_ng=stri_ng.lower()\n",
    "    v_o=set('aeiou')\n",
    "    for chare in stri_ng:\n",
    "        if chare in v_o:\n",
    "            v_c +=1\n",
    "    return v_c\n",
    "i_s=input(\"enter a string:\")\n",
    "r=v_s(i_s)\n",
    "print(\"no of vowels:\",r)"
   ]
  },
  {
   "cell_type": "code",
   "execution_count": 40,
   "id": "d16438f8",
   "metadata": {},
   "outputs": [
    {
     "name": "stdout",
     "output_type": "stream",
     "text": [
      "enter a string:india\n",
      "no of consonents: 2\n"
     ]
    }
   ],
   "source": [
    "##6 count the no of consonants in a string\n",
    "def c_s(con):#c_s:consonants function\n",
    "    c_c=0#c_c:consonent count\n",
    "    con=con.lower()#s:string\n",
    "    c_o=set('aeiou')#c_o:consonants\n",
    "    for char in con:#itereting through each charecter\n",
    "        if char not in c_o:\n",
    "            c_c +=1\n",
    "    return c_c\n",
    "i_s=input(\"enter a string:\")\n",
    "r=c_s(i_s)\n",
    "print(\"no of consonents:\",r)"
   ]
  },
  {
   "cell_type": "code",
   "execution_count": 10,
   "id": "f2a034ff",
   "metadata": {},
   "outputs": [
    {
     "name": "stdout",
     "output_type": "stream",
     "text": [
      "enter the string with spaces:b l a c k p a n t h e r\n",
      "modified string without spaces is:blackpanther\n"
     ]
    }
   ],
   "source": [
    "#7 to remove white spaces\n",
    "str_2=input('enter the string with spaces:')\n",
    "n_s=str_2.replace(\" \",\"\")#using replace method to remove white spaces\n",
    "print('modified string without spaces is:{}'.format(n_s))"
   ]
  },
  {
   "cell_type": "code",
   "execution_count": 41,
   "id": "aaa1f7ab",
   "metadata": {},
   "outputs": [
    {
     "name": "stdout",
     "output_type": "stream",
     "text": [
      "enter a string:datascience\n",
      "['d', 'a', 't', 'a', 's', 'c', 'i', 'e', 'n', 'c', 'e']\n",
      "the length of string is 8\n"
     ]
    }
   ],
   "source": [
    "#8 find length without len() fun\n",
    "x_l=input(\"enter a string:\")#balraj-->012345\n",
    "x_l1=list(x_l)#[b,a,l,r,a,j]\n",
    "print(x_l1)#\n",
    "l_c=x_l1.index(x_l1[-1]) #5      \n",
    "l_c=l_c+1#length is sum of end index+1#5+1\n",
    "print('the length of string is {}'.format(l_c))"
   ]
  },
  {
   "cell_type": "code",
   "execution_count": 43,
   "id": "f13c3b2f",
   "metadata": {},
   "outputs": [
    {
     "name": "stdout",
     "output_type": "stream",
     "text": [
      "True\n"
     ]
    }
   ],
   "source": [
    "#9 check if the word contains specified word\n",
    "g_9='hello akash'\n",
    "h_9='hello' in g_9#check for containin\n",
    "print(h_9)"
   ]
  },
  {
   "cell_type": "code",
   "execution_count": 13,
   "id": "177e6e40",
   "metadata": {},
   "outputs": [
    {
     "name": "stdout",
     "output_type": "stream",
     "text": [
      "hello kumar\n"
     ]
    }
   ],
   "source": [
    "#10 replacing word with another word\n",
    "_d='hello raj'\n",
    "_e=_d.replace('raj','kumar')#replacing \"raj\" with 'kumar' by replace method\n",
    "print(_e)"
   ]
  },
  {
   "cell_type": "code",
   "execution_count": 14,
   "id": "4e600f4a",
   "metadata": {},
   "outputs": [
    {
     "name": "stdout",
     "output_type": "stream",
     "text": [
      "enter the sentence:hello hello who are you\n",
      "2\n"
     ]
    }
   ],
   "source": [
    "#11count the occurance of word in string\n",
    "_m=input('enter the sentence:')\n",
    "print(_m.count('hello'))#here we have to take the parameter as the word which we want to know the occurance\n"
   ]
  },
  {
   "cell_type": "code",
   "execution_count": 44,
   "id": "7f92347c",
   "metadata": {},
   "outputs": [
    {
     "name": "stdout",
     "output_type": "stream",
     "text": [
      "enter a text:your name rishik my name also rishik\n",
      "enter a word:rishik\n",
      "index of the first occurance 10\n"
     ]
    }
   ],
   "source": [
    "#12.find the first occurance of a word in astring\n",
    "def find_first_occurance(tex_t,word):#creating a function\n",
    "    index=tex_t.find(word)# check the index of first occurance of word in the text\n",
    "    if index==-1:#if index==-1 that means no word found \n",
    "        return None #returns none if the word doesnot exists in a text\n",
    "    return index #returs the index if word exist\n",
    "tex_t=input(\"enter a text:\")\n",
    "word=input(\"enter a word:\")#word we want to check \n",
    "result=find_first_occurance(tex_t,word) #function calling\n",
    "print(\"index of the first occurance\",result)"
   ]
  },
  {
   "cell_type": "code",
   "execution_count": 16,
   "id": "64c4ccab",
   "metadata": {},
   "outputs": [
    {
     "name": "stdout",
     "output_type": "stream",
     "text": [
      "enter the text:great of all time\n",
      "enter the word:time\n",
      "the last occurance index: 13\n"
     ]
    }
   ],
   "source": [
    "#13 find the last occurance of a word in a string\n",
    "def last_occurance(text_l,word_l):#creating a function\n",
    "    index=text_l.rfind(word_l)#check the index of the  last occurance of a word\n",
    "    if index==-1:#if index==-1 that means no word found\n",
    "        return None #returs the none if word doesnot exists\n",
    "    return index#returs the index if word exists\n",
    "text_l=input(\"enter the text:\")\n",
    "word_l=input(\"enter the word:\")\n",
    "result=last_occurance(text_l,word_l)\n",
    "print(\"the last occurance index:\",result)"
   ]
  },
  {
   "cell_type": "code",
   "execution_count": 17,
   "id": "273e772d",
   "metadata": {},
   "outputs": [
    {
     "name": "stdout",
     "output_type": "stream",
     "text": [
      "enter a string:take risk face the challenges\n",
      "the splitted words: ['take', 'risk', 'face', 'the', 'challenges']\n"
     ]
    }
   ],
   "source": [
    "#14.split a string into list of words\n",
    "def split_string(str_3):#creating a function \n",
    "    list_words=str_3.split()#using split method to seperate the words\n",
    "    return list_words\n",
    "str_3=input(\"enter a string:\")\n",
    "result=split_string(str_3)\n",
    "print(\"the splitted words:\",result)"
   ]
  },
  {
   "cell_type": "code",
   "execution_count": 18,
   "id": "4d68000d",
   "metadata": {},
   "outputs": [
    {
     "name": "stdout",
     "output_type": "stream",
     "text": [
      "the joined string is: hello iam balraj\n"
     ]
    }
   ],
   "source": [
    "#15 join a list of words into a string#lowias\n",
    "def join_lowias(words):#creating a function\n",
    "    joined_string=\" \".join(words)#using join method to make group of words as single sentence\n",
    "    return joined_string\n",
    "words=['hello','iam','balraj']\n",
    "text=join_lowias(words)\n",
    "print(\"the joined string is:\",text)"
   ]
  },
  {
   "cell_type": "code",
   "execution_count": 20,
   "id": "cb955add",
   "metadata": {},
   "outputs": [
    {
     "name": "stdout",
     "output_type": "stream",
     "text": [
      "enter a stringwelcome to datascience\n",
      "the new string is welcome_to_datascience\n"
     ]
    }
   ],
   "source": [
    "#16. Convert a string where words are separated by spaces to one\n",
    "#where words are separated by underscores.\n",
    "def replace_spacewith_underscore(str_5):\n",
    "    underscore_seperated=str_5.replace(\" \",'_')\n",
    "    return underscore_seperated\n",
    "str_5=input('enter a string')\n",
    "result=replace_spacewith_underscore(str_5)\n",
    "print('the new string is',result)"
   ]
  },
  {
   "cell_type": "code",
   "execution_count": 1,
   "id": "bc67b244",
   "metadata": {},
   "outputs": [
    {
     "name": "stdout",
     "output_type": "stream",
     "text": [
      "enter a string:the man who knew infinity\n",
      "enter a prefix:the\n",
      "the string starts with specific_word:\n"
     ]
    }
   ],
   "source": [
    "#17 check if a string starts with a specific word or phrase\n",
    "def s_w_specific_word(str_6,prefix):#creating a function\n",
    "    specific_word=str_6.startswith(prefix)#usung startswith method to recognize the word to be started\n",
    "    return specific_word#it returns bool if specific_word present otherwise returns false\n",
    "str_6=input(\"enter a string:\")\n",
    "prefix=input(\"enter a prefix:\")\n",
    "result=s_w_specific_word(str_6,prefix)\n",
    "if result:\n",
    "    print(\"the string starts with specific_word:\")\n",
    "else:\n",
    "    print(f\"the string doesnot starts with specific_word:\")"
   ]
  },
  {
   "cell_type": "code",
   "execution_count": 2,
   "id": "af27235c",
   "metadata": {},
   "outputs": [
    {
     "name": "stdout",
     "output_type": "stream",
     "text": [
      "enter a string:the man who knew infinity\n",
      "enter a word:infinity\n",
      "yes the string ends with specific word\n"
     ]
    }
   ],
   "source": [
    "#18.check if a string ends with specific word or phrase\n",
    "def s_w_ends_with(str_7,suffix):#creating a function\n",
    "    specific_word=str_7.endswith(suffix)#use endswith method to check specific word to be end\n",
    "    return specific_word\n",
    "str_7=input('enter a string:')\n",
    "suffix=input(\"enter a word:\")\n",
    "result=s_w_ends_with(str_7,suffix)\n",
    "if result:\n",
    "    print('yes the string ends with specific word')\n",
    "else:\n",
    "    print(\"no the string doesnot ends with specific string\")"
   ]
  },
  {
   "cell_type": "code",
   "execution_count": 3,
   "id": "63f47144",
   "metadata": {},
   "outputs": [
    {
     "name": "stdout",
     "output_type": "stream",
     "text": [
      "enter a stringmake in india\n",
      "the title of the string Make In India\n"
     ]
    }
   ],
   "source": [
    "#19.conver a string to title case\n",
    "def str_title_(str_8):#creating a function\n",
    "    title_is=str_8.title()#using method title it converts all first letters of the sentence as capital\n",
    "    return title_is\n",
    "str_8=input(\"enter a string\")\n",
    "result=str_title_(str_8)\n",
    "print(f\"the title of the string {result}\")"
   ]
  },
  {
   "cell_type": "code",
   "execution_count": 45,
   "id": "549a2e99",
   "metadata": {},
   "outputs": [
    {
     "name": "stdout",
     "output_type": "stream",
     "text": [
      "The longest word is: sentence\n"
     ]
    }
   ],
   "source": [
    "#20.find the longest word in a string\n",
    "def find_longest_word(input__string):#creating a functin\n",
    "    words = input_string.split()#splitting the sentence in string\n",
    "    longest_word = \"\"#taking empty string\n",
    "    max_length = 0\n",
    "    for word in words:#itereting through each word\n",
    "        word_length = len(word.strip('.,!?\").')) #calculating len of word seperated by special symbols\n",
    "        if word_length > max_length:\n",
    "            max_length = word_length\n",
    "            longest_word = word\n",
    "    \n",
    "    return longest_word\n",
    "input__string = \"This is a sample sentence with some long words.\"\n",
    "result = find_longest_word(input__string)\n",
    "print(\"The longest word is:\", result)\n"
   ]
  },
  {
   "cell_type": "code",
   "execution_count": 46,
   "id": "62849cf2",
   "metadata": {},
   "outputs": [
    {
     "name": "stdout",
     "output_type": "stream",
     "text": [
      "enter a stringwow beautiful\n",
      "Shortest word: wow\n"
     ]
    }
   ],
   "source": [
    "#21 find the shortest word in a string\n",
    "def find_shortest_word(te_xt):#creating a function\n",
    "        words = te_xt.split()#spliting the sentence in a string as words\n",
    "        shortest_word = None\n",
    "        min_length = float('inf') \n",
    "        for word in words:\n",
    "            if len(word) < min_length:\n",
    "                min_length = len(word)\n",
    "                shortest_word = word\n",
    "        return shortest_word\n",
    "# Example usage\n",
    "te_xt = input(\"enter a string\")\n",
    "shortest_word = find_shortest_word(text)\n",
    "print(\"Shortest word:\", shortest_word)\n"
   ]
  },
  {
   "cell_type": "code",
   "execution_count": 6,
   "id": "5e8069ed",
   "metadata": {},
   "outputs": [
    {
     "name": "stdout",
     "output_type": "stream",
     "text": [
      "enter a string:the sky is so high\n",
      "the reversed string words ['high', 'so', 'is', 'sky', 'the']\n"
     ]
    }
   ],
   "source": [
    "#22 reverse the order of words in a string\n",
    "def rev_order(str_9):#creating a function\n",
    "        o_w=str_9.split()#using split method\n",
    "        o_w.reverse()#using reverse method to  reverse the words\n",
    "        return o_w\n",
    "str_9=input(\"enter a string:\")\n",
    "result=rev_order(str_9)\n",
    "print(\"the reversed string words\",result)\n",
    "\n",
    "    "
   ]
  },
  {
   "cell_type": "code",
   "execution_count": 47,
   "id": "ccd47007",
   "metadata": {},
   "outputs": [
    {
     "name": "stdout",
     "output_type": "stream",
     "text": [
      "enter a string:123abcd\n",
      "yes 123abcd is alphanumeric\n"
     ]
    }
   ],
   "source": [
    "#23. check if a string is alphanumeric\n",
    "def al_nu(st_ring):#creating a function\n",
    "    alpha_numeric=st_ring.isalnum()#using method to know the string contains alphabets and numbers\n",
    "    return alpha_numeric#returns true if string contains alphabets and numbers\n",
    "st_ring=input(\"enter a string:\")\n",
    "result=al_nu(st_ring)\n",
    "if(result==True):\n",
    "    print(\"yes {} is alphanumeric\".format(st_ring))\n",
    "else:\n",
    "    print(\"no it is not alphanumeric\")"
   ]
  },
  {
   "cell_type": "code",
   "execution_count": 8,
   "id": "9b5878d0",
   "metadata": {},
   "outputs": [
    {
     "name": "stdout",
     "output_type": "stream",
     "text": [
      "enter a string123rollnumber\n",
      "the digits are123\n"
     ]
    }
   ],
   "source": [
    "#24. Extract all digits from a string\n",
    "def all_digits(str_a):#creating a function\n",
    "    digits=''#creating empty string\n",
    "    for chr in str_a:#iterating through each character\n",
    "        if chr.isdigit():#using isdigit() method to find wither the charecter is digit or not\n",
    "            digits += chr\n",
    "    return digits\n",
    "str_a=input(\"enter a string\")\n",
    "result=all_digits(str_a)\n",
    "print(\"the digits are{}\".format(result))"
   ]
  },
  {
   "cell_type": "code",
   "execution_count": 9,
   "id": "f7fbfeca",
   "metadata": {},
   "outputs": [
    {
     "name": "stdout",
     "output_type": "stream",
     "text": [
      "enter a string123mission\n",
      "the alphabets are mission\n"
     ]
    }
   ],
   "source": [
    "# 25.Extract all alphabets from a string\n",
    "def all_alphabets(str_b):#creating a function\n",
    "    alphabets=\"\"#creating empty string\n",
    "    for chr in str_b:#iterating through each charactrer\n",
    "        if chr.isalpha():#using isalpha() method to check wether the charecter is alphabet or not\n",
    "            alphabets += chr\n",
    "    return alphabets\n",
    "str_b=input(\"enter a string\")\n",
    "result=all_alphabets(str_b)\n",
    "print(\"the alphabets are\",result)\n",
    "            \n",
    "        "
   ]
  },
  {
   "cell_type": "code",
   "execution_count": 10,
   "id": "2a3cfb15",
   "metadata": {},
   "outputs": [
    {
     "name": "stdout",
     "output_type": "stream",
     "text": [
      "enter a stringALEXA is assistant\n",
      "the uppercase letters are: ALEXA\n",
      "the count is 5\n"
     ]
    }
   ],
   "source": [
    "#26 count the no of upper_case letters in a string\n",
    "def upper_case(str_c):#creating a function\n",
    "    u_case=\"\"#assigning empty string \n",
    "    for chr in str_c:#iterating through each charecter\n",
    "        if chr.isupper():#check for capital letters\n",
    "            u_case += chr\n",
    "    return u_case\n",
    "str_c=input(\"enter a string\")\n",
    "result=upper_case(str_c)\n",
    "if result:\n",
    "    print(\"the uppercase letters are:\",result)\n",
    "    print(\"the count is\",len(result))\n",
    "else:\n",
    "    print(\"sorry there is no upper_case letters\")"
   ]
  },
  {
   "cell_type": "code",
   "execution_count": 11,
   "id": "a2535b68",
   "metadata": {},
   "outputs": [
    {
     "name": "stdout",
     "output_type": "stream",
     "text": [
      "enter a stringALEXA is assistant\n",
      "the lower_case letters are: isassistant\n",
      "the count is: 11\n"
     ]
    }
   ],
   "source": [
    "#27 count the no of lower_case letters in a string\n",
    "def lower_case(str_d):#creating a function\n",
    "    l_case=\"\"#taking empty string\n",
    "    for chr in str_d:#iterating through each charecter\n",
    "        if chr.islower():#check for lower case letters\n",
    "            l_case += chr\n",
    "    return l_case\n",
    "str_d=input(\"enter a string\")\n",
    "result=lower_case(str_d)\n",
    "if result:\n",
    "    print(\"the lower_case letters are:\",result)\n",
    "    print(\"the count is:\",len(result))\n",
    "else:\n",
    "    print(\"no lower_case letters found\")\n",
    "\n",
    "        \n",
    "    "
   ]
  },
  {
   "cell_type": "code",
   "execution_count": 12,
   "id": "da57c9cd",
   "metadata": {},
   "outputs": [
    {
     "name": "stdout",
     "output_type": "stream",
     "text": [
      "enter a stringmarkANTONY\n",
      "the swap_case is: MARKantony\n"
     ]
    }
   ],
   "source": [
    "# 28.swap the case of each character in a string\n",
    "# we use swapcase method it converts lowercase letters to upper and upper case letters to lower\n",
    "def swap_case(str_e):#creating a function\n",
    "    s_case=str_e.swapcase()#using swapcase() to swap\n",
    "    return s_case#it returns lowercase as uppercase and uppercase as lowercase\n",
    "str_e=input(\"enter a string\")\n",
    "result=swap_case(str_e)\n",
    "print(\"the swap_case is:\",result)"
   ]
  },
  {
   "cell_type": "code",
   "execution_count": 13,
   "id": "f4ffc2c7",
   "metadata": {},
   "outputs": [
    {
     "name": "stdout",
     "output_type": "stream",
     "text": [
      "enter a string:today is not holiday\n",
      "enter a word:not\n",
      "the new sentence is: today is holiday\n"
     ]
    }
   ],
   "source": [
    "#29 remove the specific word from string \n",
    "def specific_word(str_29,w):#creating a function\n",
    "    b=str_29.split()#using split method to seperate the sentence as words\n",
    "    b.remove(w)#using remove method for removing the specific word\n",
    "    k=\" \"#storing removed word\n",
    "    s=k.join(b)#joining removed word to a empty string\n",
    "    return s \n",
    "str_29=input(\"enter a string:\")\n",
    "w=input(\"enter a word:\")\n",
    "result=specific_word(str_29,w)\n",
    "print(\"the new sentence is:\",result)"
   ]
  },
  {
   "cell_type": "code",
   "execution_count": 14,
   "id": "6eae8d39",
   "metadata": {},
   "outputs": [
    {
     "name": "stdout",
     "output_type": "stream",
     "text": [
      "mbalaraju8246@gmail.com is a valid email address.\n"
     ]
    }
   ],
   "source": [
    "#30. Check if a string is a valid email address.\n",
    "import re\n",
    "\n",
    "def is_valid_email(email):\n",
    "    # Define a regular expression pattern for a valid email address\n",
    "    pattern = r'^[\\w\\.-]+@[\\w\\.-]+\\.\\w+$'\n",
    "\n",
    "    # Use the re.match function to check if the email matches the pattern\n",
    "    if re.match(pattern, email):\n",
    "        return True\n",
    "    else:\n",
    "        return False\n",
    "\n",
    "# Example usage:\n",
    "email = \"mbalaraju8246@gmail.com\"\n",
    "if is_valid_email(email):\n",
    "    print(f\"{email} is a valid email address.\")\n",
    "else:\n",
    "    print(f\"{email} is not a valid email address.\")\n"
   ]
  },
  {
   "cell_type": "code",
   "execution_count": 15,
   "id": "b3a79e28",
   "metadata": {},
   "outputs": [
    {
     "name": "stdout",
     "output_type": "stream",
     "text": [
      "enter the mail:mbalaraju8246@gmail.com\n",
      "the username is: mbalaraju8246\n"
     ]
    }
   ],
   "source": [
    "# 31.extract the username from an email address string\n",
    "def obtain_username(str_f):#creating a function\n",
    "    u_n=str_f.split('@')[0]#splitting the sentece at @\n",
    "    return u_n\n",
    "str_f=input(\"enter the mail:\")\n",
    "result=obtain_username(str_f)\n",
    "print(\"the username is:\",result)\n"
   ]
  },
  {
   "cell_type": "code",
   "execution_count": 16,
   "id": "da6a1efc",
   "metadata": {},
   "outputs": [
    {
     "name": "stdout",
     "output_type": "stream",
     "text": [
      "enter a mail:mbalaraju8246@gmail.com\n",
      "the domain name is: gmail.com\n"
     ]
    }
   ],
   "source": [
    "# 32.extract the domain_name from an email address\n",
    "def extract_d_n(str_g):#creating a function\n",
    "    domain_name=str_g.split('@')[1]#splitting sentence at @\n",
    "    return domain_name # returns domain_name\n",
    "str_g=input(\"enter a mail:\")\n",
    "res=extract_d_n(str_g)\n",
    "print(\"the domain name is:\",res)"
   ]
  },
  {
   "cell_type": "code",
   "execution_count": 18,
   "id": "74b37581",
   "metadata": {},
   "outputs": [
    {
     "name": "stdout",
     "output_type": "stream",
     "text": [
      "enter a string with spacesp           w     s     k      i   l   l   s\n",
      "the new str is: p w s k i l l s\n"
     ]
    }
   ],
   "source": [
    "#33. Replace multiple spaces in a string with a single space\n",
    "def replace_m_s(str_h):#creating a function\n",
    "    new_str=' '.join(str_h.split())#joining all splitted words with single space\n",
    "    return new_str#returns the string with single space\n",
    "str_h=input(\"enter a string with spaces\")\n",
    "res=replace_m_s(str_h)\n",
    "print(\"the new str is:\",res)"
   ]
  },
  {
   "cell_type": "code",
   "execution_count": 19,
   "id": "e4beca5d",
   "metadata": {},
   "outputs": [
    {
     "name": "stdout",
     "output_type": "stream",
     "text": [
      "True\n",
      "False\n"
     ]
    }
   ],
   "source": [
    "# 34.check if a string is valid URL\n",
    "from urllib.parse import urlparse#importing library urlparse\n",
    "def is_valid_url(url):#creating a function\n",
    "    try:\n",
    "        result=urlparse(url)\n",
    "        return all([result.scheme,result.netloc])\n",
    "    except ValueError:\n",
    "        return False\n",
    "url_1='https://www.pwskills.com'\n",
    "url_2=\"invalid-url\"\n",
    "res_1=is_valid_url(url_1)\n",
    "res_2=is_valid_url(url_2)\n",
    "print(res_1)\n",
    "print(res_2)"
   ]
  },
  {
   "cell_type": "code",
   "execution_count": 20,
   "id": "f81d319e",
   "metadata": {},
   "outputs": [
    {
     "name": "stdout",
     "output_type": "stream",
     "text": [
      "protocol_1 http\n",
      "protocol_2 None\n"
     ]
    }
   ],
   "source": [
    "#35.Extract the protocol(http or https) from a URL string\n",
    "def extract_protocol(url):#creating function\n",
    "    protocal_end=url.find(\"://\")#using find method to find :// \n",
    "    if protocal_end !=-1:#writing conditional statements\n",
    "        protocal=url[:protocal_end]\n",
    "        return protocal\n",
    "    else:\n",
    "        return None\n",
    "# type urls\n",
    "url1=\"http://www.pwskills.com\"\n",
    "url2='google.com'\n",
    "p_1=extract_protocol(url1)\n",
    "p_2=extract_protocol(url2)\n",
    "print(\"protocol_1\",p_1)\n",
    "print(\"protocol_2\",p_2)"
   ]
  },
  {
   "cell_type": "code",
   "execution_count": 21,
   "id": "10837da2",
   "metadata": {},
   "outputs": [
    {
     "name": "stdout",
     "output_type": "stream",
     "text": [
      "enter a stringbalraj\n",
      "character:'b',Frequency:1\n",
      "character:'a',Frequency:2\n",
      "character:'l',Frequency:1\n",
      "character:'r',Frequency:1\n",
      "character:'j',Frequency:1\n"
     ]
    }
   ],
   "source": [
    "#36 find the frequency of each charecter in astring\n",
    "def sentence(str_i):#creating a function\n",
    "    freq={}\n",
    "    for chr in str_i:#iterating through each character\n",
    "        if chr in freq:#writing conditional statements\n",
    "            freq[chr]+=1\n",
    "        else:\n",
    "            freq[chr]=1\n",
    "    return freq #returns frequency\n",
    "str_i=input(\"enter a string\")\n",
    "chr_freq=sentence(str_i)\n",
    "for chr,freq in chr_freq.items():\n",
    "    print(f\"character:'{chr}',Frequency:{freq}\")"
   ]
  },
  {
   "cell_type": "code",
   "execution_count": 22,
   "id": "9bac5215",
   "metadata": {},
   "outputs": [
    {
     "name": "stdout",
     "output_type": "stream",
     "text": [
      "enter a stringhllo! iam,balraj.\n",
      "original string: hllo! iam,balraj.\n",
      "cleaned string: hllo iambalraj\n"
     ]
    }
   ],
   "source": [
    "#37 # remove all puctuatins from a string\n",
    "import string\n",
    "def remove_punc(text_s):\n",
    "    translator=text_s.maketrans(\"\",\"\",string.punctuation)\n",
    "    clean_str=text_s.translate(translator)\n",
    "    return clean_str\n",
    "text_s=input(\"enter a string\")\n",
    "cleaned_str=remove_punc(text_s)\n",
    "print(\"original string:\",text_s)\n",
    "print(\"cleaned string:\",cleaned_str)"
   ]
  },
  {
   "cell_type": "code",
   "execution_count": 23,
   "id": "da9063d8",
   "metadata": {},
   "outputs": [
    {
     "name": "stdout",
     "output_type": "stream",
     "text": [
      "enter a string:123\n",
      "the string only contains digits\n"
     ]
    }
   ],
   "source": [
    " #38 check if string contains only digits\n",
    "str_38=input('enter a string:')\n",
    "if(str_38.isdigit()==1):\n",
    "    print(\"the string only contains digits\")\n",
    "else:\n",
    "    print(\"it is mixed of some other\")"
   ]
  },
  {
   "cell_type": "code",
   "execution_count": 24,
   "id": "e0b1a82c",
   "metadata": {},
   "outputs": [
    {
     "name": "stdout",
     "output_type": "stream",
     "text": [
      "enter a string:India\n",
      "the string only contains alphabets\n"
     ]
    }
   ],
   "source": [
    "#39 check if string contains only alphabets\n",
    "s_39=input('enter a string:')\n",
    "if(s_39.isalpha()==1):\n",
    "    print(\"the string only contains alphabets\")\n",
    "else:\n",
    "    print(\"it is mixed of some other\")"
   ]
  },
  {
   "cell_type": "code",
   "execution_count": 26,
   "id": "aa3d8712",
   "metadata": {},
   "outputs": [
    {
     "name": "stdout",
     "output_type": "stream",
     "text": [
      "enter a stringbegood\n",
      "the list of characters are ['b', 'e', 'g', 'o', 'o', 'd']\n"
     ]
    }
   ],
   "source": [
    "#40 convert a string to a list of characters\n",
    "str_40=input(\"enter a string\")\n",
    "lst_40=list(str_40)\n",
    "print(\"the list of characters are\",lst_40)\n"
   ]
  },
  {
   "cell_type": "code",
   "execution_count": 27,
   "id": "c865b281",
   "metadata": {
    "scrolled": true
   },
   "outputs": [
    {
     "name": "stdout",
     "output_type": "stream",
     "text": [
      "'listen' and 'silent'are anagrams: True\n",
      "'balraj' and 'student'are anagrams: False\n"
     ]
    }
   ],
   "source": [
    "#41 check if two string are anagrams\n",
    "def are_anagrams(str1,str2):\n",
    "    str1=str1.replace(\" \",\"\").lower()\n",
    "    str2=str2.replace(\" \",\"\").lower()\n",
    "    return sorted(str1)==sorted(str2)\n",
    "string1='listen'\n",
    "string2='silent'\n",
    "string3='balraj'\n",
    "string4='student'\n",
    "res1=are_anagrams(string1,string2)\n",
    "res2=are_anagrams(string3,string4)\n",
    "print(f\"'{string1}' and '{string2}'are anagrams:\",res1)\n",
    "print(f\"'{string3}' and '{string4}'are anagrams:\",res2)"
   ]
  },
  {
   "cell_type": "code",
   "execution_count": 166,
   "id": "13977aca",
   "metadata": {},
   "outputs": [
    {
     "name": "stdout",
     "output_type": "stream",
     "text": [
      "Khoor, Zruog!\n"
     ]
    }
   ],
   "source": [
    "#42. Encode a string using a Caesar cipher.\n",
    "def caesar_cipher_encrypt(texts, shift):\n",
    "    encrypted_text = \"\"\n",
    "\n",
    "    for char in texts:\n",
    "        if char.isalpha():\n",
    "            # Determine whether the character is uppercase or lowercase\n",
    "            is_upper = char.isupper()\n",
    "            char = char.lower()\n",
    "\n",
    "            # Apply the Caesar cipher shift\n",
    "            shifted_chars = chr(((ord(char) - ord('a') + shift) % 26) + ord('a'))\n",
    "\n",
    "            # Convert back to uppercase if the original character was uppercase\n",
    "            if is_upper:\n",
    "                shifted_chars = shifted_chars.upper()\n",
    "\n",
    "            encrypted_text += shifted_chars\n",
    "        else:\n",
    "            # If the character is not a letter, leave it unchanged\n",
    "            encrypted_text += char\n",
    "\n",
    "    return encrypted_text\n",
    "\n",
    "# Example usage:\n",
    "plaintext = \"Hello, World!\"\n",
    "shift = 3\n",
    "encrypted_text = caesar_cipher_encrypt(plaintext, shift)\n",
    "print(encrypted_text)\n"
   ]
  },
  {
   "cell_type": "code",
   "execution_count": 1,
   "id": "d76ede62",
   "metadata": {},
   "outputs": [
    {
     "name": "stdout",
     "output_type": "stream",
     "text": [
      "Decrypted text: AhsaGZsT\n"
     ]
    }
   ],
   "source": [
    "#43.decode a string using a Caesar cipher encoding string\n",
    "def caesar_cipher_decrypt(encrypted_text, shift):\n",
    "    decrypted_text = \"\"\n",
    "\n",
    "    for char in encrypted_text:\n",
    "        if char.isalpha():\n",
    "            # Determine whether the character is uppercase or lowercase\n",
    "            is_upper = char.isupper()\n",
    "            char = char.lower()\n",
    "\n",
    "            # Apply the reverse Caesar cipher shift\n",
    "            shifted_char = chr(((ord(char) - ord('a') - shift) % 26) + ord('a'))\n",
    "\n",
    "            # Convert back to uppercase if the original character was uppercase\n",
    "            if is_upper:\n",
    "                shifted_char = shifted_char.upper()\n",
    "\n",
    "            decrypted_text += shifted_char\n",
    "        else:\n",
    "            # If the character is not a letter, leave it unchanged\n",
    "            decrypted_text += char\n",
    "\n",
    "    return decrypted_text\n",
    "\n",
    "# Example usage:\n",
    "encrypted_text = \"FmxfLExY\"\n",
    "shift = 5\n",
    "decrypted_text = caesar_cipher_decrypt(encrypted_text, shift)\n",
    "print(\"Decrypted text:\", decrypted_text)\n"
   ]
  },
  {
   "cell_type": "code",
   "execution_count": 2,
   "id": "4bbf6e03",
   "metadata": {},
   "outputs": [
    {
     "name": "stdout",
     "output_type": "stream",
     "text": [
      "Most frequent word: hello\n"
     ]
    }
   ],
   "source": [
    "#44. Find the most frequent word in a string.\n",
    "import re\n",
    "from collections import Counter\n",
    "def most_frequent_word(input_string):\n",
    "    clean_string = re.sub(r'[^\\w\\s]', '', input_string).lower()\n",
    "    words = clean_string.split()\n",
    "    word_counter = Counter(words)\n",
    "    most_common_word = word_counter.most_common(1)[0][0]\n",
    "    return most_common_word\n",
    "input_str = \"Hello world, hello there! How's the world?\"\n",
    "most_common = most_frequent_word(input_str)\n",
    "print(\"Most frequent word:\", most_common)"
   ]
  },
  {
   "cell_type": "code",
   "execution_count": 2,
   "id": "6ebeadd7",
   "metadata": {},
   "outputs": [
    {
     "name": "stdout",
     "output_type": "stream",
     "text": [
      "unique words: {'hello', 'the', 'world', 'hows', 'there'}\n"
     ]
    }
   ],
   "source": [
    "# 45.Find the unique words in a string\n",
    "import re\n",
    "def unique_words(input_string):\n",
    "    clean_string=re.sub(r'[^\\w\\s]', '', input_string).lower()\n",
    "    words=set(clean_string.split())\n",
    "    return words\n",
    "input_str=\"Hello world, hello there! How's the world?\"\n",
    "unique_word_set=unique_words(input_str)\n",
    "print(\"unique words:\",unique_word_set)"
   ]
  },
  {
   "cell_type": "code",
   "execution_count": 3,
   "id": "42e5553f",
   "metadata": {},
   "outputs": [
    {
     "name": "stdout",
     "output_type": "stream",
     "text": [
      "'hello'has2 syllable.\n",
      "'banana'has3 syllable.\n",
      "'syllable'has3 syllable.\n"
     ]
    }
   ],
   "source": [
    "#46. Count the number of syllables in a string.\n",
    "import re\n",
    "def count_syllables(word):\n",
    "    vowel_groups=re.findall(r'[aeiouy]+', word, re.IGNORECASE)\n",
    "    return len(vowel_groups)\n",
    "word1='hello'\n",
    "word2='banana'\n",
    "word3='syllable'\n",
    "syllables1 = count_syllables(word1)\n",
    "syllables2 = count_syllables(word2)\n",
    "syllables3 = count_syllables(word3)\n",
    "print(f\"'{word1}'has{syllables1} syllable.\")\n",
    "print(f\"'{word2}'has{syllables2} syllable.\")\n",
    "print(f\"'{word3}'has{syllables3} syllable.\")\n",
    "    \n",
    "\n",
    "    \n",
    "                            "
   ]
  },
  {
   "cell_type": "code",
   "execution_count": 4,
   "id": "870bafb5",
   "metadata": {},
   "outputs": [
    {
     "name": "stdout",
     "output_type": "stream",
     "text": [
      "\"hello,world!\"contains special charecters: True\n",
      "\"#serial@killer\"contains special charecters: True\n",
      "\"<class,str>\"contains special charecters: True\n"
     ]
    }
   ],
   "source": [
    "# 47. Check if a string contains any special characters.\n",
    "import re\n",
    "def contains_special_characters(input_string):\n",
    "    pattern=re.compile(r'[!@#$%^&*()_+{}\\[\\]:;<>,.?~\\\\/]')\n",
    "    match=pattern.search(input_string)\n",
    "    return bool(match)\n",
    "string1=\"hello,world!\"\n",
    "string2=\"#serial@killer\"\n",
    "string3='<class,str>'\n",
    "result1=contains_special_characters(string1)\n",
    "result2=contains_special_characters(string2)\n",
    "result3=contains_special_characters(string3)\n",
    "print(f'\"{string1}\"contains special charecters:',result1)\n",
    "print(f'\"{string2}\"contains special charecters:',result2)\n",
    "print(f'\"{string3}\"contains special charecters:',result3)"
   ]
  },
  {
   "cell_type": "code",
   "execution_count": 5,
   "id": "723d0079",
   "metadata": {},
   "outputs": [
    {
     "name": "stdout",
     "output_type": "stream",
     "text": [
      "Original string: this is an example sentence to test the function.\n",
      "Modified string: this is an sentence to test the function.\n",
      "Removed word: example\n"
     ]
    }
   ],
   "source": [
    "#48. Remove the nth word from a string.\n",
    "def remove_nth_word(input_string,n):\n",
    "    words=input_string.split()\n",
    "    if n>=1 and n<=len(words):\n",
    "        removed_word=words.pop(n-1)\n",
    "        modified_string=' '.join(words)\n",
    "        return modified_string,removed_word\n",
    "    else:\n",
    "        return None,None\n",
    "input_str=\"this is an example sentence to test the function.\"\n",
    "n_value=4\n",
    "modified_str, removed_word = remove_nth_word(input_str, n_value)\n",
    "print(\"Original string:\", input_str)\n",
    "if modified_str is not None:\n",
    " print(\"Modified string:\", modified_str)\n",
    " print(\"Removed word:\", removed_word)\n",
    "else:\n",
    " print(\"Invalid n value.\")"
   ]
  },
  {
   "cell_type": "code",
   "execution_count": 6,
   "id": "9c518e4f",
   "metadata": {},
   "outputs": [
    {
     "name": "stdout",
     "output_type": "stream",
     "text": [
      "hello iam balraj\n"
     ]
    }
   ],
   "source": [
    "#49.insert the word at the nth position of a string\n",
    "def insert_word_at_position(original_string, word_to_insert, n):\n",
    "    # Check if n is within valid bounds\n",
    "    if n < 0:\n",
    "        n = 0\n",
    "    elif n > len(original_string):\n",
    "        n = len(original_string)\n",
    "    \n",
    "    # Insert the word at the specified position\n",
    "    new_string = original_string[:n] + word_to_insert + original_string[n:]\n",
    "    \n",
    "    return new_string\n",
    "\n",
    "# Example usage:\n",
    "original_string = \"hello iam \"\n",
    "word_to_insert = \"balraj\"\n",
    "position = 10\n",
    "result = insert_word_at_position(original_string, word_to_insert, position)\n",
    "print(result)\n"
   ]
  },
  {
   "cell_type": "code",
   "execution_count": 7,
   "id": "e2c28c30",
   "metadata": {},
   "outputs": [
    {
     "name": "stdout",
     "output_type": "stream",
     "text": [
      "[['John', 'Doe', '30'], ['Jane', 'Smith', '25'], ['Bob', 'Johnson', '40']]\n"
     ]
    }
   ],
   "source": [
    "#50. Convert a CSV string to a list of lists.\n",
    "def csv_string_to_list(csv_string):\n",
    "    # Initialize a list to store the result\n",
    "    result = []\n",
    "\n",
    "    # Split the CSV string into lines\n",
    "    lines = csv_string.strip().split('\\n')\n",
    "\n",
    "    # Split each line into a list of values\n",
    "    for line in lines:\n",
    "        values = line.split(',')\n",
    "        result.append(values)\n",
    "\n",
    "    return result\n",
    "\n",
    "# Example usage:\n",
    "csv_string = \"John,Doe,30\\nJane,Smith,25\\nBob,Johnson,40\"\n",
    "result = csv_string_to_list(csv_string)\n",
    "print(result)\n"
   ]
  },
  {
   "cell_type": "markdown",
   "id": "fa01466e",
   "metadata": {},
   "source": [
    "# TOPIC:LIST based practice problems:"
   ]
  },
  {
   "cell_type": "code",
   "execution_count": 8,
   "id": "451e396a",
   "metadata": {},
   "outputs": [
    {
     "name": "stdout",
     "output_type": "stream",
     "text": [
      "the integer list is: [1, 2, 3, 4, 5, 6, 7, 8, 9, 10]\n"
     ]
    }
   ],
   "source": [
    "#1.. Create a list with integers from 1 to 10.\n",
    "#using list comprehension\n",
    "i_l=[i for i in range(1,11)]\n",
    "print(\"the integer list is:\",i_l)\n",
    "    \n",
    "    "
   ]
  },
  {
   "cell_type": "code",
   "execution_count": 9,
   "id": "613f0b7a",
   "metadata": {},
   "outputs": [
    {
     "name": "stdout",
     "output_type": "stream",
     "text": [
      "the length of list is 5\n"
     ]
    }
   ],
   "source": [
    "#2. Find the length of a list without using the len() function\n",
    "l=[1,2,3,4,'a']\n",
    "k=l.index(l[-1])\n",
    "l_e_n=k+1\n",
    "print(\"the length of list is\",l_e_n)"
   ]
  },
  {
   "cell_type": "code",
   "execution_count": 10,
   "id": "97090175",
   "metadata": {},
   "outputs": [
    {
     "name": "stdout",
     "output_type": "stream",
     "text": [
      "list after appending element is: [1, 2, 3, 4, 5]\n"
     ]
    }
   ],
   "source": [
    "#3. Append an element to the end of a list.\n",
    "l=[1,2,3,4]\n",
    "l.append(5)\n",
    "print(\"list after appending element is:\",l)"
   ]
  },
  {
   "cell_type": "code",
   "execution_count": 11,
   "id": "20fb5b31",
   "metadata": {},
   "outputs": [
    {
     "name": "stdout",
     "output_type": "stream",
     "text": [
      "the updated list is [4, 5, 68, 'b', 'a']\n"
     ]
    }
   ],
   "source": [
    "#4. Insert an element at a specific index in a list\n",
    "l=[4,5,68,'a']\n",
    "l.insert(3,'b')\n",
    "print(\"the updated list is\",l)"
   ]
  },
  {
   "cell_type": "code",
   "execution_count": 12,
   "id": "f5813c64",
   "metadata": {},
   "outputs": [
    {
     "name": "stdout",
     "output_type": "stream",
     "text": [
      "the new list is [1, 2, 3, 'f']\n"
     ]
    }
   ],
   "source": [
    "#5. Remove an element from a list by its value\n",
    "l=[1,2,3,'f','r']\n",
    "l.remove('r')#element to remove-'r'\n",
    "print(\"the new list is\",l)"
   ]
  },
  {
   "cell_type": "code",
   "execution_count": 13,
   "id": "30bd7b67",
   "metadata": {},
   "outputs": [
    {
     "name": "stdout",
     "output_type": "stream",
     "text": [
      "the new list is ['hello', '1', 2.5, False]\n"
     ]
    }
   ],
   "source": [
    "#6. Remove an element from a list by its index.\n",
    "l=['hello','1',2.5,2,False]\n",
    "l.pop(3)#specifying position of element index that has to remove\n",
    "print(\"the new list is\",l)"
   ]
  },
  {
   "cell_type": "code",
   "execution_count": 14,
   "id": "385dcf90",
   "metadata": {},
   "outputs": [
    {
     "name": "stdout",
     "output_type": "stream",
     "text": [
      "enter the element to check:2\n",
      "2 is present in [1, 2, 3, 4]\n"
     ]
    }
   ],
   "source": [
    "#7. Check if an element exists in a list.\n",
    "a=[1,2,3,4]\n",
    "element_check=int(input('enter the element to check:'))\n",
    "if element_check in a:\n",
    "    print(\"{} is present in {}\".format(element_check,a))\n",
    "else:\n",
    "    print(\"{} is not present in {}\".format(element_check,a))"
   ]
  },
  {
   "cell_type": "code",
   "execution_count": 15,
   "id": "cf9624ac",
   "metadata": {
    "scrolled": true
   },
   "outputs": [
    {
     "name": "stdout",
     "output_type": "stream",
     "text": [
      "enter the number2\n",
      "the index of2 is 1\n"
     ]
    }
   ],
   "source": [
    "#8. Find the index of the first occurrence of an element in a list.\n",
    "a=[1,2,3,12,1,13,3]\n",
    "element_to_find=int(input(\"enter the number\"))\n",
    "index=a.index(element_to_find)\n",
    "print(\"the index of{} is {}\".format(element_to_find,index))"
   ]
  },
  {
   "cell_type": "code",
   "execution_count": 19,
   "id": "396b5412",
   "metadata": {},
   "outputs": [
    {
     "name": "stdout",
     "output_type": "stream",
     "text": [
      "the occuarance of 2 is 3\n"
     ]
    }
   ],
   "source": [
    "#9. Count the occurrences of an element in a list.\n",
    "l_9=[1,2,3,4,5,2,3,2,3]\n",
    "element_to_count=2\n",
    "c_ount=l_9.count(element_to_count)\n",
    "print(\"the occuarance of {} is {}\".format(element_to_count,c_ount))"
   ]
  },
  {
   "cell_type": "code",
   "execution_count": 20,
   "id": "e3ec44e6",
   "metadata": {},
   "outputs": [
    {
     "name": "stdout",
     "output_type": "stream",
     "text": [
      "the reveres of a string is [23, 12, 9, 8, 6, 4, 3]\n"
     ]
    }
   ],
   "source": [
    "#10. Reverse the order of elements in a list.\n",
    "l_10=[3,4,6,8,9,12,23]\n",
    "l_10.reverse()\n",
    "print('the reveres of a string is',l_10)"
   ]
  },
  {
   "cell_type": "code",
   "execution_count": 21,
   "id": "4f6458a9",
   "metadata": {},
   "outputs": [
    {
     "name": "stdout",
     "output_type": "stream",
     "text": [
      "the sorted list is [1, 2, 3, 4, 4, 5, 7]\n"
     ]
    }
   ],
   "source": [
    "#11. Sort a list in ascending order\n",
    "l_11=[3,1,4,2,7,5,4]\n",
    "l_11.sort()\n",
    "print(\"the sorted list is\",l_11)"
   ]
  },
  {
   "cell_type": "code",
   "execution_count": 22,
   "id": "0c448e97",
   "metadata": {},
   "outputs": [
    {
     "name": "stdout",
     "output_type": "stream",
     "text": [
      "the descending order is [9, 7, 6, 6, 5, 4, 4, 3, 1, 0]\n"
     ]
    }
   ],
   "source": [
    "#12. Sort a list in descending order.\n",
    "l_12=[3,7,5,6,9,1,4,6,4,0]\n",
    "l_12.sort(reverse=1)\n",
    "print(\"the descending order is\",l_12)"
   ]
  },
  {
   "cell_type": "code",
   "execution_count": 23,
   "id": "9471eaae",
   "metadata": {},
   "outputs": [
    {
     "name": "stdout",
     "output_type": "stream",
     "text": [
      "[2, 4, 6, 8, 10, 12, 14, 16, 18, 20]\n"
     ]
    }
   ],
   "source": [
    "#13. Create a list of even numbers from 1 to 20.\n",
    "e_n=[i for i in range(2,21,2)]\n",
    "print(e_n)"
   ]
  },
  {
   "cell_type": "code",
   "execution_count": 24,
   "id": "043f868b",
   "metadata": {},
   "outputs": [
    {
     "name": "stdout",
     "output_type": "stream",
     "text": [
      "[1, 3, 5, 7, 9, 11, 13, 15, 17, 19]\n"
     ]
    }
   ],
   "source": [
    "#14. Create a list of odd numbers from 1 to 20\n",
    "o_d=[i for i in range(1,21,2)]\n",
    "print(o_d)"
   ]
  },
  {
   "cell_type": "code",
   "execution_count": 25,
   "id": "6c3608f8",
   "metadata": {},
   "outputs": [
    {
     "name": "stdout",
     "output_type": "stream",
     "text": [
      "the sum is 39\n"
     ]
    }
   ],
   "source": [
    "#15. Find the sum of all elements in a list.\n",
    "a=[4,7,3,8,4,6,7]\n",
    "sum=sum(a)\n",
    "print(\"the sum is\",sum)"
   ]
  },
  {
   "cell_type": "code",
   "execution_count": 26,
   "id": "d86fe803",
   "metadata": {},
   "outputs": [
    {
     "name": "stdout",
     "output_type": "stream",
     "text": [
      "the maximum value is 5444\n"
     ]
    }
   ],
   "source": [
    "#16. Find the maximum value in a list.\n",
    "l=[23,5444,34,12,43]\n",
    "m_v=max(l)\n",
    "print(\"the maximum value is\",m_v)\n",
    "    "
   ]
  },
  {
   "cell_type": "code",
   "execution_count": 27,
   "id": "ab08470e",
   "metadata": {},
   "outputs": [
    {
     "name": "stdout",
     "output_type": "stream",
     "text": [
      "the minimum value is 6\n"
     ]
    }
   ],
   "source": [
    "#17. Find the minimum value in a list.\n",
    "l=[34,23,6,7,54,89,677]\n",
    "m_v=min(l)\n",
    "print(\"the minimum value is\",m_v)"
   ]
  },
  {
   "cell_type": "code",
   "execution_count": 28,
   "id": "16dd8d16",
   "metadata": {},
   "outputs": [
    {
     "name": "stdout",
     "output_type": "stream",
     "text": [
      "[1, 4, 9, 16, 25, 36, 49, 64, 81, 100]\n"
     ]
    }
   ],
   "source": [
    "#18. Create a list of squares of numbers from 1 to 10\n",
    "s=[i**2 for i in range(1,11)]\n",
    "print(s)"
   ]
  },
  {
   "cell_type": "code",
   "execution_count": 29,
   "id": "caa3d101",
   "metadata": {},
   "outputs": [
    {
     "name": "stdout",
     "output_type": "stream",
     "text": [
      "the random nos are [6, 85, 48, 55, 43, 95, 98, 26, 63, 74, 30, 18, 58, 70, 51, 43, 88, 45, 57, 8]\n"
     ]
    }
   ],
   "source": [
    "#19. Create a list of random numbers.\n",
    "import random\n",
    "rand_int=[random.randint(1,100) for _ in range(20)]\n",
    "print(\"the random nos are\",rand_int)"
   ]
  },
  {
   "cell_type": "code",
   "execution_count": 30,
   "id": "aa6128f0",
   "metadata": {},
   "outputs": [
    {
     "name": "stdout",
     "output_type": "stream",
     "text": [
      "the unique value list {1, 2, 3, 4, 5, 6}\n"
     ]
    }
   ],
   "source": [
    "#20. Remove duplicates from a list.\n",
    "a=[1,2,3,2,3,1,4,5,6]\n",
    "r_d=set(a)\n",
    "print(\"the unique value list\",r_d)"
   ]
  },
  {
   "cell_type": "code",
   "execution_count": 31,
   "id": "15b6889b",
   "metadata": {},
   "outputs": [
    {
     "name": "stdout",
     "output_type": "stream",
     "text": [
      "the common elements are [1, 2, 4]\n"
     ]
    }
   ],
   "source": [
    "#21. Find the common elements between two lists.\n",
    "a=[1,2,3,46,3,4]\n",
    "b=[23,2,4,1,5,2]\n",
    "intersection=list(set(a).intersection(set(b)))\n",
    "print(\"the common elements are\",intersection)"
   ]
  },
  {
   "cell_type": "code",
   "execution_count": 32,
   "id": "d4b23c54",
   "metadata": {},
   "outputs": [
    {
     "name": "stdout",
     "output_type": "stream",
     "text": [
      "the elements only in a not in b is [3, 46]\n"
     ]
    }
   ],
   "source": [
    "#22. Find the difference between two lists.\n",
    "a=[1,2,3,46,3,4]\n",
    "b=[23,2,4,1,5,2]\n",
    "difference=list(set(a).difference(set(b)))\n",
    "print(\"the elements only in a not in b is\",difference)"
   ]
  },
  {
   "cell_type": "code",
   "execution_count": 33,
   "id": "d60d0fe0",
   "metadata": {},
   "outputs": [
    {
     "name": "stdout",
     "output_type": "stream",
     "text": [
      "the merged list is [1, 2, 3, 46, 3, 4, 23, 2, 4, 1, 5, 2]\n"
     ]
    }
   ],
   "source": [
    "#23. Merge two lists.\n",
    "a=[1,2,3,46,3,4]\n",
    "b=[23,2,4,1,5,2]\n",
    "m_erge=a+b\n",
    "print(\"the merged list is\",m_erge)"
   ]
  },
  {
   "cell_type": "code",
   "execution_count": 34,
   "id": "23eeafb7",
   "metadata": {},
   "outputs": [
    {
     "name": "stdout",
     "output_type": "stream",
     "text": [
      "multiplied list [2, 4, 6, 92, 6, 8]\n"
     ]
    }
   ],
   "source": [
    "#24. Multiply all elements in a list by 2.\n",
    "l=[2,3,5,6,7,3,4,2]\n",
    "m_l=[i*2 for i in a]\n",
    "print(\"multiplied list\",m_l)"
   ]
  },
  {
   "cell_type": "code",
   "execution_count": 35,
   "id": "8a1e6e7f",
   "metadata": {},
   "outputs": [
    {
     "name": "stdout",
     "output_type": "stream",
     "text": [
      "the filterd elements are [2, 4, 6, 8]\n"
     ]
    }
   ],
   "source": [
    "#25. Filter out all even numbers from a list\n",
    "a=[2,3,5,3,4,6,7,8]\n",
    "k=[i for i in a if i%2==0 ]\n",
    "print(\"the filterd elements are\",k)"
   ]
  },
  {
   "cell_type": "code",
   "execution_count": 36,
   "id": "d70a5c8c",
   "metadata": {},
   "outputs": [
    {
     "name": "stdout",
     "output_type": "stream",
     "text": [
      "the list of integers is [2, 12, 4, 44, 23]\n"
     ]
    }
   ],
   "source": [
    "#26. Convert a list of strings to a list of integers.\n",
    "lst=['2','12','4','44','23']\n",
    "i_l=[int(i) for i in lst]\n",
    "print(\"the list of integers is\",i_l)"
   ]
  },
  {
   "cell_type": "code",
   "execution_count": 37,
   "id": "fccc3f2f",
   "metadata": {},
   "outputs": [
    {
     "name": "stdout",
     "output_type": "stream",
     "text": [
      "the string form of elements in list is ['12', '3', '2', '5', '7', '4', '5']\n"
     ]
    }
   ],
   "source": [
    "#27. Convert a list of integers to a list of strings\n",
    "m=[12,3,2,5,7,4,5]\n",
    "l_s=[str(i) for i in m]\n",
    "print(\"the string form of elements in list is\",l_s)"
   ]
  },
  {
   "cell_type": "code",
   "execution_count": 38,
   "id": "cf1c04d0",
   "metadata": {},
   "outputs": [
    {
     "name": "stdout",
     "output_type": "stream",
     "text": [
      "flattened list: [1, 2, 3, 4, 5, 6, 7, 8, 9]\n"
     ]
    }
   ],
   "source": [
    "#28. Flatten a nested list.\n",
    "n_l=[[1, 2, 3], [4, 5], [6, 7, 8, 9]]\n",
    "def flatten_list(nested):\n",
    "    flattened=[]\n",
    "    for sublist in nested:\n",
    "        if isinstance(sublist,list):\n",
    "            flattened.extend(flatten_list(sublist))\n",
    "    \n",
    "        else:\n",
    "            flattened.append(sublist)\n",
    "    return flattened\n",
    "flattened_list=flatten_list(n_l)\n",
    "print('flattened list:',flattened_list)"
   ]
  },
  {
   "cell_type": "code",
   "execution_count": 39,
   "id": "37b08e6d",
   "metadata": {},
   "outputs": [
    {
     "name": "stdout",
     "output_type": "stream",
     "text": [
      "the first 10 fibonacci sequence is: [0, 1, 1, 2, 3, 5, 8, 13, 21, 34]\n"
     ]
    }
   ],
   "source": [
    "#29. Create a list of the first 10 Fibonacci numbers.\n",
    "def test_fib(n):\n",
    "    a,b=0,1\n",
    "    for i in list(range(n)):\n",
    "        yield a\n",
    "        a,b=b,a+b\n",
    "n=10\n",
    "res=test_fib(n)\n",
    "fib_l=list(res)\n",
    "print(\"the first 10 fibonacci sequence is:\",fib_l)\n",
    "\n",
    "        \n",
    "    \n",
    "    "
   ]
  },
  {
   "cell_type": "code",
   "execution_count": 40,
   "id": "9b3fdbae",
   "metadata": {},
   "outputs": [
    {
     "name": "stdout",
     "output_type": "stream",
     "text": [
      "the list is not sorted\n"
     ]
    }
   ],
   "source": [
    "#30 check if a list is sorted\n",
    "def check_list_sorted(l_s_t):\n",
    "    for i in l_s_t:\n",
    "        if l_s_t[i]<l_s_t[i-1]:\n",
    "            return False\n",
    "    return True\n",
    "l_s_t=[3,6,2,4,6,3,5,3,8]\n",
    "if check_list_sorted(l_s_t):\n",
    "    print(\"the list is sorted\")\n",
    "else:\n",
    "    print(\"the list is not sorted\")\n",
    "        "
   ]
  },
  {
   "cell_type": "code",
   "execution_count": 41,
   "id": "3512b9a8",
   "metadata": {},
   "outputs": [
    {
     "name": "stdout",
     "output_type": "stream",
     "text": [
      "rotated list: [13, 14, 15, 16, 11, 12]\n"
     ]
    }
   ],
   "source": [
    "#31. Rotate a list to the left by n positions.\n",
    "def rotate_left(m_l,n):\n",
    "    n=n%len(m_l)\n",
    "    rotated=m_l[n:]+m_l[:n]\n",
    "    return rotated\n",
    "m_l=[11,12,13,14,15,16]\n",
    "n=2\n",
    "rotated_list=rotate_left(m_l,n)\n",
    "print(\"rotated list:\",rotated_list)"
   ]
  },
  {
   "cell_type": "code",
   "execution_count": 42,
   "id": "2350052a",
   "metadata": {},
   "outputs": [
    {
     "name": "stdout",
     "output_type": "stream",
     "text": [
      "rotated list: [15, 16, 11, 12, 13, 14]\n"
     ]
    }
   ],
   "source": [
    "#32. Rotate a list to the right by n positions\n",
    "def rotate_left(m_l,n):\n",
    "    n=n%len(m_l)\n",
    "    rotated=m_l[-n:]+m_l[:-n]\n",
    "    return rotated\n",
    "m_l=[11,12,13,14,15,16]\n",
    "n=2\n",
    "rotated_list=rotate_left(m_l,n)\n",
    "print(\"rotated list:\",rotated_list)"
   ]
  },
  {
   "cell_type": "code",
   "execution_count": 44,
   "id": "6ae95b15",
   "metadata": {},
   "outputs": [
    {
     "name": "stdout",
     "output_type": "stream",
     "text": [
      "[2, 3, 5, 7, 11, 13, 17, 19, 23, 29, 31, 37, 41, 43, 47]\n"
     ]
    }
   ],
   "source": [
    "#33. Create a list of prime numbers up to 50.\n",
    "def is_prime(num):\n",
    "    if num <= 1:\n",
    "        return False\n",
    "    if num <= 3:\n",
    "        return True\n",
    "    if num % 2 == 0 or num % 3 == 0:\n",
    "        return False\n",
    "    i = 5\n",
    "    while i * i <= num:\n",
    "        if num % i == 0 or num % (i + 2) == 0:\n",
    "            return False\n",
    "        i += 6\n",
    "    return True\n",
    "\n",
    "# Generate a list of prime numbers up to 50\n",
    "prime_numbers = [num for num in range(2, 51) if is_prime(num)]\n",
    "\n",
    "# Print the list of prime numbers\n",
    "print(prime_numbers)\n"
   ]
  },
  {
   "cell_type": "code",
   "execution_count": 45,
   "id": "36f08c97",
   "metadata": {},
   "outputs": [
    {
     "name": "stdout",
     "output_type": "stream",
     "text": [
      "[1, 2, 3]\n",
      "[4, 5, 6]\n",
      "[7, 8, 9]\n",
      "[10]\n"
     ]
    }
   ],
   "source": [
    "#34.Split a list into chunks of size n.\n",
    "def chunk_list(input_list, n):\n",
    "    for i in range(0, len(input_list), n):\n",
    "        yield input_list[i:i + n]\n",
    "\n",
    "# Example usage:\n",
    "original_list = [1, 2, 3, 4, 5, 6, 7, 8, 9, 10]\n",
    "chunk_size = 3\n",
    "\n",
    "# Use the generator function to split the list into chunks\n",
    "chunked_lists = list(chunk_list(original_list, chunk_size))\n",
    "\n",
    "# Print the chunked lists\n",
    "for chunk in chunked_lists:\n",
    "    print(chunk)\n"
   ]
  },
  {
   "cell_type": "code",
   "execution_count": 46,
   "id": "70ec904f",
   "metadata": {},
   "outputs": [
    {
     "name": "stdout",
     "output_type": "stream",
     "text": [
      "second largest number 32\n"
     ]
    }
   ],
   "source": [
    "#35. Find the second largest number in a list.\n",
    "m_l=[10,5,20,32,12,43]\n",
    "s_l=sorted(set(m_l))\n",
    "if len(s_l)>=2:\n",
    "    second_largest=s_l[-2]\n",
    "    print(\"second largest number\",second_largest)\n",
    "else:\n",
    "    print(\"the list does not contain enough elements.\")\n"
   ]
  },
  {
   "cell_type": "code",
   "execution_count": 47,
   "id": "9b14414b",
   "metadata": {},
   "outputs": [
    {
     "name": "stdout",
     "output_type": "stream",
     "text": [
      "squared list: [4, 16, 36, 64, 100]\n"
     ]
    }
   ],
   "source": [
    "# 36. Replace every element in a list with its square.\n",
    "m_l=[2,4,6,8,10]\n",
    "sq_l=[i**2 for i in m_l]\n",
    "print(\"squared list:\",sq_l)\n"
   ]
  },
  {
   "cell_type": "code",
   "execution_count": 49,
   "id": "35292da9",
   "metadata": {
    "scrolled": true
   },
   "outputs": [
    {
     "name": "stdout",
     "output_type": "stream",
     "text": [
      "Converted dictionary: {'apple': 0, 'banana': 1, 'cherry': 2, 'date': 3, 'elderberry': 4}\n"
     ]
    }
   ],
   "source": [
    "#37. Convert a list to a dictionary where list elements become keys and\n",
    "#their indices become values.\n",
    "my_list = ['apple', 'banana', 'cherry', 'date', 'elderberry']\n",
    "# Convert list to dictionary using dictionary comprehension\n",
    "my_dict = {element: index for index, element in enumerate(my_list)}\n",
    "# Print the resulting dictionary\n",
    "print(\"Converted dictionary:\", my_dict)"
   ]
  },
  {
   "cell_type": "code",
   "execution_count": 50,
   "id": "38ab6c3d",
   "metadata": {},
   "outputs": [
    {
     "name": "stdout",
     "output_type": "stream",
     "text": [
      "Shuffled list: [7, 2, 4, 9, 3, 6, 1, 8, 10, 5]\n"
     ]
    }
   ],
   "source": [
    "#38. Shuffle the elements of a list randomly.\n",
    "import random\n",
    "my_list = [1, 2, 3, 4, 5, 6, 7, 8, 9, 10]\n",
    "random.shuffle(my_list)\n",
    "# Print the shuffled list\n",
    "print(\"Shuffled list:\", my_list)"
   ]
  },
  {
   "cell_type": "code",
   "execution_count": 51,
   "id": "d06e315c",
   "metadata": {},
   "outputs": [
    {
     "name": "stdout",
     "output_type": "stream",
     "text": [
      "the list of 1st 10 factorial nos is [1, 1, 2, 6, 24, 120, 720, 5040, 40320, 362880]\n"
     ]
    }
   ],
   "source": [
    "#39.Create a list of the first 10 factorial numbers\n",
    "def factorial(n):\n",
    "    if n==0 or n==1:\n",
    "        return 1\n",
    "    else:\n",
    "        return n*factorial(n-1)\n",
    "factorial_numbers=[factorial(i) for i in range(10)]\n",
    "print(\"the list of 1st 10 factorial nos is\",factorial_numbers)"
   ]
  },
  {
   "cell_type": "code",
   "execution_count": 52,
   "id": "cb04b646",
   "metadata": {},
   "outputs": [
    {
     "name": "stdout",
     "output_type": "stream",
     "text": [
      "the list have atleast one common element\n"
     ]
    }
   ],
   "source": [
    "#40. Check if two lists have at least one element in common.\n",
    "def has_common_elements(list1,list2):\n",
    "    for item in list1:\n",
    "        if item in list2:\n",
    "            return True\n",
    "        return False\n",
    "list1=[2,3,42,3]\n",
    "list2=[2,3,32,4]\n",
    "if has_common_elements(list1,list2):\n",
    "    print(\"the list have atleast one common element\")\n",
    "else:\n",
    "    print(\"the list donot have any common element\")"
   ]
  },
  {
   "cell_type": "code",
   "execution_count": 53,
   "id": "4843788a",
   "metadata": {},
   "outputs": [
    {
     "name": "stdout",
     "output_type": "stream",
     "text": [
      "the list is empty []\n"
     ]
    }
   ],
   "source": [
    "#41. Remove all elements from a list.\n",
    "a=[1,2,3,4,5]\n",
    "a.clear()\n",
    "print(\"the list is empty\",a)"
   ]
  },
  {
   "cell_type": "code",
   "execution_count": 54,
   "id": "50d56f45",
   "metadata": {},
   "outputs": [
    {
     "name": "stdout",
     "output_type": "stream",
     "text": [
      "list after replacing negative numbers with 0: [1, 2, 3, 0, 0, 0, 0]\n"
     ]
    }
   ],
   "source": [
    "#42. Replace negative numbers in a list with 0\n",
    "l_t=[1,2,3,-1,-2,-3,-6]\n",
    "for i in range(len(l_t)):\n",
    "    if l_t[i]<0:\n",
    "        l_t[i]=0\n",
    "print(\"list after replacing negative numbers with 0:\",l_t)"
   ]
  },
  {
   "cell_type": "code",
   "execution_count": 55,
   "id": "ff40cdcd",
   "metadata": {},
   "outputs": [
    {
     "name": "stdout",
     "output_type": "stream",
     "text": [
      "the word list is ['come', 'lets', 'join', 'hands']\n"
     ]
    }
   ],
   "source": [
    "#43.. Convert a string into a list of words.\n",
    "s_t_='come lets join hands'\n",
    "w_list=s_t_.split()\n",
    "print(\"the word list is\",w_list)"
   ]
  },
  {
   "cell_type": "code",
   "execution_count": 56,
   "id": "ddc85abd",
   "metadata": {},
   "outputs": [
    {
     "name": "stdout",
     "output_type": "stream",
     "text": [
      "the string form of words is come lets join hands\n"
     ]
    }
   ],
   "source": [
    "#44. Convert a list of words into a string.\n",
    "_w_lst=['come', 'lets', 'join', 'hands']\n",
    "_st_r=\" \".join(_w_lst)\n",
    "print(\"the string form of words is\",_st_r)"
   ]
  },
  {
   "cell_type": "code",
   "execution_count": 57,
   "id": "dd666590",
   "metadata": {},
   "outputs": [
    {
     "name": "stdout",
     "output_type": "stream",
     "text": [
      "list of the first 5 power of 2: [1, 2, 4, 8, 16]\n"
     ]
    }
   ],
   "source": [
    "#45. Create a list of the first n powers of 2\n",
    "n=5\n",
    "p_l=[2**i for i in range(n)]\n",
    "print(\"list of the first\",n,'power of 2:',p_l)"
   ]
  },
  {
   "cell_type": "code",
   "execution_count": 58,
   "id": "16348291",
   "metadata": {},
   "outputs": [
    {
     "name": "stdout",
     "output_type": "stream",
     "text": [
      "longest string: brother\n"
     ]
    }
   ],
   "source": [
    "#46Find the longest string in a list of strings\n",
    "l_s=['today','is','sunday','brother']\n",
    "lo_s=\"\"\n",
    "for s in l_s:\n",
    "    if len(s)>len(lo_s):\n",
    "        lo_s=s\n",
    "print(\"longest string:\",lo_s)\n",
    "        "
   ]
  },
  {
   "cell_type": "code",
   "execution_count": 59,
   "id": "771ba58a",
   "metadata": {},
   "outputs": [
    {
     "name": "stdout",
     "output_type": "stream",
     "text": [
      "longest string: is\n"
     ]
    }
   ],
   "source": [
    "#47. Find the shortest string in a list of strings.\n",
    "k_s=['today','is','sunday','brother']\n",
    "k_s.sort()\n",
    "lk_s=k_s[0]\n",
    "for s in k_s:\n",
    "    if len(s)<len(lk_s):\n",
    "        lk_s=s\n",
    "print(\"longest string:\",lk_s)\n",
    "        "
   ]
  },
  {
   "cell_type": "code",
   "execution_count": 60,
   "id": "e7a0312a",
   "metadata": {},
   "outputs": [
    {
     "name": "stdout",
     "output_type": "stream",
     "text": [
      "list of the first 5 triangular numbers: [1, 3, 6, 10, 15]\n"
     ]
    }
   ],
   "source": [
    "#48. Create a list of the first n triangular numbers.\n",
    "def triangular_numbers(n):\n",
    "    return [i*(i+1)//2 for i in range(1,n+1)]\n",
    "n=5\n",
    "_t_l=triangular_numbers(n)\n",
    "print(\"list of the first\",n,'triangular numbers:',_t_l)"
   ]
  },
  {
   "cell_type": "code",
   "execution_count": 61,
   "id": "938403d4",
   "metadata": {},
   "outputs": [
    {
     "name": "stdout",
     "output_type": "stream",
     "text": [
      "[1, 6, 7] is a subsequence of [1, 2, 3, 4, 5, 6, 7].\n"
     ]
    }
   ],
   "source": [
    "#49. Check if a list contains another list as a subsequence\n",
    "def is_subsequence(sub, main):\n",
    "    # Initialize indices for both lists\n",
    "    sub_index = 0\n",
    "    main_index = 0\n",
    "\n",
    "    # Iterate through the main list\n",
    "    while main_index < len(main) and sub_index < len(sub):\n",
    "        # If the current elements match, move to the next element in the subsequence\n",
    "        if sub[sub_index] == main[main_index]:\n",
    "            sub_index += 1\n",
    "        # Move to the next element in the main list\n",
    "        main_index += 1\n",
    "\n",
    "    # If we reached the end of the subsequence, it's a subsequence of the main list\n",
    "    return sub_index == len(sub)\n",
    "\n",
    "# Example usage:\n",
    "main_list = [1, 2, 3, 4, 5, 6, 7]\n",
    "sub_list = [1,6,7]\n",
    "\n",
    "if is_subsequence(sub_list, main_list):\n",
    "    print(f\"{sub_list} is a subsequence of {main_list}.\")\n",
    "else:\n",
    "    print(f\"{sub_list} is not a subsequence of {main_list}.\")\n"
   ]
  },
  {
   "cell_type": "code",
   "execution_count": 62,
   "id": "e2b20590",
   "metadata": {},
   "outputs": [
    {
     "name": "stdout",
     "output_type": "stream",
     "text": [
      "list after swapping elements: [1, 4, 3, 2, 5]\n"
     ]
    }
   ],
   "source": [
    "#50 Swap two elements in a list by their indices\n",
    "l_1=[1,2,3,4,5]\n",
    "index1=1\n",
    "index2=3\n",
    "temp=l_1[index1]\n",
    "l_1[index1]=l_1[index2]\n",
    "l_1[index2]=temp\n",
    "print(\"list after swapping elements:\",l_1)"
   ]
  },
  {
   "cell_type": "markdown",
   "id": "05a1122f",
   "metadata": {},
   "source": [
    "# Tuple based practice problem :"
   ]
  },
  {
   "cell_type": "code",
   "execution_count": 63,
   "id": "ed9eaf51",
   "metadata": {},
   "outputs": [
    {
     "name": "stdout",
     "output_type": "stream",
     "text": [
      "(2, 6, 3, 5, 7) <class 'tuple'>\n"
     ]
    }
   ],
   "source": [
    "#1. Create a tuple with integers from 1 to 5.\n",
    "t_l=(2,6,3,5,7)\n",
    "print(t_l,type(t_l))"
   ]
  },
  {
   "cell_type": "code",
   "execution_count": 64,
   "id": "f08c8bf8",
   "metadata": {},
   "outputs": [
    {
     "name": "stdout",
     "output_type": "stream",
     "text": [
      "the third element is: 3\n"
     ]
    }
   ],
   "source": [
    "#2. Access the third element of a tuple\n",
    "t_l2=(2,6,3,5,7)\n",
    "print(\"the third element is:\",t_l2[2])"
   ]
  },
  {
   "cell_type": "code",
   "execution_count": 65,
   "id": "f657708d",
   "metadata": {},
   "outputs": [
    {
     "name": "stdout",
     "output_type": "stream",
     "text": [
      "the length of tuple is: 5\n"
     ]
    }
   ],
   "source": [
    "3.# Find the length of a tuple without using the len() function.\n",
    "t_l3=(2,6,3,5,7)\n",
    "c=1\n",
    "l_s_t3=list(t_l3)\n",
    "le_=c+l_s_t3.index(l_s_t3[-1])\n",
    "print(\"the length of tuple is:\",le_)"
   ]
  },
  {
   "cell_type": "code",
   "execution_count": 66,
   "id": "6dca395e",
   "metadata": {},
   "outputs": [
    {
     "name": "stdout",
     "output_type": "stream",
     "text": [
      "enter a number which you want to count:3\n",
      "the count of 3 is 2\n"
     ]
    }
   ],
   "source": [
    "#4. Count the occurrences of an element in a tuple\n",
    "t_l4=(1,2,3,3,2,1,5,6)\n",
    "e_c=int(input(\"enter a number which you want to count:\"))\n",
    "c_t=0\n",
    "for i in t_l4:\n",
    "    if e_c==i:\n",
    "        c_t+=1\n",
    "print(\"the count of\",e_c,'is',c_t)\n",
    "    "
   ]
  },
  {
   "cell_type": "code",
   "execution_count": 68,
   "id": "3d131c0b",
   "metadata": {},
   "outputs": [
    {
     "name": "stdout",
     "output_type": "stream",
     "text": [
      "enter a number you want to know the occurance2\n",
      "the first occurance of2 is an index 1\n"
     ]
    }
   ],
   "source": [
    "#5. Find the index of the first occurrence of an element in a tuple.\n",
    "t_15=(1,2,3,3,2,1,5,6)\n",
    "f_oc=int(input(\"enter a number you want to know the occurance\"))\n",
    "index=-1\n",
    "for i, item in enumerate(t_15):\n",
    "    if item == element_to_find:\n",
    "        index = i\n",
    "        break\n",
    "if index != -1:\n",
    "    print(f\"the first occurance of{element_to_find} is an index {index}\")\n",
    "else:\n",
    "    print(f\"{element_to_find} is not found in the tuple.\")\n",
    "\n",
    "        \n"
   ]
  },
  {
   "cell_type": "code",
   "execution_count": 69,
   "id": "4b883213",
   "metadata": {},
   "outputs": [
    {
     "name": "stdout",
     "output_type": "stream",
     "text": [
      "enter a number u want to check3\n",
      "yes the no 3 present in (1, 2, 3, 4, 5)\n"
     ]
    }
   ],
   "source": [
    "#6. Check if an element exists in a tuple\n",
    "t_6=(1,2,3,4,5)\n",
    "e_tc=int(input(\"enter a number u want to check\"))\n",
    "if e_tc in t_6:\n",
    "    print(f\"yes the no {e_tc} present in {t_6}\")\n",
    "else:\n",
    "    print(\"no the no not present\")"
   ]
  },
  {
   "cell_type": "code",
   "execution_count": 70,
   "id": "ca35ff20",
   "metadata": {},
   "outputs": [
    {
     "name": "stdout",
     "output_type": "stream",
     "text": [
      "[1, 2, 3, 4, 5] <class 'list'>\n"
     ]
    }
   ],
   "source": [
    "#7. Convert a tuple to a list.\n",
    "t_7=(1,2,3,4,5)\n",
    "l_t=list(t_7)\n",
    "print(l_t,type(l_t))"
   ]
  },
  {
   "cell_type": "code",
   "execution_count": 71,
   "id": "231efd77",
   "metadata": {},
   "outputs": [
    {
     "name": "stdout",
     "output_type": "stream",
     "text": [
      "(13, 1, 2, 4, 5, 6) <class 'tuple'>\n"
     ]
    }
   ],
   "source": [
    "#8. Convert a list to a tuple.\n",
    "l_st=[13,1,2,4,5,6]\n",
    "t_p_l=tuple(l_st)\n",
    "print(t_p_l,type(t_p_l))"
   ]
  },
  {
   "cell_type": "code",
   "execution_count": 72,
   "id": "d84abb5b",
   "metadata": {},
   "outputs": [
    {
     "name": "stdout",
     "output_type": "stream",
     "text": [
      "var1: 11\n",
      "var2: 12\n",
      "var3: 13\n"
     ]
    }
   ],
   "source": [
    "#9. Unpack the elements of a tuple into variables.\n",
    "t_p_l9=(11,12,13)\n",
    "m,n,o=t_p_l9\n",
    "print('var1:',m)\n",
    "print('var2:',n)\n",
    "print('var3:',o)"
   ]
  },
  {
   "cell_type": "code",
   "execution_count": 73,
   "id": "6470a90f",
   "metadata": {},
   "outputs": [
    {
     "name": "stdout",
     "output_type": "stream",
     "text": [
      "(2, 4, 6, 8, 10) <class 'tuple'>\n"
     ]
    }
   ],
   "source": [
    "#10. Create a tuple of even numbers from 1 to 10.\n",
    "e_no_l=[num for num in range(2,11,2)]\n",
    "t_eno=tuple(e_no_l)\n",
    "print(t_eno,type(t_eno))"
   ]
  },
  {
   "cell_type": "code",
   "execution_count": 74,
   "id": "a904b9cf",
   "metadata": {},
   "outputs": [
    {
     "name": "stdout",
     "output_type": "stream",
     "text": [
      "(1, 3, 5, 7, 9) <class 'tuple'>\n"
     ]
    }
   ],
   "source": [
    "#11. Create a tuple of odd numbers from 1 to 10\n",
    "e_no_l=[num for num in range(1,11,2)]\n",
    "t_eno=tuple(e_no_l)\n",
    "print(t_eno,type(t_eno))"
   ]
  },
  {
   "cell_type": "code",
   "execution_count": 75,
   "id": "c5655f91",
   "metadata": {},
   "outputs": [
    {
     "name": "stdout",
     "output_type": "stream",
     "text": [
      "(1, 2, 3, 4, 5, 6, 7, 8)\n"
     ]
    }
   ],
   "source": [
    "#12. Concatenate two tuples.\n",
    "t_121=(1,2,3,4)\n",
    "t_122=(5,6,7,8)\n",
    "t_n12=t_121+t_122\n",
    "print(t_n12)"
   ]
  },
  {
   "cell_type": "code",
   "execution_count": 76,
   "id": "ad3eb6e8",
   "metadata": {},
   "outputs": [
    {
     "name": "stdout",
     "output_type": "stream",
     "text": [
      "repeated tuple (5, 6, 7, 8, 5, 6, 7, 8, 5, 6, 7, 8)\n"
     ]
    }
   ],
   "source": [
    "#13. Repeat a tuple three times.\n",
    "t_123=(5,6,7,8)\n",
    "print(\"repeated tuple\",t_123*3)"
   ]
  },
  {
   "cell_type": "code",
   "execution_count": 77,
   "id": "e581d763",
   "metadata": {},
   "outputs": [
    {
     "name": "stdout",
     "output_type": "stream",
     "text": [
      "the tuple is empty\n",
      "the tuple (1, 2, 3, 4) is non_empty\n"
     ]
    }
   ],
   "source": [
    "#14. Check if a tuple is empty.\n",
    "a_1=()\n",
    "if not a_1:\n",
    "    print(\"the tuple is empty\")\n",
    "else:\n",
    "    print(\"the tuple is non_empty\")\n",
    "a_2=(1,2,3,4)\n",
    "if not a_2:\n",
    "    print(\"the tuple is empty\")\n",
    "else:\n",
    "    print(\"the tuple {} is non_empty\".format(a_2))"
   ]
  },
  {
   "cell_type": "code",
   "execution_count": 78,
   "id": "3fce1676",
   "metadata": {},
   "outputs": [
    {
     "name": "stdout",
     "output_type": "stream",
     "text": [
      "nested tuple: ((1, 2, 3), ('s', 'h', 't'), (True, False))\n"
     ]
    }
   ],
   "source": [
    "#15. Create a nested tuple.\n",
    "n_t=((1,2,3),('s','h','t'),(True,False))\n",
    "print(\"nested tuple:\",n_t)"
   ]
  },
  {
   "cell_type": "code",
   "execution_count": 79,
   "id": "8d2c5bf2",
   "metadata": {},
   "outputs": [
    {
     "name": "stdout",
     "output_type": "stream",
     "text": [
      "the first element of a nested tuple is (1, 2, 3)\n"
     ]
    }
   ],
   "source": [
    "#16. Access the first element of a nested tuple.\n",
    "n_t1=((1,2,3),('s','h','t'),(True,False))\n",
    "print(\"the first element of a nested tuple is\",n_t1[0])"
   ]
  },
  {
   "cell_type": "code",
   "execution_count": 80,
   "id": "e5cfef89",
   "metadata": {},
   "outputs": [
    {
     "name": "stdout",
     "output_type": "stream",
     "text": [
      "(1,) <class 'tuple'>\n"
     ]
    }
   ],
   "source": [
    "#17. Create a tuple with a single element.\n",
    "t_s=(1,)\n",
    "print(t_s,type(t_s))"
   ]
  },
  {
   "cell_type": "code",
   "execution_count": 81,
   "id": "6b9b9f6b",
   "metadata": {},
   "outputs": [
    {
     "name": "stdout",
     "output_type": "stream",
     "text": [
      "tuple1==tuple2: False\n",
      "tuple1!=tuple2: True\n",
      "tuple1<=tuple2: True\n",
      "tuple1>=tuple2: False\n",
      "tuple1==tuple2: True\n",
      "tuple1==tuple2: False\n"
     ]
    }
   ],
   "source": [
    "#18. Compare two tuples.\n",
    "t_1=(1,2,3,4,2,3)\n",
    "t_2=(2,3,7,8,8,9)\n",
    "print(\"tuple1==tuple2:\",t_1==t_2)\n",
    "print(\"tuple1!=tuple2:\",t_1!=t_2)\n",
    "print(\"tuple1<=tuple2:\",t_1<=t_2)\n",
    "print(\"tuple1>=tuple2:\",t_1>=t_2)\n",
    "print(\"tuple1==tuple2:\",t_1<t_2)\n",
    "print(\"tuple1==tuple2:\",t_1>t_2)"
   ]
  },
  {
   "cell_type": "code",
   "execution_count": 82,
   "id": "bed163b1",
   "metadata": {},
   "outputs": [],
   "source": [
    "#19. Delete a tuple.\n",
    "t_19=(4,5,5,6,7)\n",
    "del t_19"
   ]
  },
  {
   "cell_type": "code",
   "execution_count": 83,
   "id": "df84e61e",
   "metadata": {},
   "outputs": [
    {
     "name": "stdout",
     "output_type": "stream",
     "text": [
      "3\n"
     ]
    }
   ],
   "source": [
    "#20. Slice a tuple.\n",
    "t_20=(1,2,3,4)\n",
    "print(t_20[2])"
   ]
  },
  {
   "cell_type": "code",
   "execution_count": 84,
   "id": "9ed66847",
   "metadata": {},
   "outputs": [
    {
     "name": "stdout",
     "output_type": "stream",
     "text": [
      "maximum value is: 7\n"
     ]
    }
   ],
   "source": [
    "#21. Find the maximum value in a tuple.\n",
    "t_21=(3,6,5,3,6,7)\n",
    "\n",
    "print(\"maximum value is:\",max(t_21))"
   ]
  },
  {
   "cell_type": "code",
   "execution_count": 85,
   "id": "b7099586",
   "metadata": {},
   "outputs": [
    {
     "name": "stdout",
     "output_type": "stream",
     "text": [
      "maximum value is: 3\n"
     ]
    }
   ],
   "source": [
    "#22. Find the minimum value in a tuple\n",
    "t_22=(3,6,5,3,6,7)\n",
    "print(\"maximum value is:\",min(t_22))"
   ]
  },
  {
   "cell_type": "code",
   "execution_count": 86,
   "id": "d567ae89",
   "metadata": {},
   "outputs": [
    {
     "name": "stdout",
     "output_type": "stream",
     "text": [
      "tuple characters is: ('h', 'e', 'l', 'l', 'o')\n"
     ]
    }
   ],
   "source": [
    "#23. Convert a string to a tuple of characters.\n",
    "s_23=\"hello\"\n",
    "t_23=tuple(s_23)\n",
    "print(\"tuple characters is:\",t_23)"
   ]
  },
  {
   "cell_type": "code",
   "execution_count": 87,
   "id": "8454e838",
   "metadata": {},
   "outputs": [
    {
     "name": "stdout",
     "output_type": "stream",
     "text": [
      "hello\n"
     ]
    }
   ],
   "source": [
    "#24. Convert a tuple of characters to a string\n",
    "t_24=('h', 'e', 'l', 'l', 'o')\n",
    "s_24=\"\".join(t_24)\n",
    "print(s_24)"
   ]
  },
  {
   "cell_type": "code",
   "execution_count": 88,
   "id": "76a6768c",
   "metadata": {},
   "outputs": [
    {
     "name": "stdout",
     "output_type": "stream",
     "text": [
      "(1, 2.3, 's', (2+3j), True) <class 'tuple'>\n"
     ]
    }
   ],
   "source": [
    "#25. Create a tuple from multiple data types.\n",
    "t_25=(1,2.3,'s',2+3j,True)\n",
    "print(t_25,type(t_25))"
   ]
  },
  {
   "cell_type": "code",
   "execution_count": 89,
   "id": "a9db1ffb",
   "metadata": {},
   "outputs": [
    {
     "name": "stdout",
     "output_type": "stream",
     "text": [
      "x=(1, 2, 3),y=(4, 5, 6) are identical: False\n",
      "x=(1, 2, 3),y=(1, 2, 3) are identical: True\n"
     ]
    }
   ],
   "source": [
    "#26. Check if two tuples are identical.\n",
    "x=(1,2,3)\n",
    "y=(4,5,6)\n",
    "z=(1,2,3)\n",
    "print(\"x={},y={} are identical: {}\".format(x,y,x==y))\n",
    "print(\"x={},y={} are identical: {}\".format(x,z,x==z))\n"
   ]
  },
  {
   "cell_type": "code",
   "execution_count": 90,
   "id": "3a4b4246",
   "metadata": {},
   "outputs": [
    {
     "name": "stdout",
     "output_type": "stream",
     "text": [
      "sorted tuple (1, 2, 4, 4, 5, 6)\n"
     ]
    }
   ],
   "source": [
    "#27. Sort the elements of a tuple.\n",
    "t_27=(4,2,6,4,5,1)\n",
    "s_et=tuple(sorted(t_27))\n",
    "print('sorted tuple',s_et)"
   ]
  },
  {
   "cell_type": "code",
   "execution_count": 91,
   "id": "40936f0f",
   "metadata": {},
   "outputs": [
    {
     "name": "stdout",
     "output_type": "stream",
     "text": [
      "('3', '2', '5', '7', '5', '6') <class 'tuple'>\n"
     ]
    }
   ],
   "source": [
    "#28. Convert a tuple of integers to a tuple of strings\n",
    "t_28=(3,2,5,7,5,6)\n",
    "st_28=tuple(str(i) for i in t_28)\n",
    "print(st_28,type(st_28))"
   ]
  },
  {
   "cell_type": "code",
   "execution_count": 92,
   "id": "605221ab",
   "metadata": {
    "scrolled": true
   },
   "outputs": [
    {
     "name": "stdout",
     "output_type": "stream",
     "text": [
      "(3, 2, 5, 7, 5, 6) <class 'tuple'>\n"
     ]
    }
   ],
   "source": [
    "#29. Convert a tuple of strings to a tuple of integers.\n",
    "t_29=('3', '2', '5', '7', '5', '6')\n",
    "st_29=tuple(int(i) for i in t_29)\n",
    "print(st_29,type(st_29))"
   ]
  },
  {
   "cell_type": "code",
   "execution_count": 93,
   "id": "d1d5c8e4",
   "metadata": {},
   "outputs": [
    {
     "name": "stdout",
     "output_type": "stream",
     "text": [
      "the merged tuple: (6, 4, 5, 7, 3, 6, 4, 8)\n"
     ]
    }
   ],
   "source": [
    "#30. Merge two tuples.\n",
    "t_30=(6,4,5,7)\n",
    "t_3_1=(3,6,4,8)\n",
    "m_t=t_30+t_3_1\n",
    "print(\"the merged tuple:\",m_t)"
   ]
  },
  {
   "cell_type": "code",
   "execution_count": 94,
   "id": "5a252694",
   "metadata": {},
   "outputs": [
    {
     "name": "stdout",
     "output_type": "stream",
     "text": [
      "flattened tuple: (1, 2, 3, 4, 5, 6, 7, 8, 9)\n"
     ]
    }
   ],
   "source": [
    "#31. Flatten a nested tuple\n",
    "def flatten_tuple(nested_tuple):\n",
    "    flattened=[]\n",
    "    for item in nested_tuple:\n",
    "        if isinstance(item,tuple):\n",
    "            flattened.extend(flatten_tuple(item))\n",
    "        else:\n",
    "            flattened.append(item)\n",
    "    return flattened\n",
    "nested_tuple=((1,2,3),(4,5,6),(7,(8,9)))\n",
    "flattened_tuple=tuple(flatten_tuple(nested_tuple))\n",
    "print(\"flattened tuple:\",flattened_tuple)"
   ]
  },
  {
   "cell_type": "code",
   "execution_count": 95,
   "id": "959bb374",
   "metadata": {},
   "outputs": [
    {
     "name": "stdout",
     "output_type": "stream",
     "text": [
      "tuple of prime nos is (2, 3, 5, 7, 11)\n"
     ]
    }
   ],
   "source": [
    "#32. Create a tuple of the first 5 prime numbers\n",
    "def is_prime(num):\n",
    "    if num<=1:\n",
    "        return False\n",
    "    for i in range(2,int(num**0.5+1)):\n",
    "        if num%i==0:\n",
    "            return False\n",
    "    return True\n",
    "p_n_l=[num for num in range(2,100) if is_prime(num)][:5]\n",
    "p_n_t=tuple(p_n_l)\n",
    "print(\"tuple of prime nos is\",p_n_t)"
   ]
  },
  {
   "cell_type": "code",
   "execution_count": 96,
   "id": "fa9af35c",
   "metadata": {},
   "outputs": [
    {
     "name": "stdout",
     "output_type": "stream",
     "text": [
      "palindrome tuple is a tuple: True\n",
      "non palindrome_tuple is a palindrome False\n"
     ]
    }
   ],
   "source": [
    "#33. Check if a tuple is a palindrome.\n",
    "def is_palindrome(tup):\n",
    "    return tup==tup[::-1]\n",
    "palindrome_tuple=(1,2,3,2,1)\n",
    "n_p_t=(1,2,3,4,5)\n",
    "is_palindrome1=is_palindrome(palindrome_tuple)\n",
    "is_palindrome2=is_palindrome(n_p_t)\n",
    "print(\"palindrome tuple is a tuple:\",is_palindrome1)\n",
    "print(\"non palindrome_tuple is a palindrome\",is_palindrome2)"
   ]
  },
  {
   "cell_type": "code",
   "execution_count": 97,
   "id": "0d474391",
   "metadata": {},
   "outputs": [
    {
     "name": "stdout",
     "output_type": "stream",
     "text": [
      "(1, 4, 9, 16, 25)\n"
     ]
    }
   ],
   "source": [
    "#34. Create a tuple of squares of numbers from 1 to 5.\n",
    "t_34=tuple(i**2 for i in range(1,6))\n",
    "print(t_34)"
   ]
  },
  {
   "cell_type": "code",
   "execution_count": 98,
   "id": "425a6ceb",
   "metadata": {},
   "outputs": [
    {
     "name": "stdout",
     "output_type": "stream",
     "text": [
      "even numbers are: (4, 8)\n"
     ]
    }
   ],
   "source": [
    "#35. Filter out all even numbers from a tuple.\n",
    "t_35=(3,5,4,7,8,9)\n",
    "t_en=tuple(i for i in t_35 if i%2==0)\n",
    "print(\"even numbers are:\",t_en)"
   ]
  },
  {
   "cell_type": "code",
   "execution_count": 99,
   "id": "c7f80141",
   "metadata": {},
   "outputs": [
    {
     "name": "stdout",
     "output_type": "stream",
     "text": [
      "(2, 4, 6, 8)\n"
     ]
    }
   ],
   "source": [
    "#36. Multiply all elements in a tuple by 2.\n",
    "t_36=(1,2,3,4)\n",
    "t_m2=tuple(i*2 for i in t_36)\n",
    "print(t_m2)"
   ]
  },
  {
   "cell_type": "code",
   "execution_count": 100,
   "id": "f3ccd1fa",
   "metadata": {},
   "outputs": [
    {
     "name": "stdout",
     "output_type": "stream",
     "text": [
      "random tuple is: (58, 95, 27, 63, 50, 82, 81, 66, 10, 39)\n"
     ]
    }
   ],
   "source": [
    "#37. Create a tuple of random numbers\n",
    "import random\n",
    "r_t=tuple(random.randint(1,100) for _ in range(10))\n",
    "print(\"random tuple is:\",r_t)"
   ]
  },
  {
   "cell_type": "code",
   "execution_count": 101,
   "id": "d19b5aa6",
   "metadata": {},
   "outputs": [
    {
     "name": "stdout",
     "output_type": "stream",
     "text": [
      "the tuple (1, 2, 3, 4) is sorted True \n",
      "the tuple (5, 3, 8, 6) is sorted False\n"
     ]
    }
   ],
   "source": [
    "#38. Check if a tuple is sorted.\n",
    "def is_sorted(tup):\n",
    "    for i in range(len(tup)-1):\n",
    "        if tup[i]>tup[i+1]:\n",
    "            return False\n",
    "    return True\n",
    "s_t38=(1,2,3,4)\n",
    "u_st=(5,3,8,6)\n",
    "is_sorted1=is_sorted(s_t38)\n",
    "is_sorted2=is_sorted(u_st)\n",
    "print(\"the tuple {} is sorted {} \".format(s_t38,is_sorted1))\n",
    "print(\"the tuple {} is sorted {}\".format(u_st,is_sorted2))"
   ]
  },
  {
   "cell_type": "code",
   "execution_count": 102,
   "id": "6219159d",
   "metadata": {},
   "outputs": [
    {
     "name": "stdout",
     "output_type": "stream",
     "text": [
      "(3, 4, 5, 1, 2)\n"
     ]
    }
   ],
   "source": [
    "#39. Rotate a tuple to the left by n positions\n",
    "def rotate_tuple_left(tup,n):\n",
    "    n=n%len(tup)\n",
    "    rotated_tuple=tup[n:]+tup[:n]\n",
    "    return rotated_tuple\n",
    "u_t=(1,2,3,4,5)\n",
    "n_positions=2\n",
    "res=rotate_tuple_left(u_t,n_positions)\n",
    "print(res)"
   ]
  },
  {
   "cell_type": "code",
   "execution_count": 103,
   "id": "c5d12cb6",
   "metadata": {},
   "outputs": [
    {
     "name": "stdout",
     "output_type": "stream",
     "text": [
      "(4, 5, 1, 2, 3)\n"
     ]
    }
   ],
   "source": [
    "#40. Rotate a tuple to the right by n positions.\n",
    "def rotate_ryt(tup,n):\n",
    "    n=n%len(tup)\n",
    "    ryt_rotated_tup=tup[-n:]+tup[:-n]\n",
    "    return ryt_rotated_tup\n",
    "u_t=(1,2,3,4,5)\n",
    "n_positions=2\n",
    "res=rotate_ryt(u_t,n_positions)\n",
    "print(res)\n"
   ]
  },
  {
   "cell_type": "code",
   "execution_count": 104,
   "id": "5e120c1a",
   "metadata": {},
   "outputs": [
    {
     "name": "stdout",
     "output_type": "stream",
     "text": [
      "(0, 1, 1, 2, 3)\n"
     ]
    }
   ],
   "source": [
    "#41. Create a tuple of the first 5 Fibonacci numbers.\n",
    "def generate_fibonacci(n):\n",
    "    fibonacci=[0,1]\n",
    "    while len(fibonacci)<n:\n",
    "        nxt_num=fibonacci[-1]+fibonacci[-2]\n",
    "        fibonacci.append(nxt_num)\n",
    "    return tuple(fibonacci)\n",
    "fibonacci_tuple=generate_fibonacci(5)\n",
    "print(fibonacci_tuple)"
   ]
  },
  {
   "cell_type": "code",
   "execution_count": 105,
   "id": "0e1c4697",
   "metadata": {},
   "outputs": [
    {
     "name": "stdout",
     "output_type": "stream",
     "text": [
      "enter a number seperated by comma:1,2,3,4\n",
      "user_tuple ('1', '2', '3', '4')\n"
     ]
    }
   ],
   "source": [
    "#42. Create a tuple from user input.\n",
    "u_input=input(\"enter a number seperated by comma:\")\n",
    "input_list=u_input.split(\",\")\n",
    "user_tpl=tuple(input_list)\n",
    "print(\"user_tuple\",user_tpl)"
   ]
  },
  {
   "cell_type": "code",
   "execution_count": 106,
   "id": "4d313d7d",
   "metadata": {},
   "outputs": [
    {
     "name": "stdout",
     "output_type": "stream",
     "text": [
      "(13, 12)\n"
     ]
    }
   ],
   "source": [
    "#43. Swap two elements in a tuple.\n",
    "my_tpl=(12,13)\n",
    "element1,element2=my_tpl\n",
    "swapped_tpl=(element2,element1)\n",
    "print(swapped_tpl)"
   ]
  },
  {
   "cell_type": "code",
   "execution_count": 107,
   "id": "a98dc250",
   "metadata": {},
   "outputs": [
    {
     "name": "stdout",
     "output_type": "stream",
     "text": [
      "the reversed tuple is: (7, 6, 5, 4)\n"
     ]
    }
   ],
   "source": [
    "#44. Reverse the elements of a tuple.\n",
    "t_44=(4,5,6,7)\n",
    "t_r=t_44[::-1]\n",
    "print(\"the reversed tuple is:\",t_r)"
   ]
  },
  {
   "cell_type": "code",
   "execution_count": 108,
   "id": "1d7baebd",
   "metadata": {},
   "outputs": [
    {
     "name": "stdout",
     "output_type": "stream",
     "text": [
      "enter a number6\n",
      "tuple of the first n power of 2 is: (2, 4, 8, 16, 32)\n"
     ]
    }
   ],
   "source": [
    "#45. Create a tuple of the first n powers of 2\n",
    "n_t=int(input('enter a number'))\n",
    "t_pl=tuple(2**i for i in range(1,n_t))\n",
    "print(\"tuple of the first n power of 2 is:\",t_pl)"
   ]
  },
  {
   "cell_type": "code",
   "execution_count": 109,
   "id": "ed8df015",
   "metadata": {},
   "outputs": [
    {
     "name": "stdout",
     "output_type": "stream",
     "text": [
      "enter a sentence seperated by commahe,is,my,friend\n",
      "('he', 'is', 'my', 'friend')\n",
      "longest_string friend\n"
     ]
    }
   ],
   "source": [
    "#46. Find the longest string in a tuple of strings.\n",
    "t_46=input(\"enter a sentence seperated by comma\")\n",
    "s_46=t_46.split(\",\")\n",
    "print(tuple(s_46))\n",
    "longest_string=max(s_46,key=len)\n",
    "print(\"longest_string\",longest_string)"
   ]
  },
  {
   "cell_type": "code",
   "execution_count": 110,
   "id": "362fd86c",
   "metadata": {},
   "outputs": [
    {
     "name": "stdout",
     "output_type": "stream",
     "text": [
      "enter a sentence seperated by commahe is good\n",
      "('he is good',)\n",
      "shortest_string he is good\n"
     ]
    }
   ],
   "source": [
    "#47. Find the shortest string in a tuple of strings.\n",
    "t_46=input(\"enter a sentence seperated by comma\")\n",
    "s_46=t_46.split(\",\")\n",
    "print(tuple(s_46))\n",
    "longest_string=min(s_46,key=len)\n",
    "print(\"shortest_string\",longest_string)"
   ]
  },
  {
   "cell_type": "code",
   "execution_count": 111,
   "id": "ec07f1d9",
   "metadata": {},
   "outputs": [
    {
     "name": "stdout",
     "output_type": "stream",
     "text": [
      "tuple of first 4 triangular numbers (1, 3, 6, 10)\n"
     ]
    }
   ],
   "source": [
    "#48. Create a tuple of the first n triangular numbers.\n",
    "n=4\n",
    "triangular_number_tuple=tuple(i*(i+1)//2 for i in range(1,n+1))\n",
    "print(\"tuple of first\",n,\"triangular numbers\",triangular_number_tuple)"
   ]
  },
  {
   "cell_type": "code",
   "execution_count": 112,
   "id": "f8b7f5ba",
   "metadata": {},
   "outputs": [
    {
     "name": "stdout",
     "output_type": "stream",
     "text": [
      "The main tuple contains the sub tuple.\n"
     ]
    }
   ],
   "source": [
    "#49. Check if a tuple contains another tuple as a subsequence.\n",
    "def contains_subsequence(main_tuple, sub_tuple):\n",
    "    if not sub_tuple:\n",
    "        # An empty tuple is considered a subsequence of any tuple.\n",
    "        return True\n",
    "\n",
    "    sub_len = len(sub_tuple)\n",
    "    for i in range(len(main_tuple) - sub_len + 1):\n",
    "        if main_tuple[i:i+sub_len] == sub_tuple:\n",
    "            return True\n",
    "    return False\n",
    "\n",
    "# Example:\n",
    "main_tuple = (1, 2, 3, 4, 5, 6)\n",
    "sub_tuple = (3, 4)\n",
    "\n",
    "if contains_subsequence(main_tuple, sub_tuple):\n",
    "    print(\"The main tuple contains the sub tuple.\")\n",
    "else:\n",
    "    print(\"The main tuple does not contain the sub tuple.\")\n"
   ]
  },
  {
   "cell_type": "code",
   "execution_count": 113,
   "id": "81b7ca93",
   "metadata": {},
   "outputs": [
    {
     "name": "stdout",
     "output_type": "stream",
     "text": [
      "tuple with 0s and 1s is (0, 1, 0, 1)\n"
     ]
    }
   ],
   "source": [
    "#50. Create a tuple of alternating 1s and 0s of length n\n",
    "v=10\n",
    "tp_l=tuple(i%2 for i in range(n))\n",
    "print(\"tuple with 0s and 1s is\",tp_l)\n",
    "\n"
   ]
  },
  {
   "cell_type": "markdown",
   "id": "cceaefe8",
   "metadata": {},
   "source": [
    "# Set based problems:"
   ]
  },
  {
   "cell_type": "code",
   "execution_count": 114,
   "id": "5fa5fa6e",
   "metadata": {},
   "outputs": [
    {
     "name": "stdout",
     "output_type": "stream",
     "text": [
      "{1, 2, 3, 4, 5} <class 'set'>\n"
     ]
    }
   ],
   "source": [
    "#1. Create a set with integers from 1 to 5\n",
    "n=5\n",
    "st_1=set(i for i in range(1,6))\n",
    "print(st_1,type(st_1))"
   ]
  },
  {
   "cell_type": "code",
   "execution_count": 115,
   "id": "71835f2e",
   "metadata": {},
   "outputs": [
    {
     "name": "stdout",
     "output_type": "stream",
     "text": [
      "the new set is {1, 2, 3, 4, 5, 'v'}\n"
     ]
    }
   ],
   "source": [
    "#2. Add an element to a set\n",
    "st_2={1, 2, 3, 4, 5}\n",
    "st_2.add('v')\n",
    "print(\"the new set is\",st_2)"
   ]
  },
  {
   "cell_type": "code",
   "execution_count": 116,
   "id": "ea5332a2",
   "metadata": {},
   "outputs": [
    {
     "name": "stdout",
     "output_type": "stream",
     "text": [
      "{2, 3, 4, 5, 'v'}\n"
     ]
    }
   ],
   "source": [
    "#3. Remove an element from a set.\n",
    "st_3={1, 2, 3, 4, 5, 'v'}\n",
    "st_3.remove(1)\n",
    "print(st_3)"
   ]
  },
  {
   "cell_type": "code",
   "execution_count": 117,
   "id": "5d634f49",
   "metadata": {},
   "outputs": [
    {
     "name": "stdout",
     "output_type": "stream",
     "text": [
      "enter the element to check4\n",
      "yes the element 4 is in {2, 3, 4, 5, 'v'} \n"
     ]
    }
   ],
   "source": [
    "#4. Check if an element exists in a set\n",
    "st_4={2, 3, 4, 5, 'v'}\n",
    "e_tc=int(input(\"enter the element to check\"))\n",
    "if e_tc in st_4:\n",
    "    print(\"yes the element {} is in {} \".format(e_tc,st_4))\n",
    "else:\n",
    "    print(\"no the element {} not in {} \".format(e_tc,st_4))"
   ]
  },
  {
   "cell_type": "code",
   "execution_count": 118,
   "id": "85650c53",
   "metadata": {},
   "outputs": [
    {
     "name": "stdout",
     "output_type": "stream",
     "text": [
      "the length of the set is: 6\n"
     ]
    }
   ],
   "source": [
    "#5. Find the length of a set without using the len() function\n",
    "st_5={2, 3, 4, 5, 'v',8}\n",
    "count=0\n",
    "for i in st_5:\n",
    "    count+=1\n",
    "print(\"the length of the set is:\",count)"
   ]
  },
  {
   "cell_type": "code",
   "execution_count": 119,
   "id": "302b9140",
   "metadata": {},
   "outputs": [
    {
     "name": "stdout",
     "output_type": "stream",
     "text": [
      "set()\n"
     ]
    }
   ],
   "source": [
    "#6. Clear all elements from a set.\n",
    "st_6={2, 3, 4, 5, 'v',8}\n",
    "st_6.clear()\n",
    "print(st_6)"
   ]
  },
  {
   "cell_type": "code",
   "execution_count": 120,
   "id": "62bd2074",
   "metadata": {},
   "outputs": [
    {
     "name": "stdout",
     "output_type": "stream",
     "text": [
      "the even numbers are {2, 4, 6, 8, 10}\n"
     ]
    }
   ],
   "source": [
    "#7. Create a set of even numbers from 1 to 10\n",
    "k=11\n",
    "st_7=set(i for i in range(1,k) if i%2==0)\n",
    "print(\"the even numbers are\",st_7)"
   ]
  },
  {
   "cell_type": "code",
   "execution_count": 121,
   "id": "a819665a",
   "metadata": {},
   "outputs": [
    {
     "name": "stdout",
     "output_type": "stream",
     "text": [
      "the odd numbers are {1, 3, 5, 7, 9}\n"
     ]
    }
   ],
   "source": [
    "#8. Create a set of odd numbers from 1 to 10\n",
    "k=11\n",
    "st_8=set(i for i in range(1,k) if i%2!=0)\n",
    "print(\"the odd numbers are\",st_8)"
   ]
  },
  {
   "cell_type": "code",
   "execution_count": 122,
   "id": "7283ec4d",
   "metadata": {},
   "outputs": [
    {
     "name": "stdout",
     "output_type": "stream",
     "text": [
      "the union is: {1, 2, 3, 4, 5, 6, 7, 8, 9, 10}\n"
     ]
    }
   ],
   "source": [
    "#9. Find the union of two sets\n",
    "st_91={1, 3, 5, 7, 9}\n",
    "st_92={2, 4, 6, 8, 10}\n",
    "st_union=st_91.union(st_92)\n",
    "print(\"the union is:\",st_union)"
   ]
  },
  {
   "cell_type": "code",
   "execution_count": 123,
   "id": "6590b644",
   "metadata": {},
   "outputs": [
    {
     "name": "stdout",
     "output_type": "stream",
     "text": [
      "the intersection is {1, 3}\n"
     ]
    }
   ],
   "source": [
    "#10. Find the intersection of two sets\n",
    "st_10={1, 3, 5, 7, 9}\n",
    "st_101={1, 3, 6, 8, 10}\n",
    "st_intersection=st_10.intersection(st_101)\n",
    "print(\"the intersection is\",st_intersection)"
   ]
  },
  {
   "cell_type": "code",
   "execution_count": 124,
   "id": "bf5db584",
   "metadata": {},
   "outputs": [
    {
     "name": "stdout",
     "output_type": "stream",
     "text": [
      "the set difference is {9, 5, 7}\n"
     ]
    }
   ],
   "source": [
    "#11. Find the difference between two sets\n",
    "st_11={1, 3, 5, 7, 9}\n",
    "st_111={1, 3, 6, 8, 10}\n",
    "st_difference=st_11.difference(st_111)\n",
    "print(\"the set difference is\",st_difference)"
   ]
  },
  {
   "cell_type": "code",
   "execution_count": 125,
   "id": "e3aef7f7",
   "metadata": {},
   "outputs": [
    {
     "name": "stdout",
     "output_type": "stream",
     "text": [
      "yes {1, 3} is subet of {1, 3, 5, 7, 9}\n"
     ]
    }
   ],
   "source": [
    "#12. Check if a set is a subset of another set.\n",
    "st_12={1, 3, 5, 7, 9}\n",
    "st_121={1, 3}\n",
    "st_subset=st_121.issubset(st_12)\n",
    "if st_subset is True:\n",
    "    print(\"yes {} is subet of {}\".format(st_121,st_12))\n",
    "else:    \n",
    "    print(\"{} is not subet of {}\".format(st_121,st_12))\n",
    "    "
   ]
  },
  {
   "cell_type": "code",
   "execution_count": 126,
   "id": "dc958092",
   "metadata": {},
   "outputs": [
    {
     "name": "stdout",
     "output_type": "stream",
     "text": [
      "yes {1, 3, 5, 7, 9} is superset of {1, 3}\n"
     ]
    }
   ],
   "source": [
    "#13. Check if a set is a superset of another set\n",
    "st_13={1, 3, 5, 7, 9}\n",
    "st_131={1, 3}\n",
    "st_superset=st_13.issuperset(st_131)\n",
    "if st_subset is True:\n",
    "    print(\"yes {} is superset of {}\".format(st_13,st_131))\n",
    "else:    \n",
    "    print(\"{} is not superset of {}\".format(st_13,st_131))"
   ]
  },
  {
   "cell_type": "code",
   "execution_count": 127,
   "id": "0b4743e5",
   "metadata": {},
   "outputs": [
    {
     "name": "stdout",
     "output_type": "stream",
     "text": [
      "the list is:[0, 1, 2, 3, 4, 5, 6, 7, 8, 9]\n",
      "set from list is:{0, 1, 2, 3, 4, 5, 6, 7, 8, 9}\n"
     ]
    }
   ],
   "source": [
    "#14. Create a set from a list\n",
    "l_st=[i for i in range(10)]\n",
    "s_et=set(l_st)\n",
    "print(\"the list is:{}\\nset from list is:{}\".format(l_st,s_et))"
   ]
  },
  {
   "cell_type": "code",
   "execution_count": 128,
   "id": "824efb20",
   "metadata": {},
   "outputs": [
    {
     "name": "stdout",
     "output_type": "stream",
     "text": [
      "the list is [1, 2, 3, 4, 5, 6, 7, 8, 9]\n"
     ]
    }
   ],
   "source": [
    "#15. Convert a set to a list.\n",
    "st_15={1, 2, 3, 4, 5, 6, 7, 8, 9}\n",
    "lst_15=list(st_15)\n",
    "print(\"the list is\",lst_15)"
   ]
  },
  {
   "cell_type": "code",
   "execution_count": 129,
   "id": "3f15c629",
   "metadata": {},
   "outputs": [
    {
     "name": "stdout",
     "output_type": "stream",
     "text": [
      "[1, 10, 20, 5]\n"
     ]
    }
   ],
   "source": [
    "l=[1,2,3,4,5]\n",
    "l[1:4]=[10,20]#[2,3,4]=[10,20]\n",
    "print(l)"
   ]
  },
  {
   "cell_type": "code",
   "execution_count": 130,
   "id": "807c40db",
   "metadata": {},
   "outputs": [
    {
     "name": "stdout",
     "output_type": "stream",
     "text": [
      "original set: {1, 2, 3, 4, 5}\n",
      "updated set after removing {1, 3, 4, 5}\n"
     ]
    }
   ],
   "source": [
    "#16. Remove a random element from a set.\n",
    "import random\n",
    "my_set={1,2,3,4,5}\n",
    "print(\"original set:\",my_set)\n",
    "random_element=random.choice(list(my_set))\n",
    "my_set.remove(random_element)\n",
    "print(\"updated set after removing\",my_set)"
   ]
  },
  {
   "cell_type": "code",
   "execution_count": 131,
   "id": "9a4adf87",
   "metadata": {},
   "outputs": [
    {
     "name": "stdout",
     "output_type": "stream",
     "text": [
      "{2, 3, 4}\n"
     ]
    }
   ],
   "source": [
    "#17. Pop an element from a set.\n",
    "st_17={ 1,2, 3, 4}\n",
    "st_17.pop()\n",
    "print(st_17)"
   ]
  },
  {
   "cell_type": "code",
   "execution_count": 132,
   "id": "0463fa7d",
   "metadata": {},
   "outputs": [
    {
     "name": "stdout",
     "output_type": "stream",
     "text": [
      "the set has no common elements\n"
     ]
    }
   ],
   "source": [
    "#18. Check if two sets have no elements in common.\n",
    "st_18={1, 2, 3, 4, 5}\n",
    "st_181={6,7,8,9}\n",
    "st_intersection=st_18.intersection(st_181)\n",
    "if st_intersection==True:\n",
    "    print(\"yes the set has common elements\")\n",
    "else:\n",
    "    print(\"the set has no common elements\")"
   ]
  },
  {
   "cell_type": "code",
   "execution_count": 133,
   "id": "b1c91c85",
   "metadata": {},
   "outputs": [
    {
     "name": "stdout",
     "output_type": "stream",
     "text": [
      "symmetric_difference {1, 2, 5, 6, 7, 8, 9}\n"
     ]
    }
   ],
   "source": [
    "#19. Find the symmetric difference between two sets.\n",
    "st_19={1, 2, 3, 4, 5}\n",
    "st_191={6,7,8,9,3,4}\n",
    "symmetric_difference=st_19.symmetric_difference(st_191)\n",
    "print(\"symmetric_difference\",symmetric_difference)"
   ]
  },
  {
   "cell_type": "code",
   "execution_count": 134,
   "id": "40168f17",
   "metadata": {},
   "outputs": [
    {
     "name": "stdout",
     "output_type": "stream",
     "text": [
      "updated_set {1, 2, 5, 6, 7, 8, 9, 12, 13, 14, 15}\n"
     ]
    }
   ],
   "source": [
    "#20. Update a set with elements from another set.\n",
    "st_20={1, 2, 5, 6, 7, 8, 9}\n",
    "st_201={12,13,14,15}\n",
    "st_20.update(st_201)\n",
    "print(\"updated_set\",st_20)"
   ]
  },
  {
   "cell_type": "code",
   "execution_count": 135,
   "id": "deec0bdb",
   "metadata": {},
   "outputs": [
    {
     "name": "stdout",
     "output_type": "stream",
     "text": [
      "the prime number set is: {2, 3, 5, 7, 11}\n"
     ]
    }
   ],
   "source": [
    "#21. Create a set of the first 5 prime numbers.\n",
    "def is_prime(num):\n",
    "    if num<2:\n",
    "        return False\n",
    "    for i in range(2,int(num**0.5)+1):\n",
    "        if num%i==0:\n",
    "            return False\n",
    "    return True\n",
    "prime_set=set()\n",
    "num=2\n",
    "while len(prime_set)<5:\n",
    "    if is_prime(num):\n",
    "        prime_set.add(num)\n",
    "    num+=1\n",
    "print(\"the prime number set is:\",prime_set)"
   ]
  },
  {
   "cell_type": "code",
   "execution_count": 136,
   "id": "aedc05a8",
   "metadata": {},
   "outputs": [
    {
     "name": "stdout",
     "output_type": "stream",
     "text": [
      "the sets are identical\n"
     ]
    }
   ],
   "source": [
    "#22. Check if two sets are identical.\n",
    "set1 ={1, 2, 3, 4, 5}\n",
    "set2 ={3, 1, 5, 2, 4} \n",
    "if set1==set2:\n",
    "    print(\"the sets are identical\")\n",
    "else:\n",
    "    print(\"the sets are unidentical\")"
   ]
  },
  {
   "cell_type": "code",
   "execution_count": 137,
   "id": "833102f6",
   "metadata": {},
   "outputs": [
    {
     "name": "stdout",
     "output_type": "stream",
     "text": [
      "frozenset: frozenset({3, 4, 5, 6, 7})\n"
     ]
    }
   ],
   "source": [
    "#23. Create a frozen set\n",
    "elements=[3,4,5,6,7]\n",
    "frotzen_set=frozenset(elements)\n",
    "print(\"frozenset:\",frotzen_set)"
   ]
  },
  {
   "cell_type": "code",
   "execution_count": 138,
   "id": "025bd416",
   "metadata": {},
   "outputs": [
    {
     "name": "stdout",
     "output_type": "stream",
     "text": [
      "does the sets disjoint: True\n"
     ]
    }
   ],
   "source": [
    "#24. Create a frozen set\n",
    "st_23={3, 4, 5, 6, 7}\n",
    "st_231={12,8,9}\n",
    "disjoint=st_23.isdisjoint(st_231)\n",
    "print(\"does the sets disjoint:\",disjoint)"
   ]
  },
  {
   "cell_type": "code",
   "execution_count": 139,
   "id": "36d85512",
   "metadata": {},
   "outputs": [
    {
     "name": "stdout",
     "output_type": "stream",
     "text": [
      "the set with squares: {1, 4, 9, 16, 25}\n"
     ]
    }
   ],
   "source": [
    "#25. Create a set of squares of numbers from 1 to 5.\n",
    "st_sq=set(i**2 for i in range(1,6))\n",
    "print(\"the set with squares:\",st_sq)"
   ]
  },
  {
   "cell_type": "code",
   "execution_count": 140,
   "id": "b13cf577",
   "metadata": {},
   "outputs": [
    {
     "name": "stdout",
     "output_type": "stream",
     "text": [
      "the even numbers in set is: {16, 4}\n"
     ]
    }
   ],
   "source": [
    "#26. Filter out all even numbers from a set.\n",
    "st_26={1, 4, 9, 16, 25}\n",
    "st_en={i for i in st_26 if i%2==0}\n",
    "print(\"the even numbers in set is:\",st_en)"
   ]
  },
  {
   "cell_type": "code",
   "execution_count": 141,
   "id": "0a8a493d",
   "metadata": {},
   "outputs": [
    {
     "name": "stdout",
     "output_type": "stream",
     "text": [
      "the multiplied set is {32, 2, 8, 18, 50}\n"
     ]
    }
   ],
   "source": [
    "#27. Multiply all elements in a set by 2\n",
    "st_27={1, 4, 9, 16, 25}\n",
    "n_st={i*2 for i in st_27 }\n",
    "print(\"the multiplied set is\",n_st)"
   ]
  },
  {
   "cell_type": "code",
   "execution_count": 142,
   "id": "858055cf",
   "metadata": {},
   "outputs": [
    {
     "name": "stdout",
     "output_type": "stream",
     "text": [
      "generated set of random numbers: {68, 5, 76, 19, 23}\n"
     ]
    }
   ],
   "source": [
    "#28. Create a set of random numbers.\n",
    "import random\n",
    "num_random_num=5\n",
    "random_number_set=set()\n",
    "for _ in range(num_random_num):\n",
    "    random_num=random.randint(1,100)\n",
    "    random_number_set.add(random_num)\n",
    "print(\"generated set of random numbers:\",random_number_set)"
   ]
  },
  {
   "cell_type": "code",
   "execution_count": 143,
   "id": "9873beb0",
   "metadata": {},
   "outputs": [
    {
     "name": "stdout",
     "output_type": "stream",
     "text": [
      "the set is empty\n"
     ]
    }
   ],
   "source": [
    "#29. Check if a set is empty\n",
    "st_29=set()\n",
    "if not st_29:\n",
    "    print(\"the set is empty\")\n",
    "else:\n",
    "    print(\"the set is not empty\")"
   ]
  },
  {
   "cell_type": "code",
   "execution_count": 144,
   "id": "787b4927",
   "metadata": {},
   "outputs": [
    {
     "name": "stdout",
     "output_type": "stream",
     "text": [
      "{frozenset({18, 87, 88, 45, 46}), frozenset({6, 7, 8, 9, 10})}\n"
     ]
    }
   ],
   "source": [
    "#30. Create a nested set\n",
    "st_30={45, 46, 18, 87, 88}\n",
    "st_301={6, 7, 8, 9, 10}\n",
    "frotzen_set1=frozenset(st_30)\n",
    "frotzen_set2=frozenset(st_301)\n",
    "nested_set={frotzen_set1,frotzen_set2}\n",
    "print(nested_set)"
   ]
  },
  {
   "cell_type": "code",
   "execution_count": 145,
   "id": "ec955a11",
   "metadata": {},
   "outputs": [
    {
     "name": "stdout",
     "output_type": "stream",
     "text": [
      "the discarded set is: {18, 87, 45, 46}\n"
     ]
    }
   ],
   "source": [
    "#31. Remove an element from a set using the discard method.\n",
    "st_31={18, 87, 88, 45, 46}\n",
    "e_t_remove=88\n",
    "st_31.discard(88)\n",
    "print(\"the discarded set is:\",st_31)"
   ]
  },
  {
   "cell_type": "code",
   "execution_count": 146,
   "id": "c51ed939",
   "metadata": {},
   "outputs": [
    {
     "name": "stdout",
     "output_type": "stream",
     "text": [
      "Set_1: {18, 45, 46, 87}\n",
      "Set_2: {2, 18, 3, 87}\n",
      "Is set1 a subset of set2? False\n",
      "Is set2 a subset of set1? False\n",
      "Intersection: {18, 87}\n",
      "Union: {2, 3, 45, 46, 18, 87}\n",
      "Elements in set1 but not in set2: {45, 46}\n",
      "Elements in set2 but not in set1: {2, 3}\n"
     ]
    }
   ],
   "source": [
    "#32. Compare two sets.\n",
    "set_1={18, 87, 45, 46}\n",
    "set_2={18,87,2,3}\n",
    "is_subset = set_1.issubset(set_2)\n",
    "is_superset = set_1.issuperset(set_2)\n",
    "intersection = set_1.intersection(set_2)\n",
    "union = set_1.union(set_2)\n",
    "difference1 = set_1.difference(set_2)\n",
    "difference2 = set_2.difference(set_1)\n",
    "print(\"Set_1:\", set_1)\n",
    "print(\"Set_2:\", set_2)\n",
    "print(\"Is set1 a subset of set2?\", is_subset)\n",
    "print(\"Is set2 a subset of set1?\", is_superset)\n",
    "print(\"Intersection:\", intersection)\n",
    "print(\"Union:\", union)\n",
    "print(\"Elements in set1 but not in set2:\", difference1)\n",
    "print(\"Elements in set2 but not in set1:\", difference2)"
   ]
  },
  {
   "cell_type": "code",
   "execution_count": 147,
   "id": "4af8adb0",
   "metadata": {},
   "outputs": [
    {
     "name": "stdout",
     "output_type": "stream",
     "text": [
      "{'s', 'w', 'i', 'p', 'k', 'l'}\n"
     ]
    }
   ],
   "source": [
    "#33. Create a set from a string.\n",
    "input_str='pwskills'\n",
    "st_33=set(input_str)\n",
    "print(st_33)"
   ]
  },
  {
   "cell_type": "code",
   "execution_count": 148,
   "id": "f65fd28b",
   "metadata": {},
   "outputs": [
    {
     "name": "stdout",
     "output_type": "stream",
     "text": [
      "the integer set is: {1, 2, 3}\n"
     ]
    }
   ],
   "source": [
    "#34. Convert a set of strings to a set of integers.\n",
    "str_set={'1','2','3'}\n",
    "int_set=set()\n",
    "for string in str_set:\n",
    "    int_val=int(string)\n",
    "    int_set.add(int_val)\n",
    "print(\"the integer set is:\",int_set)"
   ]
  },
  {
   "cell_type": "code",
   "execution_count": 149,
   "id": "421059ee",
   "metadata": {},
   "outputs": [
    {
     "name": "stdout",
     "output_type": "stream",
     "text": [
      "original set {2, 3, 18, 87, 45, 46}\n",
      "string set {'45', '87', '2', '3', '46', '18'}\n"
     ]
    }
   ],
   "source": [
    "#35. Convert a set of integers to a set of strings.\n",
    "int_set={2, 3, 45, 46, 18, 87}\n",
    "str_st=set()\n",
    "for num in int_set:\n",
    "    num_str=str(num)\n",
    "    str_st.add(num_str)\n",
    "print(\"original set\",int_set)\n",
    "print(\"string set\",str_st)"
   ]
  },
  {
   "cell_type": "code",
   "execution_count": 150,
   "id": "b4a8dfa4",
   "metadata": {
    "scrolled": true
   },
   "outputs": [
    {
     "name": "stdout",
     "output_type": "stream",
     "text": [
      "the set is: {2, 3, 45, 46, 18, 87}\n"
     ]
    }
   ],
   "source": [
    "#36. Create a set from a tuple.\n",
    "i_tpl=(2, 3, 18, 87, 45, 46)\n",
    "st_36=print(\"the set is:\",set(i_tpl))\n"
   ]
  },
  {
   "cell_type": "code",
   "execution_count": 151,
   "id": "8bb18553",
   "metadata": {},
   "outputs": [
    {
     "name": "stdout",
     "output_type": "stream",
     "text": [
      "the tuple form of given set is: (2, 3, 18, 87, 45, 46)\n"
     ]
    }
   ],
   "source": [
    "#37. Convert a set to a tuple.\n",
    "st_37={2, 3, 45, 46, 18, 87}\n",
    "tpl_37=tuple(st_37)\n",
    "print(\"the tuple form of given set is:\",tpl_37)"
   ]
  },
  {
   "cell_type": "code",
   "execution_count": 152,
   "id": "468f2161",
   "metadata": {},
   "outputs": [
    {
     "name": "stdout",
     "output_type": "stream",
     "text": [
      "maximum value 87\n"
     ]
    }
   ],
   "source": [
    "#38. Find the maximum value in a set.\n",
    "st_38={2, 3, 45, 46, 18, 87}\n",
    "max_value=None\n",
    "for num in st_38:\n",
    "    if max_value is None or num>max_value:\n",
    "        max_value=num\n",
    "print(\"maximum value\",max_value)"
   ]
  },
  {
   "cell_type": "code",
   "execution_count": 153,
   "id": "4b11c607",
   "metadata": {},
   "outputs": [
    {
     "name": "stdout",
     "output_type": "stream",
     "text": [
      "minimum value 2\n"
     ]
    }
   ],
   "source": [
    "#39. Find the minimum value in a set.\n",
    "st_39={2, 3, 45, 46, 18, 87}\n",
    "min_value=None\n",
    "for num in st_38:\n",
    "    if min_value is None or num<min_value:\n",
    "        min_value=num\n",
    "print(\"minimum value\",min_value)"
   ]
  },
  {
   "cell_type": "code",
   "execution_count": 154,
   "id": "bf4516e7",
   "metadata": {},
   "outputs": [
    {
     "name": "stdout",
     "output_type": "stream",
     "text": [
      "enter a set by comma seperated value1,2,3,4\n",
      "set created from user input is: {'4', '2', '3', '1'}\n"
     ]
    }
   ],
   "source": [
    "#40.Create a set from user input\n",
    "u_input=input(\"enter a set by comma seperated value\")\n",
    "input_list=u_input.split(\",\")\n",
    "user_set=set(input_list)\n",
    "print(\"set created from user input is:\",user_set)"
   ]
  },
  {
   "cell_type": "code",
   "execution_count": 155,
   "id": "36361c2e",
   "metadata": {},
   "outputs": [
    {
     "name": "stdout",
     "output_type": "stream",
     "text": [
      "the intersection of two elements is not empty\n"
     ]
    }
   ],
   "source": [
    "#41. Check if the intersection of two sets is empty.\n",
    "st_41={1, 2, 3, 4, 5}\n",
    "st_412 = {4, 5, 6, 7, 8}\n",
    "intersectio_n=st_41.intersection(st_412)\n",
    "if not intersectio_n:\n",
    "    print('the intersection of two elements is empty')\n",
    "else:\n",
    "    print(\"the intersection of two elements is not empty\")"
   ]
  },
  {
   "cell_type": "code",
   "execution_count": 156,
   "id": "8d24811f",
   "metadata": {},
   "outputs": [
    {
     "name": "stdout",
     "output_type": "stream",
     "text": [
      "set of the first 5 fibonacci numbers: {0, 1, 2, 3, 5}\n"
     ]
    }
   ],
   "source": [
    "#42. Create a set of the first 5 Fibonacci numbers.\n",
    "fibonacci_set=set()\n",
    "a,b=0,1\n",
    "for _ in range(6):\n",
    "    fibonacci_set.add(a)\n",
    "    a,b=b,a+b\n",
    "print('set of the first 5 fibonacci numbers:',fibonacci_set)"
   ]
  },
  {
   "cell_type": "code",
   "execution_count": 157,
   "id": "54030298",
   "metadata": {},
   "outputs": [
    {
     "name": "stdout",
     "output_type": "stream",
     "text": [
      "list with duplicates is [1, 1, 1, 2, 2, 3, 4, 5, 5, 5]\n",
      "list without duplicates is [1, 2, 3, 4, 5]\n"
     ]
    }
   ],
   "source": [
    "#43. Remove duplicates from a list using sets.\n",
    "l_43=[1,1,1,2,2,3,4,5,5,5]\n",
    "s_43=set(l_43)\n",
    "n_list=list(s_43)\n",
    "print(\"list with duplicates is\",l_43)\n",
    "print(\"list without duplicates is\",n_list)"
   ]
  },
  {
   "cell_type": "code",
   "execution_count": 158,
   "id": "c12b56df",
   "metadata": {},
   "outputs": [
    {
     "name": "stdout",
     "output_type": "stream",
     "text": [
      "the sets have the same elements\n"
     ]
    }
   ],
   "source": [
    "#44. Check if two sets have the same elements, regardless of their count.\n",
    "def have_same_elements(st_44,st_441):\n",
    "    sorted_list1=sorted(st_44)\n",
    "    sorted_list2=sorted(st_441)\n",
    "    return sorted_list1==sorted_list2\n",
    "st_44={1,2,3,2,1}\n",
    "st_441={3,1,2}\n",
    "result=have_same_elements(st_44,st_441)\n",
    "if result:\n",
    "    print(\"the sets have the same elements\")\n",
    "else:\n",
    "    print(\"the set donot have the same elements\")"
   ]
  },
  {
   "cell_type": "code",
   "execution_count": 159,
   "id": "be2e256c",
   "metadata": {},
   "outputs": [
    {
     "name": "stdout",
     "output_type": "stream",
     "text": [
      "enter the number7\n",
      "{32, 64, 2, 4, 8, 16}\n"
     ]
    }
   ],
   "source": [
    "#45. Create a set of the first n powers of 2\n",
    "n=int(input(\"enter the number\"))\n",
    "st_45=set(2**i for i in range(1,n))\n",
    "print(st_45)"
   ]
  },
  {
   "cell_type": "code",
   "execution_count": 160,
   "id": "761edfc1",
   "metadata": {},
   "outputs": [
    {
     "name": "stdout",
     "output_type": "stream",
     "text": [
      "{1, 2}\n"
     ]
    }
   ],
   "source": [
    "#46. Find the common elements between a set and a list.\n",
    "st_46={1,2,3,4}\n",
    "lst_46={1,2}\n",
    "common_elements=st_46.intersection(lst_46)\n",
    "print(set(common_elements))"
   ]
  },
  {
   "cell_type": "code",
   "execution_count": 161,
   "id": "ecf0539a",
   "metadata": {},
   "outputs": [
    {
     "name": "stdout",
     "output_type": "stream",
     "text": [
      "Set of the first 10 triangular numbers: {1, 3, 36, 6, 10, 45, 15, 21, 55, 28}\n"
     ]
    }
   ],
   "source": [
    "#47. Create a set of the first n triangular numbers.\n",
    "def generate_triangular_numbers(n):\n",
    "    triangular_numbers = set()\n",
    "    total = 0\n",
    "    for i in range(1, n + 1):\n",
    "        total += i\n",
    "        triangular_numbers.add(total)\n",
    "    return triangular_numbers\n",
    "n = 10  \n",
    "triangular_set = generate_triangular_numbers(n)\n",
    "print(\"Set of the first\", n, \"triangular numbers:\", triangular_set)\n"
   ]
  },
  {
   "cell_type": "code",
   "execution_count": 162,
   "id": "3b643084",
   "metadata": {},
   "outputs": [
    {
     "name": "stdout",
     "output_type": "stream",
     "text": [
      "no {1, 2} is not subset of {1, 3, 36, 6, 10}\n"
     ]
    }
   ],
   "source": [
    "#48. Check if a set contains another set as a subset.\n",
    "st_48={1, 3, 36, 6, 10}\n",
    "st_481={1, 2}\n",
    "check=st_481.issubset(st_48)\n",
    "if check==True:\n",
    "    print(\"yes {} is subset of {}\".format(st_481,st_48))\n",
    "else:\n",
    "    print(\"no {} is not subset of {}\".format(st_481,st_48))\n"
   ]
  },
  {
   "cell_type": "code",
   "execution_count": 163,
   "id": "5ce10a70",
   "metadata": {},
   "outputs": [
    {
     "name": "stdout",
     "output_type": "stream",
     "text": [
      "Set of alternating 1s and 0s of length 20 : {0, 1}\n"
     ]
    }
   ],
   "source": [
    "#49. Create a set of alternating 1s and 0s of length n.\n",
    "def create_alternating_set(n):\n",
    "    alternating_set = set()\n",
    "    for i in range(n):\n",
    "        alternating_set.add(i % 2)  \n",
    "    return alternating_set\n",
    "n = 20\n",
    "alternating_set = create_alternating_set(n)\n",
    "print(\"Set of alternating 1s and 0s of length\", n, \":\", alternating_set)\n"
   ]
  },
  {
   "cell_type": "code",
   "execution_count": 164,
   "id": "9b416311",
   "metadata": {},
   "outputs": [
    {
     "name": "stdout",
     "output_type": "stream",
     "text": [
      "merged set: {0, 1, 2, 3, 36, 6, 7, 8, 10, 21, 22}\n"
     ]
    }
   ],
   "source": [
    "#50. Merge multiple sets into one.\n",
    "st_50={1, 3, 36, 6, 10}\n",
    "st_501={ 2,8,0,7}\n",
    "st_502={21,22}\n",
    "merged_set=st_50.union(st_501,st_502)\n",
    "print(\"merged set:\",merged_set)"
   ]
  }
 ],
 "metadata": {
  "kernelspec": {
   "display_name": "Python 3 (ipykernel)",
   "language": "python",
   "name": "python3"
  },
  "language_info": {
   "codemirror_mode": {
    "name": "ipython",
    "version": 3
   },
   "file_extension": ".py",
   "mimetype": "text/x-python",
   "name": "python",
   "nbconvert_exporter": "python",
   "pygments_lexer": "ipython3",
   "version": "3.9.7"
  }
 },
 "nbformat": 4,
 "nbformat_minor": 5
}
